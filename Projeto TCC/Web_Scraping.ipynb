{
 "cells": [
  {
   "cell_type": "code",
   "execution_count": 552,
   "id": "21b8f2b7",
   "metadata": {},
   "outputs": [],
   "source": [
    "import tweepy\n",
    "from keys import *\n",
    "import csv\n",
    "import time\n",
    "import pandas as pd"
   ]
  },
  {
   "cell_type": "code",
   "execution_count": 903,
   "id": "4660f5eb",
   "metadata": {},
   "outputs": [],
   "source": [
    "import requests\n",
    "\n",
    "client = tweepy.Client( bearer_token=bearer_token, \n",
    "                        consumer_key=consumer_key, \n",
    "                        consumer_secret=consumer_secret)"
   ]
  },
  {
   "cell_type": "code",
   "execution_count": 857,
   "id": "5efa5d00",
   "metadata": {},
   "outputs": [],
   "source": [
    "start_time = '2022-01-01T00:00:00Z'"
   ]
  },
  {
   "cell_type": "code",
   "execution_count": 860,
   "id": "255fab91",
   "metadata": {
    "scrolled": true
   },
   "outputs": [],
   "source": [
    "def busca(query, lista):\n",
    "    \n",
    "    f = open('search'+'_'+ query + '.csv', 'a', newline='', encoding='utf-8')\n",
    "    w = csv.writer(f)\n",
    "    \n",
    "    w.writerow(['Tweet_ID', 'Tweet_Text', 'Created_at', 'Tweet_Geo', 'User_Name', 'User_Location'])\n",
    "    \n",
    "    try:\n",
    "        tweets = client.search_all_tweets(query=query, tweet_fields=['created_at','geo'],\n",
    "                                          user_fields=['created_at', 'location', 'id','name'],\n",
    "                                          expansions=['author_id','geo.place_id'],\n",
    "                                          place_fields=['place_type', 'geo'],\n",
    "                                          start_time = start_time,\n",
    "                                          max_results=100)\n",
    "        users = {u[\"id\"]: u for u in tweets.includes['users']}\n",
    "\n",
    "        for tweet in tweets.data:\n",
    "            if users[tweet.author_id]:\n",
    "                user = users[tweet.author_id] \n",
    "                \n",
    "            last_id = tweets.meta['oldest_id']\n",
    "            \n",
    "            row = [tweet.id,\n",
    "                   tweet.text,\n",
    "                   tweet.created_at,\n",
    "                   tweet.geo,\n",
    "                   user.name,user.location]\n",
    "\n",
    "            w.writerow(row) \n",
    "        f.close()\n",
    "        lista.append(last_id)\n",
    "\n",
    "    except Exception as e:\n",
    "        f.close()\n",
    "        lista.append(last_id)\n",
    "        print(e)\n",
    "\n",
    "   "
   ]
  },
  {
   "cell_type": "code",
   "execution_count": 861,
   "id": "b02e16e0",
   "metadata": {
    "scrolled": false
   },
   "outputs": [],
   "source": [
    "# Busca Bolsonaro\n",
    "last_ids_b= []\n",
    "query = 'bolsonaro -is:retweet lang:pt'\n"
   ]
  },
  {
   "cell_type": "code",
   "execution_count": 862,
   "id": "34942d29",
   "metadata": {},
   "outputs": [],
   "source": [
    "# Busca Bolsonaro\n",
    "busca(query,last_ids_b)"
   ]
  },
  {
   "cell_type": "code",
   "execution_count": 904,
   "id": "fb3a6e08",
   "metadata": {},
   "outputs": [
    {
     "ename": "UnboundLocalError",
     "evalue": "local variable 'last_id' referenced before assignment",
     "output_type": "error",
     "traceback": [
      "\u001b[0;31m---------------------------------------------------------------------------\u001b[0m",
      "\u001b[0;31mTooManyRequests\u001b[0m                           Traceback (most recent call last)",
      "\u001b[0;32m<ipython-input-832-aab440b02e4f>\u001b[0m in \u001b[0;36mbusca_id\u001b[0;34m(id, lista)\u001b[0m\n\u001b[1;32m      7\u001b[0m     \u001b[0;32mtry\u001b[0m\u001b[0;34m:\u001b[0m\u001b[0;34m\u001b[0m\u001b[0;34m\u001b[0m\u001b[0m\n\u001b[0;32m----> 8\u001b[0;31m         tweets = client.search_all_tweets(query=query, tweet_fields=['created_at','geo'],\n\u001b[0m\u001b[1;32m      9\u001b[0m                                           \u001b[0muser_fields\u001b[0m\u001b[0;34m=\u001b[0m\u001b[0;34m[\u001b[0m\u001b[0;34m'created_at'\u001b[0m\u001b[0;34m,\u001b[0m \u001b[0;34m'location'\u001b[0m\u001b[0;34m,\u001b[0m \u001b[0;34m'id'\u001b[0m\u001b[0;34m,\u001b[0m\u001b[0;34m'name'\u001b[0m\u001b[0;34m]\u001b[0m\u001b[0;34m,\u001b[0m\u001b[0;34m\u001b[0m\u001b[0;34m\u001b[0m\u001b[0m\n",
      "\u001b[0;32m~/opt/anaconda3/lib/python3.8/site-packages/tweepy/client.py\u001b[0m in \u001b[0;36msearch_all_tweets\u001b[0;34m(self, query, **params)\u001b[0m\n\u001b[1;32m   1144\u001b[0m         \u001b[0mparams\u001b[0m\u001b[0;34m[\u001b[0m\u001b[0;34m\"query\"\u001b[0m\u001b[0;34m]\u001b[0m \u001b[0;34m=\u001b[0m \u001b[0mquery\u001b[0m\u001b[0;34m\u001b[0m\u001b[0;34m\u001b[0m\u001b[0m\n\u001b[0;32m-> 1145\u001b[0;31m         return self._make_request(\n\u001b[0m\u001b[1;32m   1146\u001b[0m             \u001b[0;34m\"GET\"\u001b[0m\u001b[0;34m,\u001b[0m \u001b[0;34m\"/2/tweets/search/all\"\u001b[0m\u001b[0;34m,\u001b[0m \u001b[0mparams\u001b[0m\u001b[0;34m=\u001b[0m\u001b[0mparams\u001b[0m\u001b[0;34m,\u001b[0m\u001b[0;34m\u001b[0m\u001b[0;34m\u001b[0m\u001b[0m\n",
      "\u001b[0;32m~/opt/anaconda3/lib/python3.8/site-packages/tweepy/client.py\u001b[0m in \u001b[0;36m_make_request\u001b[0;34m(self, method, route, params, endpoint_parameters, json, data_type, user_auth)\u001b[0m\n\u001b[1;32m    125\u001b[0m \u001b[0;34m\u001b[0m\u001b[0m\n\u001b[0;32m--> 126\u001b[0;31m         response = self.request(method, route, params=request_params,\n\u001b[0m\u001b[1;32m    127\u001b[0m                                 json=json, user_auth=user_auth)\n",
      "\u001b[0;32m~/opt/anaconda3/lib/python3.8/site-packages/tweepy/client.py\u001b[0m in \u001b[0;36mrequest\u001b[0;34m(self, method, route, params, json, user_auth)\u001b[0m\n\u001b[1;32m    113\u001b[0m                 \u001b[0;32melse\u001b[0m\u001b[0;34m:\u001b[0m\u001b[0;34m\u001b[0m\u001b[0;34m\u001b[0m\u001b[0m\n\u001b[0;32m--> 114\u001b[0;31m                     \u001b[0;32mraise\u001b[0m \u001b[0mTooManyRequests\u001b[0m\u001b[0;34m(\u001b[0m\u001b[0mresponse\u001b[0m\u001b[0;34m)\u001b[0m\u001b[0;34m\u001b[0m\u001b[0;34m\u001b[0m\u001b[0m\n\u001b[0m\u001b[1;32m    115\u001b[0m             \u001b[0;32mif\u001b[0m \u001b[0mresponse\u001b[0m\u001b[0;34m.\u001b[0m\u001b[0mstatus_code\u001b[0m \u001b[0;34m>=\u001b[0m \u001b[0;36m500\u001b[0m\u001b[0;34m:\u001b[0m\u001b[0;34m\u001b[0m\u001b[0;34m\u001b[0m\u001b[0m\n",
      "\u001b[0;31mTooManyRequests\u001b[0m: 429 Too Many Requests\nToo Many Requests",
      "\nDuring handling of the above exception, another exception occurred:\n",
      "\u001b[0;31mUnboundLocalError\u001b[0m                         Traceback (most recent call last)",
      "\u001b[0;32m<ipython-input-904-98a900cfa92b>\u001b[0m in \u001b[0;36m<module>\u001b[0;34m\u001b[0m\n\u001b[1;32m      2\u001b[0m \u001b[0mlimit\u001b[0m\u001b[0;34m=\u001b[0m\u001b[0;36m1000\u001b[0m\u001b[0;34m\u001b[0m\u001b[0;34m\u001b[0m\u001b[0m\n\u001b[1;32m      3\u001b[0m \u001b[0;32mwhile\u001b[0m \u001b[0mcont\u001b[0m \u001b[0;34m<\u001b[0m \u001b[0mlimit\u001b[0m\u001b[0;34m:\u001b[0m\u001b[0;34m\u001b[0m\u001b[0;34m\u001b[0m\u001b[0m\n\u001b[0;32m----> 4\u001b[0;31m     \u001b[0mbusca_id\u001b[0m\u001b[0;34m(\u001b[0m\u001b[0mlast_ids_b\u001b[0m\u001b[0;34m[\u001b[0m\u001b[0;34m-\u001b[0m\u001b[0;36m1\u001b[0m\u001b[0;34m]\u001b[0m\u001b[0;34m,\u001b[0m \u001b[0mlast_ids_b\u001b[0m\u001b[0;34m)\u001b[0m\u001b[0;34m\u001b[0m\u001b[0;34m\u001b[0m\u001b[0m\n\u001b[0m\u001b[1;32m      5\u001b[0m     \u001b[0mcont\u001b[0m \u001b[0;34m+=\u001b[0m\u001b[0;36m1\u001b[0m\u001b[0;34m\u001b[0m\u001b[0;34m\u001b[0m\u001b[0m\n\u001b[1;32m      6\u001b[0m     \u001b[0mtime\u001b[0m\u001b[0;34m.\u001b[0m\u001b[0msleep\u001b[0m\u001b[0;34m(\u001b[0m\u001b[0;36m1\u001b[0m\u001b[0;34m)\u001b[0m\u001b[0;34m\u001b[0m\u001b[0;34m\u001b[0m\u001b[0m\n",
      "\u001b[0;32m<ipython-input-832-aab440b02e4f>\u001b[0m in \u001b[0;36mbusca_id\u001b[0;34m(id, lista)\u001b[0m\n\u001b[1;32m     32\u001b[0m     \u001b[0;32mexcept\u001b[0m \u001b[0mException\u001b[0m \u001b[0;32mas\u001b[0m \u001b[0me\u001b[0m\u001b[0;34m:\u001b[0m\u001b[0;34m\u001b[0m\u001b[0;34m\u001b[0m\u001b[0m\n\u001b[1;32m     33\u001b[0m         \u001b[0mf\u001b[0m\u001b[0;34m.\u001b[0m\u001b[0mclose\u001b[0m\u001b[0;34m(\u001b[0m\u001b[0;34m)\u001b[0m\u001b[0;34m\u001b[0m\u001b[0;34m\u001b[0m\u001b[0m\n\u001b[0;32m---> 34\u001b[0;31m         \u001b[0mlista\u001b[0m\u001b[0;34m.\u001b[0m\u001b[0mappend\u001b[0m\u001b[0;34m(\u001b[0m\u001b[0mlast_id\u001b[0m\u001b[0;34m)\u001b[0m\u001b[0;34m\u001b[0m\u001b[0;34m\u001b[0m\u001b[0m\n\u001b[0m\u001b[1;32m     35\u001b[0m         \u001b[0mprint\u001b[0m\u001b[0;34m(\u001b[0m\u001b[0me\u001b[0m\u001b[0;34m)\u001b[0m\u001b[0;34m\u001b[0m\u001b[0;34m\u001b[0m\u001b[0m\n\u001b[1;32m     36\u001b[0m \u001b[0;34m\u001b[0m\u001b[0m\n",
      "\u001b[0;31mUnboundLocalError\u001b[0m: local variable 'last_id' referenced before assignment"
     ]
    }
   ],
   "source": [
    "cont=0\n",
    "limit=1000\n",
    "while cont < limit:\n",
    "    busca_id(last_ids_b[-1], last_ids_b)\n",
    "    cont +=1\n",
    "    time.sleep(1)\n"
   ]
  },
  {
   "cell_type": "code",
   "execution_count": 863,
   "id": "3e3524ef",
   "metadata": {
    "scrolled": true
   },
   "outputs": [
    {
     "data": {
      "text/plain": [
       "['1560211143016288258']"
      ]
     },
     "execution_count": 863,
     "metadata": {},
     "output_type": "execute_result"
    }
   ],
   "source": [
    "last_ids_b"
   ]
  },
  {
   "cell_type": "code",
   "execution_count": 832,
   "id": "30f14f0c",
   "metadata": {},
   "outputs": [],
   "source": [
    "def busca_id (id, lista):\n",
    "    \n",
    "    f = open('search'+'_'+ query + '.csv', 'a', newline='', encoding='utf-8')\n",
    "    w = csv.writer(f)\n",
    "    \n",
    "    \n",
    "    try:\n",
    "        tweets = client.search_all_tweets(query=query, tweet_fields=['created_at','geo'],\n",
    "                                          user_fields=['created_at', 'location', 'id','name'],\n",
    "                                          expansions=['author_id','geo.place_id'],\n",
    "                                          place_fields=['place_type', 'geo'],\n",
    "                                          until_id = id,\n",
    "                                          max_results=100)\n",
    "        users = {u[\"id\"]: u for u in tweets.includes['users']}\n",
    "\n",
    "        for tweet in tweets.data:\n",
    "            if users[tweet.author_id]:\n",
    "                user = users[tweet.author_id] \n",
    "                \n",
    "            last_id = tweets.meta['oldest_id']\n",
    "            \n",
    "            row = [tweet.id,\n",
    "                   tweet.text,\n",
    "                   tweet.created_at,\n",
    "                   tweet.geo,\n",
    "                   user.name,user.location]\n",
    "\n",
    "            w.writerow(row) \n",
    "        f.close()\n",
    "        lista.append(last_id)\n",
    "\n",
    "    except Exception as e:\n",
    "        f.close()\n",
    "        lista.append(last_id)\n",
    "        print(e)\n",
    "        "
   ]
  },
  {
   "cell_type": "code",
   "execution_count": 662,
   "id": "9cab695f",
   "metadata": {},
   "outputs": [],
   "source": [
    "#Busca Lula\n",
    "#query = 'lula -is:retweet lang:pt'\n",
    "#busca(query,last_ids_b)"
   ]
  },
  {
   "cell_type": "code",
   "execution_count": 727,
   "id": "23c04e40",
   "metadata": {},
   "outputs": [],
   "source": [
    "#Busca Ciro\n",
    "#query = 'ciro -is:retweet lang:pt'\n",
    "#busca(query,last_ids_b)"
   ]
  },
  {
   "cell_type": "code",
   "execution_count": 808,
   "id": "bbc6bde5",
   "metadata": {},
   "outputs": [],
   "source": [
    "#Busca Simone Tebet\n",
    "#query = 'simone tebet -is:retweet lang:pt'\n",
    "#busca(query,last_ids_b)"
   ]
  },
  {
   "cell_type": "code",
   "execution_count": 898,
   "id": "55bd4f55",
   "metadata": {},
   "outputs": [],
   "source": [
    "df= pd.read_csv('search_bolsonaro -is:retweet lang:pt.csv')"
   ]
  },
  {
   "cell_type": "code",
   "execution_count": 901,
   "id": "88732301",
   "metadata": {},
   "outputs": [
    {
     "data": {
      "text/html": [
       "<div>\n",
       "<style scoped>\n",
       "    .dataframe tbody tr th:only-of-type {\n",
       "        vertical-align: middle;\n",
       "    }\n",
       "\n",
       "    .dataframe tbody tr th {\n",
       "        vertical-align: top;\n",
       "    }\n",
       "\n",
       "    .dataframe thead th {\n",
       "        text-align: right;\n",
       "    }\n",
       "</style>\n",
       "<table border=\"1\" class=\"dataframe\">\n",
       "  <thead>\n",
       "    <tr style=\"text-align: right;\">\n",
       "      <th></th>\n",
       "      <th>Tweet_ID</th>\n",
       "      <th>Tweet_Text</th>\n",
       "      <th>Created_at</th>\n",
       "      <th>Tweet_Geo</th>\n",
       "      <th>User_Name</th>\n",
       "      <th>User_Location</th>\n",
       "    </tr>\n",
       "  </thead>\n",
       "  <tbody>\n",
       "    <tr>\n",
       "      <th>1043058</th>\n",
       "      <td>1553368860031700993</td>\n",
       "      <td>Nosso presidente Bolsonaro é autêntico, honest...</td>\n",
       "      <td>2022-07-30 13:16:11+00:00</td>\n",
       "      <td>NaN</td>\n",
       "      <td>Terezinha Vendramini</td>\n",
       "      <td>São Paulo, Brasil</td>\n",
       "    </tr>\n",
       "    <tr>\n",
       "      <th>1043059</th>\n",
       "      <td>1553368858458832899</td>\n",
       "      <td>@Pati_Medeiross @JoseMedeirosMT @jairbolsonaro...</td>\n",
       "      <td>2022-07-30 13:16:10+00:00</td>\n",
       "      <td>NaN</td>\n",
       "      <td>2️⃣2️⃣🇧🇷²² Dom Migué ²² / ²² O Morgado ²² 🇧🇷</td>\n",
       "      <td>NaN</td>\n",
       "    </tr>\n",
       "    <tr>\n",
       "      <th>1043060</th>\n",
       "      <td>1553368855896104964</td>\n",
       "      <td>Datafolha: Maioria vê ameaças de Bolsonaro com...</td>\n",
       "      <td>2022-07-30 13:16:10+00:00</td>\n",
       "      <td>NaN</td>\n",
       "      <td>Leo Lima</td>\n",
       "      <td>São Paulo, Brasil</td>\n",
       "    </tr>\n",
       "    <tr>\n",
       "      <th>1043061</th>\n",
       "      <td>1553368852020576256</td>\n",
       "      <td>🇧🇷JAIR BOLSONARO REELEITO 22 PL🇧🇷🇾🇪TARCÍSIO FR...</td>\n",
       "      <td>2022-07-30 13:16:09+00:00</td>\n",
       "      <td>{'place_id': '916bb5de8c23c9ab'}</td>\n",
       "      <td>Douglas de Camargo🇧🇷🙏🏻👊🏻</td>\n",
       "      <td>Indaiatuba, Brasil</td>\n",
       "    </tr>\n",
       "    <tr>\n",
       "      <th>1043062</th>\n",
       "      <td>1553368848040083457</td>\n",
       "      <td>@brumelianebrum BOLSONARO CHEGOU E DESCOBRIMOS...</td>\n",
       "      <td>2022-07-30 13:16:08+00:00</td>\n",
       "      <td>NaN</td>\n",
       "      <td>🖥Ruben Sehn 🇧🇷</td>\n",
       "      <td>Santa Helena - Pr.</td>\n",
       "    </tr>\n",
       "  </tbody>\n",
       "</table>\n",
       "</div>"
      ],
      "text/plain": [
       "                    Tweet_ID  \\\n",
       "1043058  1553368860031700993   \n",
       "1043059  1553368858458832899   \n",
       "1043060  1553368855896104964   \n",
       "1043061  1553368852020576256   \n",
       "1043062  1553368848040083457   \n",
       "\n",
       "                                                Tweet_Text  \\\n",
       "1043058  Nosso presidente Bolsonaro é autêntico, honest...   \n",
       "1043059  @Pati_Medeiross @JoseMedeirosMT @jairbolsonaro...   \n",
       "1043060  Datafolha: Maioria vê ameaças de Bolsonaro com...   \n",
       "1043061  🇧🇷JAIR BOLSONARO REELEITO 22 PL🇧🇷🇾🇪TARCÍSIO FR...   \n",
       "1043062  @brumelianebrum BOLSONARO CHEGOU E DESCOBRIMOS...   \n",
       "\n",
       "                        Created_at                         Tweet_Geo  \\\n",
       "1043058  2022-07-30 13:16:11+00:00                               NaN   \n",
       "1043059  2022-07-30 13:16:10+00:00                               NaN   \n",
       "1043060  2022-07-30 13:16:10+00:00                               NaN   \n",
       "1043061  2022-07-30 13:16:09+00:00  {'place_id': '916bb5de8c23c9ab'}   \n",
       "1043062  2022-07-30 13:16:08+00:00                               NaN   \n",
       "\n",
       "                                            User_Name       User_Location  \n",
       "1043058                          Terezinha Vendramini   São Paulo, Brasil  \n",
       "1043059  2️⃣2️⃣🇧🇷²² Dom Migué ²² / ²² O Morgado ²² 🇧🇷                 NaN  \n",
       "1043060                                      Leo Lima   São Paulo, Brasil  \n",
       "1043061                      Douglas de Camargo🇧🇷🙏🏻👊🏻  Indaiatuba, Brasil  \n",
       "1043062                                🖥Ruben Sehn 🇧🇷  Santa Helena - Pr.  "
      ]
     },
     "execution_count": 901,
     "metadata": {},
     "output_type": "execute_result"
    }
   ],
   "source": [
    "df.tail()"
   ]
  },
  {
   "cell_type": "code",
   "execution_count": 900,
   "id": "4601d859",
   "metadata": {},
   "outputs": [
    {
     "data": {
      "text/plain": [
       "(1043063, 6)"
      ]
     },
     "execution_count": 900,
     "metadata": {},
     "output_type": "execute_result"
    }
   ],
   "source": [
    "df.shape"
   ]
  },
  {
   "cell_type": "code",
   "execution_count": 893,
   "id": "b578e9e7",
   "metadata": {},
   "outputs": [
    {
     "data": {
      "text/plain": [
       "True"
      ]
     },
     "execution_count": 893,
     "metadata": {},
     "output_type": "execute_result"
    }
   ],
   "source": [
    "df['Tweet_ID'].is_unique"
   ]
  },
  {
   "cell_type": "code",
   "execution_count": null,
   "id": "371251b2",
   "metadata": {},
   "outputs": [],
   "source": []
  }
 ],
 "metadata": {
  "kernelspec": {
   "display_name": "Python 3",
   "language": "python",
   "name": "python3"
  },
  "language_info": {
   "codemirror_mode": {
    "name": "ipython",
    "version": 3
   },
   "file_extension": ".py",
   "mimetype": "text/x-python",
   "name": "python",
   "nbconvert_exporter": "python",
   "pygments_lexer": "ipython3",
   "version": "3.8.8"
  }
 },
 "nbformat": 4,
 "nbformat_minor": 5
}
