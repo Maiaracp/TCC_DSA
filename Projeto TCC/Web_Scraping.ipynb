{
 "cells": [
  {
   "cell_type": "code",
   "execution_count": 552,
   "id": "21b8f2b7",
   "metadata": {},
   "outputs": [],
   "source": [
    "import tweepy\n",
    "from keys import *\n",
    "import csv\n",
    "import time\n",
    "import pandas as pd"
   ]
  },
  {
   "cell_type": "code",
   "execution_count": 671,
   "id": "4660f5eb",
   "metadata": {},
   "outputs": [],
   "source": [
    "import requests\n",
    "\n",
    "client = tweepy.Client( bearer_token=bearer_token, \n",
    "                        consumer_key=consumer_key, \n",
    "                        consumer_secret=consumer_secret)"
   ]
  },
  {
   "cell_type": "code",
   "execution_count": 661,
   "id": "5efa5d00",
   "metadata": {},
   "outputs": [],
   "source": [
    "start_time = '2022-01-01T00:00:00Z'"
   ]
  },
  {
   "cell_type": "code",
   "execution_count": 368,
   "id": "255fab91",
   "metadata": {
    "scrolled": true
   },
   "outputs": [],
   "source": [
    "def busca(query, lista):\n",
    "    \n",
    "    f = open('search'+'_'+ query + '.csv', 'a', newline='', encoding='utf-8')\n",
    "    w = csv.writer(f)\n",
    "    \n",
    "    w.writerow(['Tweet_ID', 'Tweet_Text', 'Created_at', 'Tweet_Geo', 'User_Name', 'User_Location'])\n",
    "    \n",
    "    try:\n",
    "        tweets = client.search_all_tweets(query=query, tweet_fields=['created_at','geo'],\n",
    "                                          user_fields=['created_at', 'location', 'id','name'],\n",
    "                                          expansions=['author_id','geo.place_id'],\n",
    "                                          place_fields=['place_type', 'geo'],\n",
    "                                          start_time = start_time,\n",
    "                                          max_results=10)\n",
    "        users = {u[\"id\"]: u for u in tweets.includes['users']}\n",
    "\n",
    "        for tweet in tweets.data:\n",
    "            if users[tweet.author_id]:\n",
    "                user = users[tweet.author_id] \n",
    "                \n",
    "            last_id = tweets.meta['oldest_id']\n",
    "            \n",
    "            row = [tweet.id,\n",
    "                   tweet.text,\n",
    "                   tweet.created_at,\n",
    "                   tweet.geo,\n",
    "                   user.name,user.location]\n",
    "\n",
    "            w.writerow(row) \n",
    "        f.close()\n",
    "        lista.append(last_id)\n",
    "\n",
    "    except Exception as e:\n",
    "        f.close()\n",
    "        lista.append(last_id)\n",
    "        print(e)\n",
    "\n",
    "   "
   ]
  },
  {
   "cell_type": "code",
   "execution_count": 658,
   "id": "b02e16e0",
   "metadata": {
    "scrolled": false
   },
   "outputs": [],
   "source": [
    "# Busca Bolsonaro\n",
    "last_ids_b= []\n",
    "#query = 'bolsonaro -is:retweet lang:pt'\n"
   ]
  },
  {
   "cell_type": "code",
   "execution_count": 406,
   "id": "34942d29",
   "metadata": {},
   "outputs": [],
   "source": [
    "# Busca Bolsonaro\n",
    "#id = busca(query,last_ids_b)"
   ]
  },
  {
   "cell_type": "code",
   "execution_count": null,
   "id": "fb3a6e08",
   "metadata": {},
   "outputs": [],
   "source": [
    "cont=0\n",
    "limit=800\n",
    "while cont < limit:\n",
    "    busca_id(last_ids_b[-1], last_ids_b)\n",
    "    cont +=1\n",
    "    time.sleep(4)\n"
   ]
  },
  {
   "cell_type": "code",
   "execution_count": 659,
   "id": "eed6a159",
   "metadata": {
    "scrolled": true
   },
   "outputs": [
    {
     "data": {
      "text/plain": [
       "0"
      ]
     },
     "execution_count": 659,
     "metadata": {},
     "output_type": "execute_result"
    }
   ],
   "source": [
    "len(last_ids_b)"
   ]
  },
  {
   "cell_type": "code",
   "execution_count": 580,
   "id": "30f14f0c",
   "metadata": {},
   "outputs": [],
   "source": [
    "def busca_id (id, lista):\n",
    "    \n",
    "    f = open('search'+'_'+ query + '.csv', 'a', newline='', encoding='utf-8')\n",
    "    w = csv.writer(f)\n",
    "    \n",
    "    \n",
    "    try:\n",
    "        tweets = client.search_all_tweets(query=query, tweet_fields=['created_at','geo'],\n",
    "                                          user_fields=['created_at', 'location', 'id','name'],\n",
    "                                          expansions=['author_id','geo.place_id'],\n",
    "                                          place_fields=['place_type', 'geo'],\n",
    "                                          until_id = id,\n",
    "                                          max_results=100)\n",
    "        users = {u[\"id\"]: u for u in tweets.includes['users']}\n",
    "\n",
    "        for tweet in tweets.data:\n",
    "            if users[tweet.author_id]:\n",
    "                user = users[tweet.author_id] \n",
    "                \n",
    "            last_id = tweets.meta['oldest_id']\n",
    "            \n",
    "            row = [tweet.id,\n",
    "                   tweet.text,\n",
    "                   tweet.created_at,\n",
    "                   tweet.geo,\n",
    "                   user.name,user.location]\n",
    "\n",
    "            w.writerow(row) \n",
    "        f.close()\n",
    "        lista.append(last_id)\n",
    "\n",
    "    except Exception as e:\n",
    "        f.close()\n",
    "        lista.append(last_id)\n",
    "        print(e)\n",
    "        "
   ]
  },
  {
   "cell_type": "code",
   "execution_count": 662,
   "id": "9cab695f",
   "metadata": {},
   "outputs": [],
   "source": [
    "#Busca Lula\n",
    "query = 'lula -is:retweet lang:pt'\n",
    "busca(query,last_ids_b)"
   ]
  },
  {
   "cell_type": "code",
   "execution_count": null,
   "id": "23c04e40",
   "metadata": {},
   "outputs": [],
   "source": [
    "#Busca Ciro\n",
    "query = 'ciro -is:retweet lang:pt'\n",
    "busca(query)"
   ]
  },
  {
   "cell_type": "code",
   "execution_count": 162,
   "id": "bbc6bde5",
   "metadata": {},
   "outputs": [],
   "source": [
    "#Busca Simone Tebet\n",
    "query = 'simone tebet -is:retweet lang:pt'\n",
    "busca(query)"
   ]
  },
  {
   "cell_type": "code",
   "execution_count": 663,
   "id": "55bd4f55",
   "metadata": {},
   "outputs": [],
   "source": [
    "df= pd.read_csv('search_lula -is:retweet lang:pt.csv')"
   ]
  },
  {
   "cell_type": "code",
   "execution_count": 664,
   "id": "af482e2e",
   "metadata": {},
   "outputs": [
    {
     "data": {
      "text/html": [
       "<div>\n",
       "<style scoped>\n",
       "    .dataframe tbody tr th:only-of-type {\n",
       "        vertical-align: middle;\n",
       "    }\n",
       "\n",
       "    .dataframe tbody tr th {\n",
       "        vertical-align: top;\n",
       "    }\n",
       "\n",
       "    .dataframe thead th {\n",
       "        text-align: right;\n",
       "    }\n",
       "</style>\n",
       "<table border=\"1\" class=\"dataframe\">\n",
       "  <thead>\n",
       "    <tr style=\"text-align: right;\">\n",
       "      <th></th>\n",
       "      <th>Tweet_ID</th>\n",
       "      <th>Tweet_Text</th>\n",
       "      <th>Created_at</th>\n",
       "      <th>Tweet_Geo</th>\n",
       "      <th>User_Name</th>\n",
       "      <th>User_Location</th>\n",
       "    </tr>\n",
       "  </thead>\n",
       "  <tbody>\n",
       "    <tr>\n",
       "      <th>5</th>\n",
       "      <td>1559101337765281793</td>\n",
       "      <td>@allandospanos FOLHA: O senhor certamente sabe...</td>\n",
       "      <td>2022-08-15 08:55:00+00:00</td>\n",
       "      <td>NaN</td>\n",
       "      <td>Luís Guimarães</td>\n",
       "      <td>Rio de Janeiro</td>\n",
       "    </tr>\n",
       "    <tr>\n",
       "      <th>6</th>\n",
       "      <td>1559101333902434306</td>\n",
       "      <td>@joemacarolina @xicosa @joaolucioavotf Impedid...</td>\n",
       "      <td>2022-08-15 08:54:59+00:00</td>\n",
       "      <td>NaN</td>\n",
       "      <td>Luis Marcos</td>\n",
       "      <td>Recife, Brasil</td>\n",
       "    </tr>\n",
       "    <tr>\n",
       "      <th>7</th>\n",
       "      <td>1559101301723635712</td>\n",
       "      <td>@BohnGass @LulaOficial FOLHA: O senhor certame...</td>\n",
       "      <td>2022-08-15 08:54:51+00:00</td>\n",
       "      <td>NaN</td>\n",
       "      <td>Luís Guimarães</td>\n",
       "      <td>Rio de Janeiro</td>\n",
       "    </tr>\n",
       "    <tr>\n",
       "      <th>8</th>\n",
       "      <td>1559101240465825793</td>\n",
       "      <td>@Eduprestesm @farias_leonidas Errado.\\nOs proc...</td>\n",
       "      <td>2022-08-15 08:54:37+00:00</td>\n",
       "      <td>NaN</td>\n",
       "      <td>GusSouza 🇺🇦🏴󠁧󠁢󠁥󠁮󠁧󠁿</td>\n",
       "      <td>Naque, Brasil</td>\n",
       "    </tr>\n",
       "    <tr>\n",
       "      <th>9</th>\n",
       "      <td>1559101239882924034</td>\n",
       "      <td>Lula dá piti em entrevista e garante que não é...</td>\n",
       "      <td>2022-08-15 08:54:36+00:00</td>\n",
       "      <td>NaN</td>\n",
       "      <td>MARCOS BORGES</td>\n",
       "      <td>eua</td>\n",
       "    </tr>\n",
       "  </tbody>\n",
       "</table>\n",
       "</div>"
      ],
      "text/plain": [
       "              Tweet_ID                                         Tweet_Text  \\\n",
       "5  1559101337765281793  @allandospanos FOLHA: O senhor certamente sabe...   \n",
       "6  1559101333902434306  @joemacarolina @xicosa @joaolucioavotf Impedid...   \n",
       "7  1559101301723635712  @BohnGass @LulaOficial FOLHA: O senhor certame...   \n",
       "8  1559101240465825793  @Eduprestesm @farias_leonidas Errado.\\nOs proc...   \n",
       "9  1559101239882924034  Lula dá piti em entrevista e garante que não é...   \n",
       "\n",
       "                  Created_at Tweet_Geo           User_Name   User_Location  \n",
       "5  2022-08-15 08:55:00+00:00       NaN      Luís Guimarães  Rio de Janeiro  \n",
       "6  2022-08-15 08:54:59+00:00       NaN         Luis Marcos  Recife, Brasil  \n",
       "7  2022-08-15 08:54:51+00:00       NaN      Luís Guimarães  Rio de Janeiro  \n",
       "8  2022-08-15 08:54:37+00:00       NaN  GusSouza 🇺🇦🏴󠁧󠁢󠁥󠁮󠁧󠁿   Naque, Brasil  \n",
       "9  2022-08-15 08:54:36+00:00       NaN       MARCOS BORGES             eua  "
      ]
     },
     "execution_count": 664,
     "metadata": {},
     "output_type": "execute_result"
    }
   ],
   "source": [
    "df.tail()"
   ]
  },
  {
   "cell_type": "code",
   "execution_count": 665,
   "id": "954b91f3",
   "metadata": {},
   "outputs": [
    {
     "data": {
      "text/plain": [
       "(10, 6)"
      ]
     },
     "execution_count": 665,
     "metadata": {},
     "output_type": "execute_result"
    }
   ],
   "source": [
    "df.shape"
   ]
  },
  {
   "cell_type": "code",
   "execution_count": 666,
   "id": "b423ed04",
   "metadata": {},
   "outputs": [
    {
     "data": {
      "text/plain": [
       "True"
      ]
     },
     "execution_count": 666,
     "metadata": {},
     "output_type": "execute_result"
    }
   ],
   "source": [
    "df['Tweet_ID'].is_unique"
   ]
  },
  {
   "cell_type": "code",
   "execution_count": null,
   "id": "431a8d6f",
   "metadata": {},
   "outputs": [],
   "source": []
  }
 ],
 "metadata": {
  "kernelspec": {
   "display_name": "Python 3",
   "language": "python",
   "name": "python3"
  },
  "language_info": {
   "codemirror_mode": {
    "name": "ipython",
    "version": 3
   },
   "file_extension": ".py",
   "mimetype": "text/x-python",
   "name": "python",
   "nbconvert_exporter": "python",
   "pygments_lexer": "ipython3",
   "version": "3.8.8"
  }
 },
 "nbformat": 4,
 "nbformat_minor": 5
}
