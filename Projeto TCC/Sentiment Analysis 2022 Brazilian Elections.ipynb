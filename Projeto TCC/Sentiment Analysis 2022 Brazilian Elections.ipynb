{
 "cells": [
  {
   "cell_type": "code",
   "execution_count": 4,
   "id": "f19fa5d0",
   "metadata": {},
   "outputs": [],
   "source": [
    "import pandas as pd\n",
    "import time\n",
    "import spacy\n",
    "import numpy as np\n",
    "from datetime import datetime, timezone\n",
    "import pytz  \n",
    "import tzlocal\n",
    "from dateutil import tz\n",
    "import re\n",
    "from nltk import pos_tag\n",
    "from nltk.corpus import wordnet as wn\n",
    "from collections import defaultdict\n",
    "from backports.zoneinfo import ZoneInfo\n",
    "from sklearn import model_selection, naive_bayes, svm\n",
    "from sklearn.metrics import accuracy_score, f1_score, precision_score, recall_score, classification_report, confusion_matrix\n",
    "from sklearn.preprocessing import LabelEncoder\n",
    "from sklearn.model_selection import train_test_split\n",
    "from gensim.models import Word2Vec\n",
    "\n",
    "\n",
    "# stopwords, tokenizer, stemmer\n",
    "import nltk  \n",
    "from nltk.corpus import stopwords\n",
    "from nltk.tokenize import word_tokenize\n",
    "from nltk.stem import RSLPStemmer\n",
    "from nltk.probability import FreqDist\n",
    "from nltk.stem import WordNetLemmatizer\n",
    "from sklearn.feature_extraction.text import TfidfVectorizer\n",
    "\n",
    "# data visualization\n",
    "import matplotlib.pyplot as plt\n",
    "from os import path\n",
    "from PIL import Image\n",
    "from wordcloud import WordCloud, STOPWORDS, ImageColorGenerator\n",
    "import plotly.express as px\n",
    "import seaborn as sns\n",
    "\n"
   ]
  },
  {
   "cell_type": "code",
   "execution_count": 5,
   "id": "92289012",
   "metadata": {},
   "outputs": [],
   "source": [
    "df = pd.read_csv(\"search_bolsonaro.csv\")"
   ]
  },
  {
   "cell_type": "code",
   "execution_count": 6,
   "id": "b5a5be53",
   "metadata": {},
   "outputs": [
    {
     "data": {
      "text/plain": [
       "(100, 7)"
      ]
     },
     "execution_count": 6,
     "metadata": {},
     "output_type": "execute_result"
    }
   ],
   "source": [
    "df.shape"
   ]
  },
  {
   "cell_type": "code",
   "execution_count": 7,
   "id": "b67862fe",
   "metadata": {
    "scrolled": true
   },
   "outputs": [
    {
     "data": {
      "text/html": [
       "<div>\n",
       "<style scoped>\n",
       "    .dataframe tbody tr th:only-of-type {\n",
       "        vertical-align: middle;\n",
       "    }\n",
       "\n",
       "    .dataframe tbody tr th {\n",
       "        vertical-align: top;\n",
       "    }\n",
       "\n",
       "    .dataframe thead th {\n",
       "        text-align: right;\n",
       "    }\n",
       "</style>\n",
       "<table border=\"1\" class=\"dataframe\">\n",
       "  <thead>\n",
       "    <tr style=\"text-align: right;\">\n",
       "      <th></th>\n",
       "      <th>Tweet_ID</th>\n",
       "      <th>Tweet_Text</th>\n",
       "      <th>Created_at</th>\n",
       "      <th>Tweet_Geo</th>\n",
       "      <th>User_Name</th>\n",
       "      <th>User_Location</th>\n",
       "      <th>Sentimento</th>\n",
       "    </tr>\n",
       "  </thead>\n",
       "  <tbody>\n",
       "    <tr>\n",
       "      <th>0</th>\n",
       "      <td>1555479941202038784</td>\n",
       "      <td>@NordestePatrio1 @RaquelBlak @jairbolsonaro Se...</td>\n",
       "      <td>2022-08-05 09:04:52+00:00</td>\n",
       "      <td>NaN</td>\n",
       "      <td>Sergio nascimento</td>\n",
       "      <td>NaN</td>\n",
       "      <td>negativo</td>\n",
       "    </tr>\n",
       "    <tr>\n",
       "      <th>1</th>\n",
       "      <td>1555479876215390212</td>\n",
       "      <td>se o dia hoje for merda a culpa é literalmente...</td>\n",
       "      <td>2022-08-05 09:04:36+00:00</td>\n",
       "      <td>NaN</td>\n",
       "      <td>edu ☆</td>\n",
       "      <td>ela/dela</td>\n",
       "      <td>negativo</td>\n",
       "    </tr>\n",
       "    <tr>\n",
       "      <th>2</th>\n",
       "      <td>1555479834134036480</td>\n",
       "      <td>@LulaOficial @verdadenarede Oh Lula ladrão nós...</td>\n",
       "      <td>2022-08-05 09:04:26+00:00</td>\n",
       "      <td>NaN</td>\n",
       "      <td>Virinha Fonseca</td>\n",
       "      <td>NaN</td>\n",
       "      <td>positivo</td>\n",
       "    </tr>\n",
       "    <tr>\n",
       "      <th>3</th>\n",
       "      <td>1555479832812716032</td>\n",
       "      <td>@BrazilFight Não PR   BOLSONARO.nao precisa  d...</td>\n",
       "      <td>2022-08-05 09:04:26+00:00</td>\n",
       "      <td>NaN</td>\n",
       "      <td>Mary Puletti</td>\n",
       "      <td>São Paulo, Brasil</td>\n",
       "      <td>positivo</td>\n",
       "    </tr>\n",
       "    <tr>\n",
       "      <th>4</th>\n",
       "      <td>1555479830837207050</td>\n",
       "      <td>@soniaforabando @defconlevel4 @CamargoDireita ...</td>\n",
       "      <td>2022-08-05 09:04:25+00:00</td>\n",
       "      <td>NaN</td>\n",
       "      <td>Isabela Ferreira Ribeiro</td>\n",
       "      <td>NaN</td>\n",
       "      <td>positivo</td>\n",
       "    </tr>\n",
       "  </tbody>\n",
       "</table>\n",
       "</div>"
      ],
      "text/plain": [
       "              Tweet_ID                                         Tweet_Text  \\\n",
       "0  1555479941202038784  @NordestePatrio1 @RaquelBlak @jairbolsonaro Se...   \n",
       "1  1555479876215390212  se o dia hoje for merda a culpa é literalmente...   \n",
       "2  1555479834134036480  @LulaOficial @verdadenarede Oh Lula ladrão nós...   \n",
       "3  1555479832812716032  @BrazilFight Não PR   BOLSONARO.nao precisa  d...   \n",
       "4  1555479830837207050  @soniaforabando @defconlevel4 @CamargoDireita ...   \n",
       "\n",
       "                  Created_at Tweet_Geo                 User_Name  \\\n",
       "0  2022-08-05 09:04:52+00:00       NaN         Sergio nascimento   \n",
       "1  2022-08-05 09:04:36+00:00       NaN                     edu ☆   \n",
       "2  2022-08-05 09:04:26+00:00       NaN           Virinha Fonseca   \n",
       "3  2022-08-05 09:04:26+00:00       NaN              Mary Puletti   \n",
       "4  2022-08-05 09:04:25+00:00       NaN  Isabela Ferreira Ribeiro   \n",
       "\n",
       "       User_Location Sentimento  \n",
       "0                NaN   negativo  \n",
       "1           ela/dela   negativo  \n",
       "2                NaN   positivo  \n",
       "3  São Paulo, Brasil   positivo  \n",
       "4                NaN   positivo  "
      ]
     },
     "execution_count": 7,
     "metadata": {},
     "output_type": "execute_result"
    }
   ],
   "source": [
    "df.head()"
   ]
  },
  {
   "cell_type": "code",
   "execution_count": 8,
   "id": "89748144",
   "metadata": {
    "scrolled": true
   },
   "outputs": [
    {
     "name": "stdout",
     "output_type": "stream",
     "text": [
      "<class 'pandas.core.frame.DataFrame'>\n",
      "RangeIndex: 100 entries, 0 to 99\n",
      "Data columns (total 7 columns):\n",
      " #   Column         Non-Null Count  Dtype \n",
      "---  ------         --------------  ----- \n",
      " 0   Tweet_ID       100 non-null    int64 \n",
      " 1   Tweet_Text     100 non-null    object\n",
      " 2   Created_at     100 non-null    object\n",
      " 3   Tweet_Geo      5 non-null      object\n",
      " 4   User_Name      100 non-null    object\n",
      " 5   User_Location  56 non-null     object\n",
      " 6   Sentimento     100 non-null    object\n",
      "dtypes: int64(1), object(6)\n",
      "memory usage: 5.6+ KB\n"
     ]
    }
   ],
   "source": [
    "df.info()"
   ]
  },
  {
   "cell_type": "code",
   "execution_count": 9,
   "id": "03a05161",
   "metadata": {},
   "outputs": [
    {
     "name": "stdout",
     "output_type": "stream",
     "text": [
      "nan\n",
      "nan\n",
      "nan\n",
      "nan\n",
      "nan\n",
      "nan\n",
      "nan\n",
      "nan\n",
      "nan\n",
      "nan\n",
      "nan\n",
      "nan\n",
      "nan\n",
      "nan\n",
      "nan\n",
      "nan\n",
      "nan\n",
      "nan\n",
      "nan\n",
      "nan\n",
      "nan\n",
      "nan\n",
      "nan\n",
      "nan\n",
      "nan\n",
      "nan\n",
      "nan\n",
      "nan\n",
      "nan\n",
      "nan\n",
      "nan\n",
      "{'place_id': '59373f0a295160e4'}\n",
      "nan\n",
      "nan\n",
      "nan\n",
      "nan\n",
      "nan\n",
      "nan\n",
      "nan\n",
      "nan\n",
      "nan\n",
      "{'place_id': '23d81de6fe7594cb'}\n",
      "nan\n",
      "nan\n",
      "nan\n",
      "nan\n",
      "nan\n",
      "nan\n",
      "nan\n",
      "nan\n",
      "nan\n",
      "nan\n",
      "nan\n",
      "nan\n",
      "nan\n",
      "nan\n",
      "nan\n",
      "nan\n",
      "nan\n",
      "nan\n",
      "{'place_id': 'd9d978b087a92583'}\n",
      "nan\n",
      "nan\n",
      "nan\n",
      "nan\n",
      "nan\n",
      "nan\n",
      "nan\n",
      "nan\n",
      "nan\n",
      "nan\n",
      "nan\n",
      "nan\n",
      "nan\n",
      "nan\n",
      "nan\n",
      "nan\n",
      "nan\n",
      "nan\n",
      "nan\n",
      "nan\n",
      "nan\n",
      "nan\n",
      "nan\n",
      "nan\n",
      "{'place_id': 'ced0519aaf879b2a'}\n",
      "nan\n",
      "nan\n",
      "nan\n",
      "nan\n",
      "nan\n",
      "{'place_id': 'ad8a3318a4317a03'}\n",
      "nan\n",
      "nan\n",
      "nan\n",
      "nan\n",
      "nan\n",
      "nan\n",
      "nan\n",
      "nan\n"
     ]
    }
   ],
   "source": [
    "for value in df['Tweet_Geo']:\n",
    "    if not(value=='nan'):\n",
    "        print (value)"
   ]
  },
  {
   "cell_type": "code",
   "execution_count": 10,
   "id": "ce656844",
   "metadata": {},
   "outputs": [],
   "source": [
    "#Split after delimiters\n",
    "\n",
    "# delimiters = [',', '/', ':','|', '_', '-']\n",
    "# column_0\n",
    "# def split_columns(delimiter, column):\n",
    "#     column = (df['User_Location'].str.split(delimiter, n=1, expand=True))[0]\n",
    "#     #column_1 =((df['User_Location'].str.split(delimiter, n=1, expand=True))[1])"
   ]
  },
  {
   "cell_type": "code",
   "execution_count": 11,
   "id": "888ce998",
   "metadata": {},
   "outputs": [],
   "source": [
    "# for delimiter in delimiters:\n",
    "#     split_columns(delimiter, column_0)\n",
    "    \n",
    "    "
   ]
  },
  {
   "cell_type": "code",
   "execution_count": 14,
   "id": "73b869f8",
   "metadata": {
    "scrolled": true
   },
   "outputs": [],
   "source": [
    "df['User_city']= df['User_Location'].str.split(',',n=1, expand=True)[0]"
   ]
  },
  {
   "cell_type": "code",
   "execution_count": 15,
   "id": "f956065d",
   "metadata": {},
   "outputs": [],
   "source": [
    "df['User_state']= df['User_Location'].str.split(',',n=1, expand=True)[1]"
   ]
  },
  {
   "cell_type": "code",
   "execution_count": 17,
   "id": "e00e0431",
   "metadata": {},
   "outputs": [
    {
     "data": {
      "text/plain": [
       "Brasil                          9\n",
       "Cloud                           8\n",
       "São Paulo                       7\n",
       "Goiânia                         3\n",
       "ela/dela                        1\n",
       "Portugal                        1\n",
       "Salvador                        1\n",
       "Belo Horizonte                  1\n",
       "Mato Grosso do Sul              1\n",
       "São João de Meriti              1\n",
       "📩 sugestões na dm.              1\n",
       "São Carlos                      1\n",
       "RJ                              1\n",
       "Ipojuca - PE                    1\n",
       "Massachusetts                   1\n",
       "São José dos Campos             1\n",
       "Blumenau                        1\n",
       "Rio Grande do Norte             1\n",
       "São Luís                        1\n",
       "São José                        1\n",
       "Sinop                           1\n",
       "Nova Friburgo                   1\n",
       "South Africa                    1\n",
       "Iguatu - Ceará                  1\n",
       "Lahaina - Maui                  1\n",
       "Florianópolis                   1\n",
       "Ile-de-France                   1\n",
       "Ceará                           1\n",
       "Fortaleza                       1\n",
       "Trem-fantasma do Parque Tupy    1\n",
       "Petrópolis-RJ                   1\n",
       "Bayeux                          1\n",
       "Jaraguá do Sul                  1\n",
       "Name: User_city, dtype: int64"
      ]
     },
     "execution_count": 17,
     "metadata": {},
     "output_type": "execute_result"
    }
   ],
   "source": [
    "df['User_city'].value_counts()"
   ]
  },
  {
   "cell_type": "code",
   "execution_count": 18,
   "id": "8498a446",
   "metadata": {
    "scrolled": true
   },
   "outputs": [
    {
     "data": {
      "text/html": [
       "<div>\n",
       "<style scoped>\n",
       "    .dataframe tbody tr th:only-of-type {\n",
       "        vertical-align: middle;\n",
       "    }\n",
       "\n",
       "    .dataframe tbody tr th {\n",
       "        vertical-align: top;\n",
       "    }\n",
       "\n",
       "    .dataframe thead th {\n",
       "        text-align: right;\n",
       "    }\n",
       "</style>\n",
       "<table border=\"1\" class=\"dataframe\">\n",
       "  <thead>\n",
       "    <tr style=\"text-align: right;\">\n",
       "      <th></th>\n",
       "      <th>Tweet_ID</th>\n",
       "      <th>Tweet_Text</th>\n",
       "      <th>Created_at</th>\n",
       "      <th>Tweet_Geo</th>\n",
       "      <th>User_Name</th>\n",
       "      <th>User_Location</th>\n",
       "      <th>Sentimento</th>\n",
       "      <th>User_city</th>\n",
       "      <th>User_state</th>\n",
       "    </tr>\n",
       "  </thead>\n",
       "  <tbody>\n",
       "    <tr>\n",
       "      <th>0</th>\n",
       "      <td>1555479941202038784</td>\n",
       "      <td>@NordestePatrio1 @RaquelBlak @jairbolsonaro Se...</td>\n",
       "      <td>2022-08-05 09:04:52+00:00</td>\n",
       "      <td>NaN</td>\n",
       "      <td>Sergio nascimento</td>\n",
       "      <td>NaN</td>\n",
       "      <td>negativo</td>\n",
       "      <td>NaN</td>\n",
       "      <td>NaN</td>\n",
       "    </tr>\n",
       "    <tr>\n",
       "      <th>1</th>\n",
       "      <td>1555479876215390212</td>\n",
       "      <td>se o dia hoje for merda a culpa é literalmente...</td>\n",
       "      <td>2022-08-05 09:04:36+00:00</td>\n",
       "      <td>NaN</td>\n",
       "      <td>edu ☆</td>\n",
       "      <td>ela/dela</td>\n",
       "      <td>negativo</td>\n",
       "      <td>ela/dela</td>\n",
       "      <td>None</td>\n",
       "    </tr>\n",
       "    <tr>\n",
       "      <th>2</th>\n",
       "      <td>1555479834134036480</td>\n",
       "      <td>@LulaOficial @verdadenarede Oh Lula ladrão nós...</td>\n",
       "      <td>2022-08-05 09:04:26+00:00</td>\n",
       "      <td>NaN</td>\n",
       "      <td>Virinha Fonseca</td>\n",
       "      <td>NaN</td>\n",
       "      <td>positivo</td>\n",
       "      <td>NaN</td>\n",
       "      <td>NaN</td>\n",
       "    </tr>\n",
       "    <tr>\n",
       "      <th>3</th>\n",
       "      <td>1555479832812716032</td>\n",
       "      <td>@BrazilFight Não PR   BOLSONARO.nao precisa  d...</td>\n",
       "      <td>2022-08-05 09:04:26+00:00</td>\n",
       "      <td>NaN</td>\n",
       "      <td>Mary Puletti</td>\n",
       "      <td>São Paulo, Brasil</td>\n",
       "      <td>positivo</td>\n",
       "      <td>São Paulo</td>\n",
       "      <td>Brasil</td>\n",
       "    </tr>\n",
       "    <tr>\n",
       "      <th>4</th>\n",
       "      <td>1555479830837207050</td>\n",
       "      <td>@soniaforabando @defconlevel4 @CamargoDireita ...</td>\n",
       "      <td>2022-08-05 09:04:25+00:00</td>\n",
       "      <td>NaN</td>\n",
       "      <td>Isabela Ferreira Ribeiro</td>\n",
       "      <td>NaN</td>\n",
       "      <td>positivo</td>\n",
       "      <td>NaN</td>\n",
       "      <td>NaN</td>\n",
       "    </tr>\n",
       "  </tbody>\n",
       "</table>\n",
       "</div>"
      ],
      "text/plain": [
       "              Tweet_ID                                         Tweet_Text  \\\n",
       "0  1555479941202038784  @NordestePatrio1 @RaquelBlak @jairbolsonaro Se...   \n",
       "1  1555479876215390212  se o dia hoje for merda a culpa é literalmente...   \n",
       "2  1555479834134036480  @LulaOficial @verdadenarede Oh Lula ladrão nós...   \n",
       "3  1555479832812716032  @BrazilFight Não PR   BOLSONARO.nao precisa  d...   \n",
       "4  1555479830837207050  @soniaforabando @defconlevel4 @CamargoDireita ...   \n",
       "\n",
       "                  Created_at Tweet_Geo                 User_Name  \\\n",
       "0  2022-08-05 09:04:52+00:00       NaN         Sergio nascimento   \n",
       "1  2022-08-05 09:04:36+00:00       NaN                     edu ☆   \n",
       "2  2022-08-05 09:04:26+00:00       NaN           Virinha Fonseca   \n",
       "3  2022-08-05 09:04:26+00:00       NaN              Mary Puletti   \n",
       "4  2022-08-05 09:04:25+00:00       NaN  Isabela Ferreira Ribeiro   \n",
       "\n",
       "       User_Location Sentimento  User_city User_state  \n",
       "0                NaN   negativo        NaN        NaN  \n",
       "1           ela/dela   negativo   ela/dela       None  \n",
       "2                NaN   positivo        NaN        NaN  \n",
       "3  São Paulo, Brasil   positivo  São Paulo     Brasil  \n",
       "4                NaN   positivo        NaN        NaN  "
      ]
     },
     "execution_count": 18,
     "metadata": {},
     "output_type": "execute_result"
    }
   ],
   "source": [
    "df.head()"
   ]
  },
  {
   "cell_type": "code",
   "execution_count": 161,
   "id": "b1a448b1",
   "metadata": {},
   "outputs": [],
   "source": [
    "nlp = spacy.load('pt_core_news_lg')\n",
    "def preprocess(df):\n",
    "    stop_words = stopwords.words('portuguese')\n",
    "    new_stopwords= ['q','pro', 'pra','tar','ter', 'pq' ]\n",
    "    stop_words.extend(new_stopwords)\n",
    "\n",
    "    df['Tweet_Text'].dropna(inplace=True)\n",
    "\n",
    "    #Remove nome de usuários (está diminuindo a precisão)\n",
    "    df['Tweet_Text'] = [re.sub('@[^\\s]+','', entry) for entry in df['Tweet_Text']]\n",
    "\n",
    "    # Remove @RT de retweets\n",
    "    df['Tweet_Text'] = [re.sub(r'^RT[\\s]+', '', entry) for entry in df['Tweet_Text']]\n",
    "\n",
    "    # Remove hiperlinks\n",
    "    df['Tweet_Text'] = [re.sub(r'https?:\\/\\/.*[\\r\\n]*', '', entry) for entry in df['Tweet_Text']]\n",
    "    \n",
    "    #Lemetizacao\n",
    "    df[\"Tweet_Text\"] = df['Tweet_Text'].apply(lambda x: \" \".join([y.lemma_ for y in nlp(x)]))\n",
    "    \n",
    "    # Padroniza todo o texto em caixa baixa (letras minúsculas)\n",
    "    df['Tweet_Text'] = [entry.lower() for entry in df['Tweet_Text']]\n",
    "    \n",
    "    #Remover stopwords\n",
    "    df['Tweet_Text'] = df['Tweet_Text'].apply(lambda x: ' '.join([word for word in x.split() if word not in (stop_words) and word.isalpha()]))\n",
    "    \n",
    "    \n",
    "    #Tokenização: Cada tweet é dividido em um array de palavras\n",
    "    df['Tweet_Text']= [word_tokenize(entry) for entry in df['Tweet_Text']]\n",
    "    \n",
    "    \n",
    "\n",
    "    #Remove Z format\n",
    "    date_column = []\n",
    "    for datez in df['Created_at']:\n",
    "        datez= (datez.split(\"+\", 1))[0]\n",
    "        date_column.append(datez)\n",
    "    df['Created_at'] = date_column\n",
    "    \n",
    "    #convert timezone\n",
    "\n",
    "    from_zone = tz.gettz('UTC')\n",
    "    to_zone = tz.gettz(\"America/Sao_Paulo\")\n",
    "    local = []\n",
    "    for date in df['Created_at']:\n",
    "        date = datetime.strptime(date, \"%Y-%m-%d %H:%M:%S\")\n",
    "        date = date.replace(tzinfo=from_zone)\n",
    "        # Convert time zone\n",
    "        date = date.astimezone(to_zone)\n",
    "        local.append(date)\n",
    "\n",
    "    df['Created_at'] = local\n",
    "    \n",
    "    #separate column date to date and time\n",
    "    df['Date_Created'] = pd.to_datetime(df['Created_at']).dt.date\n",
    "    df['Time_Created'] = pd.to_datetime(df['Created_at']).dt.time\n",
    "    \n",
    " "
   ]
  },
  {
   "cell_type": "code",
   "execution_count": 20,
   "id": "dcd0f360",
   "metadata": {},
   "outputs": [],
   "source": [
    "preprocess(df)"
   ]
  },
  {
   "cell_type": "code",
   "execution_count": 21,
   "id": "a6c0adf4",
   "metadata": {},
   "outputs": [],
   "source": [
    "#transformar em array de strings\n",
    "df['Text_Final']= [str(item) for item in df['Tweet_Text']]"
   ]
  },
  {
   "cell_type": "code",
   "execution_count": 22,
   "id": "5a701a73",
   "metadata": {},
   "outputs": [
    {
     "data": {
      "text/html": [
       "<div>\n",
       "<style scoped>\n",
       "    .dataframe tbody tr th:only-of-type {\n",
       "        vertical-align: middle;\n",
       "    }\n",
       "\n",
       "    .dataframe tbody tr th {\n",
       "        vertical-align: top;\n",
       "    }\n",
       "\n",
       "    .dataframe thead th {\n",
       "        text-align: right;\n",
       "    }\n",
       "</style>\n",
       "<table border=\"1\" class=\"dataframe\">\n",
       "  <thead>\n",
       "    <tr style=\"text-align: right;\">\n",
       "      <th></th>\n",
       "      <th>Tweet_ID</th>\n",
       "      <th>Tweet_Text</th>\n",
       "      <th>Created_at</th>\n",
       "      <th>Tweet_Geo</th>\n",
       "      <th>User_Name</th>\n",
       "      <th>User_Location</th>\n",
       "      <th>Sentimento</th>\n",
       "      <th>User_city</th>\n",
       "      <th>User_state</th>\n",
       "      <th>Date_Created</th>\n",
       "      <th>Time_Created</th>\n",
       "      <th>Text_Final</th>\n",
       "    </tr>\n",
       "  </thead>\n",
       "  <tbody>\n",
       "    <tr>\n",
       "      <th>0</th>\n",
       "      <td>1555479941202038784</td>\n",
       "      <td>[poste, dar, pau, bolsonaro, imaginar, original]</td>\n",
       "      <td>2022-08-05 06:04:52-03:00</td>\n",
       "      <td>NaN</td>\n",
       "      <td>Sergio nascimento</td>\n",
       "      <td>NaN</td>\n",
       "      <td>negativo</td>\n",
       "      <td>NaN</td>\n",
       "      <td>NaN</td>\n",
       "      <td>2022-08-05</td>\n",
       "      <td>06:04:52</td>\n",
       "      <td>['poste', 'dar', 'pau', 'bolsonaro', 'imaginar...</td>\n",
       "    </tr>\n",
       "    <tr>\n",
       "      <th>1</th>\n",
       "      <td>1555479876215390212</td>\n",
       "      <td>[dia, hoje, merda, culpa, literalmente, bolson...</td>\n",
       "      <td>2022-08-05 06:04:36-03:00</td>\n",
       "      <td>NaN</td>\n",
       "      <td>edu ☆</td>\n",
       "      <td>ela/dela</td>\n",
       "      <td>negativo</td>\n",
       "      <td>ela/dela</td>\n",
       "      <td>None</td>\n",
       "      <td>2022-08-05</td>\n",
       "      <td>06:04:36</td>\n",
       "      <td>['dia', 'hoje', 'merda', 'culpa', 'literalment...</td>\n",
       "    </tr>\n",
       "    <tr>\n",
       "      <th>2</th>\n",
       "      <td>1555479834134036480</td>\n",
       "      <td>[oh, lula, ladrão, amar, bolsonaro, mitoooo, i...</td>\n",
       "      <td>2022-08-05 06:04:26-03:00</td>\n",
       "      <td>NaN</td>\n",
       "      <td>Virinha Fonseca</td>\n",
       "      <td>NaN</td>\n",
       "      <td>positivo</td>\n",
       "      <td>NaN</td>\n",
       "      <td>NaN</td>\n",
       "      <td>2022-08-05</td>\n",
       "      <td>06:04:26</td>\n",
       "      <td>['oh', 'lula', 'ladrão', 'amar', 'bolsonaro', ...</td>\n",
       "    </tr>\n",
       "    <tr>\n",
       "      <th>3</th>\n",
       "      <td>1555479832812716032</td>\n",
       "      <td>[pr, precisar, ajuda]</td>\n",
       "      <td>2022-08-05 06:04:26-03:00</td>\n",
       "      <td>NaN</td>\n",
       "      <td>Mary Puletti</td>\n",
       "      <td>São Paulo, Brasil</td>\n",
       "      <td>positivo</td>\n",
       "      <td>São Paulo</td>\n",
       "      <td>Brasil</td>\n",
       "      <td>2022-08-05</td>\n",
       "      <td>06:04:26</td>\n",
       "      <td>['pr', 'precisar', 'ajuda']</td>\n",
       "    </tr>\n",
       "    <tr>\n",
       "      <th>4</th>\n",
       "      <td>1555479830837207050</td>\n",
       "      <td>[olha, fake, news, bolsonaro, apoiar, pilar, f...</td>\n",
       "      <td>2022-08-05 06:04:25-03:00</td>\n",
       "      <td>NaN</td>\n",
       "      <td>Isabela Ferreira Ribeiro</td>\n",
       "      <td>NaN</td>\n",
       "      <td>positivo</td>\n",
       "      <td>NaN</td>\n",
       "      <td>NaN</td>\n",
       "      <td>2022-08-05</td>\n",
       "      <td>06:04:25</td>\n",
       "      <td>['olha', 'fake', 'news', 'bolsonaro', 'apoiar'...</td>\n",
       "    </tr>\n",
       "  </tbody>\n",
       "</table>\n",
       "</div>"
      ],
      "text/plain": [
       "              Tweet_ID                                         Tweet_Text  \\\n",
       "0  1555479941202038784   [poste, dar, pau, bolsonaro, imaginar, original]   \n",
       "1  1555479876215390212  [dia, hoje, merda, culpa, literalmente, bolson...   \n",
       "2  1555479834134036480  [oh, lula, ladrão, amar, bolsonaro, mitoooo, i...   \n",
       "3  1555479832812716032                              [pr, precisar, ajuda]   \n",
       "4  1555479830837207050  [olha, fake, news, bolsonaro, apoiar, pilar, f...   \n",
       "\n",
       "                 Created_at Tweet_Geo                 User_Name  \\\n",
       "0 2022-08-05 06:04:52-03:00       NaN         Sergio nascimento   \n",
       "1 2022-08-05 06:04:36-03:00       NaN                     edu ☆   \n",
       "2 2022-08-05 06:04:26-03:00       NaN           Virinha Fonseca   \n",
       "3 2022-08-05 06:04:26-03:00       NaN              Mary Puletti   \n",
       "4 2022-08-05 06:04:25-03:00       NaN  Isabela Ferreira Ribeiro   \n",
       "\n",
       "       User_Location Sentimento  User_city User_state Date_Created  \\\n",
       "0                NaN   negativo        NaN        NaN   2022-08-05   \n",
       "1           ela/dela   negativo   ela/dela       None   2022-08-05   \n",
       "2                NaN   positivo        NaN        NaN   2022-08-05   \n",
       "3  São Paulo, Brasil   positivo  São Paulo     Brasil   2022-08-05   \n",
       "4                NaN   positivo        NaN        NaN   2022-08-05   \n",
       "\n",
       "  Time_Created                                         Text_Final  \n",
       "0     06:04:52  ['poste', 'dar', 'pau', 'bolsonaro', 'imaginar...  \n",
       "1     06:04:36  ['dia', 'hoje', 'merda', 'culpa', 'literalment...  \n",
       "2     06:04:26  ['oh', 'lula', 'ladrão', 'amar', 'bolsonaro', ...  \n",
       "3     06:04:26                        ['pr', 'precisar', 'ajuda']  \n",
       "4     06:04:25  ['olha', 'fake', 'news', 'bolsonaro', 'apoiar'...  "
      ]
     },
     "execution_count": 22,
     "metadata": {},
     "output_type": "execute_result"
    }
   ],
   "source": [
    "df.head()"
   ]
  },
  {
   "cell_type": "code",
   "execution_count": 23,
   "id": "1421e2be",
   "metadata": {},
   "outputs": [],
   "source": [
    "Train_X, Test_X, Train_Y, Test_Y = model_selection.train_test_split(df['Text_Final'],df['Sentimento'],test_size=0.3)\n",
    "\n",
    "Encoder = LabelEncoder()\n",
    "Train_Y = Encoder.fit_transform(Train_Y)\n",
    "Test_Y = Encoder.fit_transform(Test_Y)\n",
    "\n",
    "#Padrões TF-IDF\n",
    "Tfidf_vect = TfidfVectorizer(max_features=5000)\n",
    "Tfidf_vect.fit(df['Text_Final'])\n",
    "Train_X_Tfidf = Tfidf_vect.transform(Train_X)\n",
    "Test_X_Tfidf = Tfidf_vect.transform(Test_X)\n",
    "\n",
    "#print(Tfidf_vect.vocabulary_)\n",
    "\n",
    "#print(Train_X_Tfidf)"
   ]
  },
  {
   "cell_type": "code",
   "execution_count": 24,
   "id": "04cff65a",
   "metadata": {},
   "outputs": [
    {
     "name": "stdout",
     "output_type": "stream",
     "text": [
      "Naive Bayes Accuracy:  50.0\n",
      "Naive Bayes F-Measure:  36.868686868686865\n",
      "Naive Bayes Precision:  46.15384615384615\n",
      "Naive Bayes Recall:  38.302277432712216\n"
     ]
    },
    {
     "name": "stderr",
     "output_type": "stream",
     "text": [
      "/Users/maiaracandido/opt/anaconda3/lib/python3.8/site-packages/sklearn/metrics/_classification.py:1327: UndefinedMetricWarning: Recall is ill-defined and being set to 0.0 in labels with no true samples. Use `zero_division` parameter to control this behavior.\n",
      "  _warn_prf(average, modifier, msg_start, len(result))\n"
     ]
    }
   ],
   "source": [
    "# ajustar o conjunto de dados de treinamento no classificador NB\n",
    "Naive = naive_bayes.MultinomialNB()\n",
    "Naive.fit(Train_X_Tfidf,Train_Y)\n",
    "# prever os rótulos no conjunto de dados de validação\n",
    "predictions_NB = Naive.predict(Test_X_Tfidf)\n",
    "\n",
    "#imprimir na tela a acurácia, f-measure, precisão e recall\n",
    "print(\"Naive Bayes Accuracy: \",accuracy_score(predictions_NB, Test_Y)*100)\n",
    "print(\"Naive Bayes F-Measure: \",f1_score(predictions_NB, Test_Y, average=\"macro\")*100)\n",
    "print(\"Naive Bayes Precision: \",precision_score(predictions_NB, Test_Y, average=\"macro\")*100)\n",
    "print(\"Naive Bayes Recall: \",recall_score(predictions_NB, Test_Y, average=\"macro\")*100)"
   ]
  },
  {
   "cell_type": "code",
   "execution_count": 25,
   "id": "d28d0bd4",
   "metadata": {},
   "outputs": [
    {
     "name": "stdout",
     "output_type": "stream",
     "text": [
      "SVM Accuracy:  46.666666666666664\n",
      "SVM F-Measure:  35.41666666666667\n",
      "SVM Precision:  42.820512820512825\n",
      "SVM Recall:  37.44588744588744\n"
     ]
    }
   ],
   "source": [
    "# Classificador SVM\n",
    "# ajustar o conjunto de dados de treinamento no classificador SVM\n",
    "SVM = svm.SVC(C=1.0, kernel='linear', degree=3, gamma='auto')\n",
    "SVM.fit(Train_X_Tfidf,Train_Y)\n",
    "# prever os rótulos no conjunto de dados de validação\n",
    "predictions_SVM = SVM.predict(Test_X_Tfidf)\n",
    "#imprimir na tela a acurácia, f-measure, precisão e recall\n",
    "print(\"SVM Accuracy: \",accuracy_score(predictions_SVM, Test_Y)*100)\n",
    "print(\"SVM F-Measure: \",f1_score(predictions_SVM, Test_Y, average=\"macro\")*100)\n",
    "print(\"SVM Precision: \",precision_score(predictions_SVM, Test_Y, average=\"macro\")*100)\n",
    "print(\"SVM Recall: \",recall_score(predictions_SVM, Test_Y, average=\"macro\")*100)"
   ]
  },
  {
   "cell_type": "code",
   "execution_count": 26,
   "id": "1718f2e8",
   "metadata": {
    "scrolled": false
   },
   "outputs": [
    {
     "name": "stdout",
     "output_type": "stream",
     "text": [
      "Time taken to train word2vec model: 0.10400891304016113\n"
     ]
    },
    {
     "name": "stderr",
     "output_type": "stream",
     "text": [
      "<ipython-input-26-2e2677496df9>:15: DeprecationWarning: Call to deprecated `init_sims` (Gensim 4.0.0 implemented internal optimizations that make calls to init_sims() unnecessary. init_sims() is now obsoleted and will be completely removed in future versions. See https://github.com/RaRe-Technologies/gensim/wiki/Migrating-from-Gensim-3.x-to-4).\n",
      "  w2v_model.init_sims(replace=True)\n"
     ]
    }
   ],
   "source": [
    "#Implementing word2vec\n",
    "# Skip-gram model (sg = 1)\n",
    "size = 1000\n",
    "window = 3\n",
    "min_count = 1\n",
    "workers = 3\n",
    "sg = 1\n",
    "\n",
    "start_time = time.time()\n",
    "stemmed_tokens = pd.Series(df['Text_Final']).values\n",
    "# Train the Word2Vec Model\n",
    "w2v_model = Word2Vec(stemmed_tokens, min_count = min_count, vector_size = size, workers = workers, window = window, sg = sg)\n",
    "\n",
    "# To make the model memory efficient\n",
    "w2v_model.init_sims(replace=True)\n",
    "print(\"Time taken to train word2vec model: \" + str(time.time() - start_time))\n",
    "model_name = \"model_w2vec_Bolsonaro\"\n",
    "w2v_model.save(model_name)"
   ]
  },
  {
   "cell_type": "code",
   "execution_count": 27,
   "id": "6cebbbfe",
   "metadata": {},
   "outputs": [
    {
     "name": "stdout",
     "output_type": "stream",
     "text": [
      "Index of the word 'action':\n",
      "Print the length after taking average of all word vectors in a sentence:\n",
      "[ 6.20703511e-02 -9.01158061e-03  1.62606854e-02  3.03352289e-02\n",
      " -5.22649707e-03 -2.78162844e-02  9.64285713e-03  2.65165064e-02\n",
      " -2.87822224e-02  6.35299552e-03  1.43507617e-02 -1.66629460e-02\n",
      " -2.47251932e-02  2.83608958e-02  4.69394680e-03 -9.91221704e-03\n",
      " -1.39916604e-02 -2.36973781e-02  4.91776457e-03 -2.81328298e-02\n",
      "  2.22473666e-02 -5.28137945e-03 -1.45185404e-02 -1.82602135e-03\n",
      "  4.02197428e-03 -9.16694105e-03  3.08120903e-02 -4.31073941e-02\n",
      " -4.83133048e-02  2.15704720e-02  1.87644400e-02 -1.06651671e-02\n",
      "  4.31478061e-02  2.54976060e-02  2.50593331e-02  1.44864898e-02\n",
      "  5.18428423e-02  2.99089914e-03 -9.06136725e-03 -3.47128436e-02\n",
      " -4.07613954e-03  4.90417238e-03 -4.48562838e-02  2.25652289e-02\n",
      " -5.86044677e-02 -4.75015529e-02 -3.03927045e-02  4.19912897e-02\n",
      " -2.60295290e-02  4.84266803e-02  6.47621276e-03 -1.86641272e-02\n",
      "  1.24351922e-02 -2.84963045e-02  6.09195679e-02  2.92198180e-04\n",
      "  6.21096557e-03  1.15101533e-02  6.79315766e-03  8.65250640e-03\n",
      " -3.12816240e-02 -5.32886852e-03  1.54127004e-02 -8.48476514e-02\n",
      " -7.43432119e-02 -1.58971827e-02 -5.19192889e-02  3.74658257e-02\n",
      "  2.51033362e-02  1.78879779e-02  2.76904088e-02  6.95457309e-03\n",
      "  6.19520200e-04  9.10562556e-03  5.09760939e-02  4.31587026e-02\n",
      "  2.67042685e-02 -4.43072198e-03  1.19244622e-03 -1.70222428e-02\n",
      "  1.90042378e-03  5.16722873e-02 -2.34299339e-02  4.80146743e-02\n",
      " -7.31344298e-02  5.52419340e-03  2.46308800e-02  3.97026539e-02\n",
      "  2.42288485e-02  2.91926246e-02  4.19675894e-02  2.68094297e-02\n",
      "  1.61997918e-02  4.05605920e-02  4.60981987e-02  1.91634167e-02\n",
      "  1.95120554e-02 -3.93954925e-02  2.13737343e-03 -5.67440018e-02\n",
      "  5.73231094e-03  5.86938858e-02  2.29547340e-02  1.75430439e-02\n",
      "  1.64138549e-03 -1.01003787e-02 -1.80091448e-02  4.00464945e-02\n",
      "  1.39327776e-02 -1.02602681e-02  5.92243904e-03 -1.33006752e-03\n",
      "  1.47610053e-03  1.33151710e-02  1.88409109e-02 -1.44892903e-02\n",
      "  1.31372188e-03 -2.27298047e-02 -1.22234393e-02 -5.16381897e-02\n",
      "  1.61491223e-02 -3.06546595e-03  3.79218012e-02  3.35500389e-03\n",
      "  1.41826961e-02 -1.74411926e-02 -3.97416875e-02  4.21171524e-02\n",
      "  4.48874710e-03  2.84688249e-02  1.03247957e-02 -5.85775413e-02\n",
      "  7.53609091e-03 -1.51251443e-02  6.29644701e-03  2.50968896e-02\n",
      "  3.86385596e-03 -1.41371666e-02  2.59470772e-02 -3.81029844e-02\n",
      " -2.88737230e-02 -3.44367549e-02  9.32374783e-03  1.97969042e-02\n",
      " -1.98237179e-03 -8.02675076e-03  6.85121343e-02  2.49442812e-02\n",
      " -8.92042462e-03  4.21512835e-02  5.43228984e-02  2.60076206e-02\n",
      " -1.14154276e-02  3.49841528e-02 -9.67596024e-02 -1.07170502e-02\n",
      "  5.38893603e-02  3.30746099e-02 -2.18685940e-02  4.54750210e-02\n",
      "  3.76692414e-03  4.33910117e-02 -4.52151150e-02 -2.79349815e-02\n",
      " -5.46262488e-02  3.73564437e-02  3.91358659e-02  5.12038507e-02\n",
      " -8.82006716e-03  4.63547856e-02  1.00064313e-03  4.05661389e-02\n",
      "  1.20993843e-02  2.20882911e-02 -1.26971398e-02 -1.22143328e-02\n",
      " -4.71244007e-02  3.94465178e-02  1.43694589e-02  2.78746616e-02\n",
      "  3.61504406e-03  3.17187309e-02 -7.59263569e-03 -1.93258922e-03\n",
      " -1.09142787e-03  4.80512045e-02 -3.74356657e-02 -2.39124689e-02\n",
      "  5.18299453e-03  2.79742889e-02  5.57289310e-02 -4.73878607e-02\n",
      " -3.13637704e-02 -2.97254734e-02  1.70798097e-02 -1.30715761e-02\n",
      " -1.54527854e-02 -2.70646531e-02  1.47516478e-03 -3.74715403e-02\n",
      "  3.02063767e-03 -2.39888970e-02 -1.30828889e-02  3.85477906e-03\n",
      "  5.08671030e-02 -5.73054887e-03  1.52310748e-02  2.96897609e-02\n",
      "  1.61514916e-02 -2.59104911e-02 -6.87203975e-03  5.83126117e-03\n",
      " -1.09034367e-02 -1.67704406e-04 -9.58194397e-03 -3.76001485e-02\n",
      "  1.29597157e-03  2.40156092e-02 -4.85875527e-04 -2.92113833e-02\n",
      " -5.53630246e-03  2.42434326e-03  6.39737910e-03  2.77009346e-02\n",
      "  4.51133028e-02  4.61313641e-03  1.83788110e-02  1.54500008e-02\n",
      "  1.61927994e-02  2.18230970e-02  1.99491857e-03 -1.22719146e-02\n",
      " -1.83943696e-02 -6.10297499e-03 -8.55923165e-03 -1.40955243e-02\n",
      " -1.54043222e-02 -7.14705512e-02 -7.82941934e-03  2.31088046e-02\n",
      " -1.33673484e-02 -1.32360999e-02 -1.63309332e-02  1.44329043e-02\n",
      " -1.23163010e-03 -2.93539092e-02  2.82767080e-02 -1.91346128e-02\n",
      "  5.73256519e-03  1.81715265e-02  5.08060455e-02 -1.80382170e-02\n",
      " -2.86773164e-02  6.85282983e-03  1.56795850e-03 -3.40222218e-03\n",
      "  6.04693498e-03 -1.90177243e-02 -1.30936662e-02  1.74690522e-02\n",
      " -5.51113933e-02 -2.90556555e-03  3.72326300e-02  3.72760370e-03\n",
      " -5.25000803e-02  2.87837088e-02  3.68607491e-02  9.87817049e-02\n",
      " -7.46837556e-02  3.95320803e-02 -2.84279622e-02  9.74480622e-03\n",
      "  2.23753545e-02 -2.59274654e-02 -6.86814589e-03  2.20471937e-02\n",
      "  1.81587134e-02 -6.86735362e-02 -3.01876441e-02  2.77834367e-02\n",
      " -1.43136438e-02  5.04743792e-02 -6.03192821e-02 -2.00340748e-02\n",
      "  3.21968161e-02 -1.98960304e-02  2.68343966e-02 -4.56143059e-02\n",
      "  2.62586642e-02  2.64056753e-02 -3.43477502e-02  4.62882072e-02\n",
      "  1.53385429e-03  2.79020686e-02  2.57712267e-02  8.45302176e-03\n",
      "  3.90197299e-02  3.71794496e-03  5.67073040e-02 -1.05478158e-02\n",
      " -6.22023754e-02  2.15074252e-02  8.11023230e-04 -3.50143425e-02\n",
      " -3.85770239e-02 -7.75509402e-02 -4.90465946e-03  3.81430350e-02\n",
      "  1.28541072e-03 -5.25085144e-02 -3.64337233e-03 -1.26829622e-02\n",
      " -2.94399243e-02 -3.01392611e-05  6.17563054e-02  3.72973457e-02\n",
      "  4.31871600e-02 -7.78905908e-03  4.93777841e-02 -3.24019454e-02\n",
      "  1.64518356e-02  1.59061626e-02  2.41710860e-02 -4.75126952e-02\n",
      " -2.65002344e-02  8.07047170e-03 -8.36300384e-03 -4.15176824e-02\n",
      "  2.62242053e-02 -2.34369319e-02  3.81338671e-02  5.42140240e-03\n",
      "  2.25839671e-02 -3.29754725e-02  4.44102148e-03 -2.25382093e-02\n",
      " -2.58407891e-02  2.69662924e-02 -2.94284187e-02 -2.51749754e-02\n",
      "  4.31336500e-02  3.55963819e-02  1.09172342e-02 -3.65475342e-02\n",
      "  2.77499631e-02 -2.87556779e-02 -6.35122284e-02  2.63249967e-02\n",
      "  3.61568970e-03 -2.04015411e-02  2.28695739e-02  6.30424637e-03\n",
      " -9.66227893e-03  5.23958094e-02 -5.56930900e-02  8.20558220e-02\n",
      "  1.08038615e-02 -3.85556817e-02  3.07812747e-02  1.70159079e-02\n",
      " -7.45104346e-03  7.26519525e-02  1.40922153e-02  1.41498982e-03\n",
      "  3.03970883e-03 -2.50822958e-02  3.05752587e-02 -1.75219532e-02\n",
      "  1.06827961e-02 -6.86139939e-03  6.22722181e-03 -2.87151746e-02\n",
      " -7.21059144e-02  2.70144735e-02  2.53471080e-02  3.41777056e-02\n",
      "  2.07795538e-02  4.27604392e-02 -2.79866979e-02 -1.29757999e-02\n",
      "  1.00932019e-02  2.73709316e-02  4.99853976e-02  2.87025627e-02\n",
      " -1.91262029e-02  2.75734626e-02  2.32546031e-02  4.62041162e-02\n",
      "  1.70960147e-02 -1.10280663e-02  2.37167403e-02 -4.20560688e-03\n",
      " -2.92472932e-02 -6.26378087e-03  2.07255202e-04  3.41069140e-02\n",
      "  6.42513782e-02 -4.86094458e-03 -1.43971145e-02  3.51785198e-02\n",
      " -1.05304355e-02  2.14028005e-02  2.65385327e-03 -3.88227552e-02\n",
      " -1.17981927e-02 -4.29570340e-02  3.46532874e-02  6.23135380e-02\n",
      "  2.71756183e-02 -2.95317005e-02  4.37359013e-05 -1.73323916e-03\n",
      "  1.20149255e-02 -3.39747705e-02 -1.91098209e-02  5.17085753e-03\n",
      "  1.41360508e-02  4.00078818e-02 -9.34826210e-03 -4.06101793e-02\n",
      "  1.90948471e-02 -1.11442609e-02 -2.92330366e-02  5.37870117e-02\n",
      " -4.66004349e-02 -2.14317180e-02  3.05870064e-02 -1.74975507e-02\n",
      " -2.44639535e-02  4.71648062e-03 -4.09029573e-02  3.43067795e-02\n",
      " -3.95132229e-03 -3.68190184e-02 -2.58657173e-03  6.72296109e-03\n",
      "  2.85068415e-02 -4.20381352e-02  1.73260439e-02  3.67776379e-02\n",
      "  1.72311272e-02 -2.56550666e-02 -5.15161955e-04 -8.77848640e-03\n",
      "  1.16992854e-01 -1.11313900e-02  3.10844667e-02 -5.18729053e-02\n",
      "  7.45147616e-02 -3.71964499e-02  1.28303086e-02  1.21597582e-02\n",
      " -3.92244197e-03 -5.32825617e-03  3.13768499e-02 -9.20158127e-05\n",
      "  1.46100633e-02 -1.40523035e-02  5.54506443e-02  2.19492428e-02\n",
      "  1.89618636e-02  3.71764065e-03 -1.36727430e-02  1.62533429e-02\n",
      " -3.01049873e-02  4.61578444e-02 -1.95630509e-02 -3.35593633e-02\n",
      " -3.15273143e-02  4.82938662e-02 -4.22241203e-02 -2.23551281e-02\n",
      "  5.12474626e-02 -6.68222725e-04  2.23498009e-02  4.87046503e-02\n",
      "  3.69435810e-02 -2.57297177e-02 -3.53140756e-02 -3.52872051e-02\n",
      " -6.47633220e-04 -6.35336190e-02  1.88324805e-02  3.36891562e-02\n",
      " -1.45253967e-02 -2.28931988e-03 -2.39648577e-02  5.27600609e-02\n",
      "  1.16288662e-02 -3.50719616e-02  4.86926958e-02 -2.37896331e-02\n",
      "  3.37584391e-02  3.36017981e-02  1.92901604e-02 -1.29588479e-02\n",
      "  2.07243729e-02  1.76847465e-02 -7.19148070e-02 -3.13038775e-03\n",
      "  1.14285024e-02  6.53899461e-02  3.37995328e-02 -1.25738690e-02\n",
      " -2.55674645e-02 -4.09076810e-02 -1.89515557e-02  8.01467448e-02\n",
      " -4.27105743e-03  1.06939403e-02 -1.88026596e-02  1.74201466e-02\n",
      "  1.82826780e-02  3.66105721e-03 -9.57242865e-03 -6.15532435e-02\n",
      " -3.79668958e-02 -9.67014767e-03 -2.47787335e-03  3.80398370e-02\n",
      " -3.80113535e-02  8.34929477e-03 -6.10519154e-03 -2.96120960e-02\n",
      " -2.62694303e-02  6.26947777e-03 -1.92677081e-02  3.08348648e-02\n",
      " -2.37603746e-02 -3.11389975e-02 -6.16479386e-03  1.56090949e-02\n",
      " -1.57697953e-03  2.31041443e-02  1.22424569e-02  5.75773455e-02\n",
      "  2.15353854e-02 -4.30317260e-02 -1.94167867e-02 -1.80204455e-02\n",
      "  9.57862567e-03 -3.15355249e-02 -3.71744744e-02 -3.00462786e-02\n",
      " -4.52261157e-02 -1.91050246e-02  1.12439571e-02 -3.72240432e-02\n",
      "  1.18344426e-02 -7.02659637e-02 -3.13562118e-02 -1.77978035e-02\n",
      " -3.00803524e-03 -1.31814117e-02  2.04212721e-02 -6.28958736e-03\n",
      " -1.91970654e-02  1.06114335e-02 -2.45205616e-03  2.70256232e-02\n",
      "  6.52716458e-02 -1.43372901e-02  4.06094380e-02 -1.71070192e-02\n",
      "  3.62858847e-02  7.23009855e-02  3.63829322e-02 -5.32203205e-02\n",
      " -1.80172622e-02 -1.36208432e-02 -7.92404488e-02 -1.25989616e-02\n",
      "  1.54820886e-02 -2.13306323e-02  2.69696284e-02  4.73743230e-02\n",
      " -3.77162173e-02 -2.95297541e-02 -1.08326925e-02  3.32567170e-02\n",
      " -1.63745135e-03  7.81604089e-03 -2.30590403e-02 -5.59360348e-03\n",
      " -3.51547711e-02  2.71636657e-02 -9.27999907e-04  2.79309917e-02\n",
      "  6.60584047e-02 -6.88003888e-03  1.22662568e-02  6.37296168e-03\n",
      " -1.73529647e-02 -5.32234907e-02 -3.31759900e-02 -6.35309219e-02\n",
      "  2.02329946e-03  2.58105751e-02 -7.59073580e-03 -2.90958378e-02\n",
      "  8.94351862e-03 -1.46541856e-02 -4.31188308e-02  2.48637386e-02\n",
      "  3.90757583e-02  1.58315543e-02  9.59181134e-03  5.27507663e-02\n",
      " -3.33743147e-03  4.53037880e-02 -3.23478431e-02 -2.17797179e-02\n",
      " -1.19169271e-02  3.65007408e-02 -5.45860566e-02  4.56017219e-02\n",
      "  8.22217029e-04 -2.41455063e-02  1.93463359e-02 -4.02550884e-02\n",
      "  1.95412431e-03 -1.51453456e-02  1.99792292e-02 -1.65737011e-02\n",
      " -2.20775921e-02  5.06041339e-03 -6.73950016e-02 -2.97406688e-02\n",
      " -1.44651718e-02  2.74360813e-02  4.79929782e-02 -1.00279786e-02\n",
      " -4.18094825e-03 -1.16263488e-02 -6.06580544e-03  3.47241126e-02\n",
      "  2.59911618e-03 -5.45630464e-03 -4.56671715e-02 -8.10541287e-02\n",
      "  1.42476172e-03  2.26570922e-03 -9.81692970e-03 -2.33565867e-02\n",
      "  5.12434207e-02  4.10651155e-02 -2.39836649e-04 -7.53413141e-02\n",
      "  5.48453182e-02 -8.92865472e-04 -2.10847780e-02  6.49823714e-03\n",
      "  3.59408818e-02  1.54751977e-02  2.51168516e-02  6.67514373e-03\n",
      " -5.21733798e-03 -6.36594221e-02 -6.28626049e-02 -2.26362217e-02\n",
      "  1.47810974e-03  7.01045210e-04 -3.37143219e-03 -1.37117459e-02\n",
      "  3.58448160e-04 -3.22765931e-02 -2.84153549e-03 -2.26889513e-02\n",
      "  5.82583062e-03 -2.26562517e-03  2.17804797e-02 -6.66724332e-03\n",
      " -2.50142086e-02  3.42395641e-02  1.02526732e-02 -7.24208653e-02\n",
      "  7.40717724e-02 -4.69375122e-03 -2.70019956e-02  4.58944999e-02\n",
      " -3.86319272e-02  1.84921380e-02 -2.99260579e-02  3.33628878e-02\n",
      " -6.53331503e-02 -5.04957251e-02 -4.63539213e-02  3.97886224e-02\n",
      " -1.30180810e-02 -1.51109817e-02  6.24754503e-02  5.54540334e-03\n",
      "  2.63754632e-02  2.50564027e-03  5.99018345e-03  4.41423105e-03\n",
      " -2.84392796e-02  3.84878973e-03  1.90126821e-02  5.52633181e-02\n",
      "  1.08980816e-02  3.13038491e-02  2.92702448e-02 -3.68366279e-02\n",
      "  4.61171418e-02 -1.19645766e-03  4.90432307e-02  4.50741471e-04\n",
      " -2.93058362e-02 -1.10685257e-02  1.58686545e-02 -5.18443324e-02\n",
      "  8.23001470e-03 -3.28000262e-02 -1.09559987e-02 -5.14722392e-02\n",
      "  2.50041429e-02 -3.12231611e-02  2.47575762e-03 -1.20462384e-02\n",
      "  6.22415589e-03  6.14062045e-03 -4.92628245e-03 -2.63246726e-02\n",
      "  5.57543128e-04 -7.24367052e-03  1.92314126e-02 -3.55483703e-02\n",
      " -3.96639332e-02  6.54574810e-03  7.90661946e-03  1.62136927e-02\n",
      " -4.51481789e-02 -1.96116883e-02 -2.96972562e-02  1.26441466e-02\n",
      " -5.42888641e-02 -1.06026577e-02  2.32581217e-02 -6.33641332e-02\n",
      "  2.87853368e-02 -5.52591681e-02 -8.51776131e-05  4.40529436e-02\n",
      " -1.59249250e-02 -1.15235997e-02 -4.76988666e-02 -4.56413254e-02\n",
      "  1.76850799e-02  2.27663573e-02 -1.19508533e-02 -4.29115258e-02\n",
      "  4.00855727e-02  4.78201592e-03 -9.32038855e-03  5.57708852e-02\n",
      " -9.24890337e-04  5.58210686e-02 -5.18779680e-02 -1.80302169e-02\n",
      "  5.61077101e-03 -3.73941176e-02 -5.76775931e-02  1.69075616e-02\n",
      "  4.97756265e-02  2.44966522e-02 -3.89126800e-02  2.14538258e-03\n",
      " -2.47913459e-03 -2.24177372e-02 -1.61305200e-02  1.91362146e-02\n",
      "  3.99603769e-02 -4.71194908e-02  2.95027662e-02 -1.35249952e-02\n",
      "  2.69319788e-02 -1.97841544e-02 -1.23056062e-02  4.22449894e-02\n",
      " -2.44826898e-02 -2.63603739e-02 -1.63621120e-02 -1.59207627e-03\n",
      "  4.23743762e-02 -2.43351758e-02  3.15683559e-02  4.33676653e-02\n",
      "  4.35410179e-02 -4.06988524e-03  2.80597284e-02  3.60294990e-02\n",
      " -3.55746001e-02 -1.68682914e-02  6.46958426e-02  4.54494506e-02\n",
      "  2.74136029e-02 -3.17704007e-02 -3.13468017e-02 -4.25317921e-02\n",
      " -7.99496565e-03 -2.01343391e-02 -3.60634997e-02  4.53319103e-02\n",
      "  4.88880724e-02 -1.68697275e-02 -6.59851497e-03  1.49792172e-02\n",
      "  7.99000077e-03  4.89565590e-03 -4.11300696e-02 -2.46279072e-02\n",
      "  2.80523989e-02  5.39861806e-02  1.17781740e-02 -2.01877835e-03\n",
      "  1.26535119e-02  3.21875066e-02 -1.74286626e-02  4.80654277e-03\n",
      "  3.49875763e-02 -4.17367071e-02  2.52058962e-03 -5.17052487e-02\n",
      "  7.95482658e-03 -8.54869559e-03 -2.67275702e-02 -2.87715197e-02\n",
      "  2.34929435e-02 -4.94712126e-03  6.46475703e-02  2.87691764e-05\n",
      "  5.81885092e-02  2.79858150e-02 -3.30460891e-02  1.77490376e-02\n",
      "  2.14410853e-02  5.54760061e-02  9.49363783e-03 -3.51175033e-02\n",
      " -5.10661565e-02  2.05906909e-02  5.34594469e-02 -2.97815148e-02\n",
      "  4.61616274e-03  1.09691173e-02 -3.64200212e-02  7.57700345e-03\n",
      "  9.45110526e-03  1.06513137e-02 -2.70404527e-03 -5.27989343e-02\n",
      " -1.86483096e-02 -9.61730257e-03 -1.15372343e-02  2.47288607e-02\n",
      " -5.26640601e-02  1.16189709e-02 -4.30570766e-02 -5.30132605e-03\n",
      "  1.77476648e-02  3.99319176e-03  2.86672805e-02  5.34887314e-02\n",
      " -3.00400071e-02 -3.53931785e-02 -4.46760620e-04  4.60083559e-02\n",
      " -2.00336296e-02  7.08522797e-02 -3.13455332e-03 -2.23336532e-03\n",
      "  7.63508156e-02  5.40881651e-03 -8.37736949e-03 -5.53161278e-02\n",
      " -4.38744798e-02 -2.67976057e-02 -6.35483265e-02 -3.78199182e-02\n",
      "  2.09924057e-02 -6.18488453e-02 -3.62272970e-02  4.22274992e-02\n",
      " -7.18069775e-03 -5.60073648e-03  4.34714928e-02 -1.01805315e-03\n",
      " -2.81581525e-02 -3.23967785e-02  3.46791781e-02  3.41705419e-02\n",
      " -1.24985678e-02  4.30222303e-02  4.69531640e-02  4.86582518e-02\n",
      " -4.55892459e-02 -1.95407849e-02  3.74308042e-02  1.57264210e-02\n",
      " -4.19067368e-02  2.62358080e-04 -1.01214647e-02 -9.72101931e-03\n",
      " -2.33387761e-02  2.90811975e-02 -2.74552573e-02 -3.77566069e-02\n",
      " -3.76774520e-02 -1.94883998e-02 -2.24894714e-02 -4.73363139e-02\n",
      "  7.77609413e-03 -1.87955826e-04  2.77058370e-02  1.82840563e-02\n",
      "  1.83006488e-02 -1.01921491e-01 -4.70680930e-02 -5.23564853e-02\n",
      " -1.64017454e-02  6.92772716e-02 -3.27538066e-02  8.25223606e-03\n",
      " -3.11799943e-02  4.84627858e-02 -1.90540943e-02 -2.60618739e-02\n",
      "  1.83461476e-02 -1.88131351e-02 -4.06213440e-02  3.60660814e-02\n",
      "  1.36046372e-02 -1.20155700e-02 -7.79691190e-02  3.30338366e-02\n",
      " -1.20165506e-02 -2.56686378e-02 -2.37991344e-02 -1.97914504e-02\n",
      " -9.37089324e-03 -1.87867917e-02  5.56728169e-02  2.65331269e-04\n",
      "  1.58066805e-02  6.35259377e-04 -1.35608790e-02  1.74908340e-02\n",
      " -3.48856561e-02  8.82920809e-03  3.23802652e-03  6.70887111e-03\n",
      " -1.01742912e-02 -2.10105963e-02  4.01957110e-02 -3.01720127e-02\n",
      "  3.39393876e-02  1.72801279e-02  9.67972854e-04 -1.81767605e-02\n",
      " -8.45055189e-03 -1.91589352e-02  1.63002796e-02  2.19178125e-02\n",
      " -3.03567220e-02 -2.05340460e-02 -8.14154558e-03 -2.22439747e-02\n",
      " -4.66277637e-02  1.30397324e-02  5.50115947e-03  2.91233081e-02\n",
      " -2.09335815e-02 -4.65559363e-02  1.82819776e-02  1.61138140e-02\n",
      "  6.58041751e-03  6.83695525e-02  6.83078775e-03 -3.45950201e-02\n",
      " -9.88302939e-03 -1.55456160e-04 -6.13846183e-02  3.89671475e-02\n",
      "  5.01342937e-02  6.62955223e-03 -2.93347668e-02  2.15313043e-02\n",
      "  3.21534649e-02 -4.75383655e-04 -1.52751263e-02  2.49205772e-02\n",
      "  1.74829308e-02  4.11113314e-02  8.77625961e-03  2.01194026e-02\n",
      " -4.92453501e-02 -9.79565550e-03  3.99726555e-02  9.02279932e-03]\n"
     ]
    }
   ],
   "source": [
    "# Load the model from the model file\n",
    "sg_w2v_model = Word2Vec.load('model_w2vec_Bolsonaro')\n",
    "# Unique ID of the word\n",
    "print(\"Index of the word 'action':\")\n",
    "#print(sg_w2v_model.wv.vocab[\"action\"].index)\n",
    "# Total number of the words \n",
    "#print(len(sg_w2v_model.wv.vocab))\n",
    "# Print the size of the word2vec vector for one word\n",
    "#print(\"Length of the vector generated for a word\")\n",
    "#print(len(sg_w2v_model['action']))\n",
    "# Get the mean for the vectors for an example review\n",
    "print(\"Print the length after taking average of all word vectors in a sentence:\")\n",
    "print(np.mean([sg_w2v_model.wv[token] for token in df.Text_Final[0]], axis=0))\n"
   ]
  },
  {
   "cell_type": "code",
   "execution_count": 28,
   "id": "d8e134a5",
   "metadata": {},
   "outputs": [],
   "source": [
    "# Function to average all word vectors in a paragraph\n",
    "def featureVecMethod(words, model, num_features):\n",
    "    # Pre-initialising empty numpy array for speed\n",
    "    featureVec = np.zeros(num_features,dtype=\"float32\")\n",
    "    nwords = 0\n",
    "    \n",
    "    #Converting Index2Word which is a list to a set for better speed in the execution.\n",
    "    index2word_set = set(model.wv.index_to_key)\n",
    "    \n",
    "    for word in  words:\n",
    "        if word in index2word_set:\n",
    "            nwords = nwords + 1\n",
    "            featureVec = np.add(featureVec,model.wv[word])\n",
    "    \n",
    "    # Dividing the result by number of words to get average\n",
    "    featureVec = np.divide(featureVec, nwords)\n",
    "    return featureVec"
   ]
  },
  {
   "cell_type": "code",
   "execution_count": 29,
   "id": "b1880f39",
   "metadata": {},
   "outputs": [],
   "source": [
    "# Function for calculating the average feature vector\n",
    "def getAvgFeatureVecs(reviews, model, num_features):\n",
    "    counter = 0\n",
    "    reviewFeatureVecs = np.zeros((len(reviews),num_features),dtype=\"float32\")\n",
    "    for review in reviews:\n",
    "        # Printing a status message every 1000th review\n",
    "        if counter%1000 == 0:\n",
    "            print(\"Review %d of %d\"%(counter,len(reviews)))\n",
    "            \n",
    "        reviewFeatureVecs[counter] = featureVecMethod(review, model, num_features)\n",
    "        counter = counter+1\n",
    "        \n",
    "    return reviewFeatureVecs"
   ]
  },
  {
   "cell_type": "code",
   "execution_count": 30,
   "id": "33bd04f0",
   "metadata": {},
   "outputs": [
    {
     "name": "stdout",
     "output_type": "stream",
     "text": [
      "Review 0 of 70\n"
     ]
    }
   ],
   "source": [
    "# Calculating average feature vector for training set\n",
    "trainDataVecs = getAvgFeatureVecs(Train_X, sg_w2v_model, size)"
   ]
  },
  {
   "cell_type": "code",
   "execution_count": 31,
   "id": "1e8a9a9e",
   "metadata": {},
   "outputs": [
    {
     "name": "stdout",
     "output_type": "stream",
     "text": [
      "Review 0 of 30\n"
     ]
    }
   ],
   "source": [
    "# Calculating average feature vactors for test set     \n",
    "    \n",
    "testDataVecs = getAvgFeatureVecs(Test_X, sg_w2v_model, size)"
   ]
  },
  {
   "cell_type": "code",
   "execution_count": 32,
   "id": "7d580a82",
   "metadata": {},
   "outputs": [
    {
     "name": "stdout",
     "output_type": "stream",
     "text": [
      "SVM Accuracy:  33.33333333333333\n",
      "SVM F-Measure:  16.666666666666664\n",
      "SVM Precision:  33.33333333333333\n",
      "SVM Recall:  11.11111111111111\n"
     ]
    },
    {
     "name": "stderr",
     "output_type": "stream",
     "text": [
      "/Users/maiaracandido/opt/anaconda3/lib/python3.8/site-packages/sklearn/metrics/_classification.py:1327: UndefinedMetricWarning: Recall is ill-defined and being set to 0.0 in labels with no true samples. Use `zero_division` parameter to control this behavior.\n",
      "  _warn_prf(average, modifier, msg_start, len(result))\n"
     ]
    }
   ],
   "source": [
    "# Classificador SVM with word2vec\n",
    "# ajustar o conjunto de dados de treinamento no classificador SVM\n",
    "SVM = svm.SVC(C=1.0, kernel='linear', degree=3, gamma='auto')\n",
    "SVM.fit(trainDataVecs,Train_Y)\n",
    "# prever os rótulos no conjunto de dados de validação\n",
    "predictions_SVM = SVM.predict(testDataVecs)\n",
    "#imprimir na tela a acurácia, f-measure, precisão e recall\n",
    "print(\"SVM Accuracy: \",accuracy_score(predictions_SVM, Test_Y)*100)\n",
    "print(\"SVM F-Measure: \",f1_score(predictions_SVM, Test_Y, average=\"macro\")*100)\n",
    "print(\"SVM Precision: \",precision_score(predictions_SVM, Test_Y, average=\"macro\")*100)\n",
    "print(\"SVM Recall: \",recall_score(predictions_SVM, Test_Y, average=\"macro\")*100)"
   ]
  },
  {
   "cell_type": "code",
   "execution_count": 33,
   "id": "d35f84c1",
   "metadata": {},
   "outputs": [
    {
     "name": "stdout",
     "output_type": "stream",
     "text": [
      "Fitting random forest to training data....\n",
      "Accuracy:  46.666666666666664\n",
      "F-Measure:  40.5918642760748\n",
      "Precision:  45.01831501831502\n",
      "Recall:  44.44444444444444\n"
     ]
    }
   ],
   "source": [
    "# Fitting a random forest classifier to the training data\n",
    "from sklearn.ensemble import RandomForestClassifier\n",
    "forest = RandomForestClassifier(n_estimators = 100)\n",
    "    \n",
    "print(\"Fitting random forest to training data....\")    \n",
    "forest = forest.fit(trainDataVecs, Train_Y)\n",
    "\n",
    "# prever os rótulos no conjunto de dados de validação\n",
    "result = forest.predict(testDataVecs)\n",
    "#imprimir na tela a acurácia, f-measure, precisão e recall\n",
    "print(\"Accuracy: \",accuracy_score(result, Test_Y)*100)\n",
    "print(\"F-Measure: \",f1_score(result, Test_Y, average=\"macro\")*100)\n",
    "print(\"Precision: \",precision_score(result, Test_Y, average=\"macro\")*100)\n",
    "print(\"Recall: \",recall_score(result, Test_Y, average=\"macro\")*100)\n",
    "\n",
    "    "
   ]
  },
  {
   "cell_type": "markdown",
   "id": "c05875cd",
   "metadata": {},
   "source": [
    "Model SVM"
   ]
  },
  {
   "cell_type": "code",
   "execution_count": 162,
   "id": "38068c9d",
   "metadata": {
    "scrolled": true
   },
   "outputs": [],
   "source": [
    "#Read data\n",
    "#preprocess data\n",
    "df_b= pd.read_csv(\"search_bolsonaro -is:retweet lang:pt.csv\")\n",
    "\n",
    "preprocess(df_b)\n"
   ]
  },
  {
   "cell_type": "code",
   "execution_count": 105,
   "id": "25641716",
   "metadata": {},
   "outputs": [],
   "source": [
    "df_b['Text_Final']= [str(item) for item in df_b['Tweet_Text']]"
   ]
  },
  {
   "cell_type": "code",
   "execution_count": 106,
   "id": "90c0a972",
   "metadata": {
    "scrolled": false
   },
   "outputs": [
    {
     "data": {
      "text/html": [
       "<div>\n",
       "<style scoped>\n",
       "    .dataframe tbody tr th:only-of-type {\n",
       "        vertical-align: middle;\n",
       "    }\n",
       "\n",
       "    .dataframe tbody tr th {\n",
       "        vertical-align: top;\n",
       "    }\n",
       "\n",
       "    .dataframe thead th {\n",
       "        text-align: right;\n",
       "    }\n",
       "</style>\n",
       "<table border=\"1\" class=\"dataframe\">\n",
       "  <thead>\n",
       "    <tr style=\"text-align: right;\">\n",
       "      <th></th>\n",
       "      <th>Tweet_ID</th>\n",
       "      <th>Tweet_Text</th>\n",
       "      <th>Created_at</th>\n",
       "      <th>Tweet_Geo</th>\n",
       "      <th>User_Name</th>\n",
       "      <th>User_Location</th>\n",
       "      <th>Date_Created</th>\n",
       "      <th>Time_Created</th>\n",
       "      <th>Text_Final</th>\n",
       "    </tr>\n",
       "  </thead>\n",
       "  <tbody>\n",
       "    <tr>\n",
       "      <th>0</th>\n",
       "      <td>1558402223272517632</td>\n",
       "      <td>[lula, bolsonaro, coisa, corrupto, incompetent...</td>\n",
       "      <td>2022-08-13 07:36:58-03:00</td>\n",
       "      <td>NaN</td>\n",
       "      <td>Arthur J. F. Braga</td>\n",
       "      <td>NaN</td>\n",
       "      <td>2022-08-13</td>\n",
       "      <td>07:36:58</td>\n",
       "      <td>['lula', 'bolsonaro', 'coisa', 'corrupto', 'in...</td>\n",
       "    </tr>\n",
       "    <tr>\n",
       "      <th>1</th>\n",
       "      <td>1558402221531959296</td>\n",
       "      <td>[bolsonaro, manifestar, sobre, fake, news, ter...</td>\n",
       "      <td>2022-08-13 07:36:57-03:00</td>\n",
       "      <td>NaN</td>\n",
       "      <td>Jacinto Sorato (Zorat)</td>\n",
       "      <td>Santa Fé do Sul, Brasil</td>\n",
       "      <td>2022-08-13</td>\n",
       "      <td>07:36:57</td>\n",
       "      <td>['bolsonaro', 'manifestar', 'sobre', 'fake', '...</td>\n",
       "    </tr>\n",
       "    <tr>\n",
       "      <th>2</th>\n",
       "      <td>1558402219875115008</td>\n",
       "      <td>[jornalista, dar, notícia, dizer, bolsonaro, r...</td>\n",
       "      <td>2022-08-13 07:36:57-03:00</td>\n",
       "      <td>NaN</td>\n",
       "      <td>Cristina Oliveira</td>\n",
       "      <td>Florianópolis</td>\n",
       "      <td>2022-08-13</td>\n",
       "      <td>07:36:57</td>\n",
       "      <td>['jornalista', 'dar', 'notícia', 'dizer', 'bol...</td>\n",
       "    </tr>\n",
       "    <tr>\n",
       "      <th>3</th>\n",
       "      <td>1558402198731689991</td>\n",
       "      <td>[acreditar, fake, news, bolsonaro, esposa, alm...</td>\n",
       "      <td>2022-08-13 07:36:52-03:00</td>\n",
       "      <td>NaN</td>\n",
       "      <td>camila</td>\n",
       "      <td>NaN</td>\n",
       "      <td>2022-08-13</td>\n",
       "      <td>07:36:52</td>\n",
       "      <td>['acreditar', 'fake', 'news', 'bolsonaro', 'es...</td>\n",
       "    </tr>\n",
       "    <tr>\n",
       "      <th>4</th>\n",
       "      <td>1558402180436172800</td>\n",
       "      <td>[bom, bolsonaro, lula, porquê]</td>\n",
       "      <td>2022-08-13 07:36:48-03:00</td>\n",
       "      <td>NaN</td>\n",
       "      <td>Akemi</td>\n",
       "      <td>NaN</td>\n",
       "      <td>2022-08-13</td>\n",
       "      <td>07:36:48</td>\n",
       "      <td>['bom', 'bolsonaro', 'lula', 'porquê']</td>\n",
       "    </tr>\n",
       "  </tbody>\n",
       "</table>\n",
       "</div>"
      ],
      "text/plain": [
       "              Tweet_ID                                         Tweet_Text  \\\n",
       "0  1558402223272517632  [lula, bolsonaro, coisa, corrupto, incompetent...   \n",
       "1  1558402221531959296  [bolsonaro, manifestar, sobre, fake, news, ter...   \n",
       "2  1558402219875115008  [jornalista, dar, notícia, dizer, bolsonaro, r...   \n",
       "3  1558402198731689991  [acreditar, fake, news, bolsonaro, esposa, alm...   \n",
       "4  1558402180436172800                     [bom, bolsonaro, lula, porquê]   \n",
       "\n",
       "                 Created_at Tweet_Geo               User_Name  \\\n",
       "0 2022-08-13 07:36:58-03:00       NaN      Arthur J. F. Braga   \n",
       "1 2022-08-13 07:36:57-03:00       NaN  Jacinto Sorato (Zorat)   \n",
       "2 2022-08-13 07:36:57-03:00       NaN       Cristina Oliveira   \n",
       "3 2022-08-13 07:36:52-03:00       NaN                  camila   \n",
       "4 2022-08-13 07:36:48-03:00       NaN                   Akemi   \n",
       "\n",
       "             User_Location Date_Created Time_Created  \\\n",
       "0                      NaN   2022-08-13     07:36:58   \n",
       "1  Santa Fé do Sul, Brasil   2022-08-13     07:36:57   \n",
       "2            Florianópolis   2022-08-13     07:36:57   \n",
       "3                      NaN   2022-08-13     07:36:52   \n",
       "4                      NaN   2022-08-13     07:36:48   \n",
       "\n",
       "                                          Text_Final  \n",
       "0  ['lula', 'bolsonaro', 'coisa', 'corrupto', 'in...  \n",
       "1  ['bolsonaro', 'manifestar', 'sobre', 'fake', '...  \n",
       "2  ['jornalista', 'dar', 'notícia', 'dizer', 'bol...  \n",
       "3  ['acreditar', 'fake', 'news', 'bolsonaro', 'es...  \n",
       "4             ['bom', 'bolsonaro', 'lula', 'porquê']  "
      ]
     },
     "execution_count": 106,
     "metadata": {},
     "output_type": "execute_result"
    }
   ],
   "source": [
    "df_b.head()"
   ]
  },
  {
   "cell_type": "code",
   "execution_count": 107,
   "id": "321ae5dd",
   "metadata": {},
   "outputs": [
    {
     "name": "stdout",
     "output_type": "stream",
     "text": [
      "positivo    782633\n",
      "negativo    194840\n",
      "neutro       89961\n",
      "Name: predict, dtype: int64\n"
     ]
    }
   ],
   "source": [
    "Test_X_B = Tfidf_vect.transform(df_b['Text_Final'])\n",
    "\n",
    "# ajustar o conjunto de dados de treinamento no classificador NB\n",
    "Naive = naive_bayes.MultinomialNB()\n",
    "Naive.fit(Train_X_Tfidf,Train_Y)\n",
    "# prever os rótulos no conjunto de dados de validação\n",
    "predictions_NB = Naive.predict(Test_X_Tfidf)\n",
    "predictions_NBTest = Naive.predict(Test_X_B)\n",
    "Test_YRecover = Encoder.inverse_transform(predictions_NBTest)\n",
    "#print(Test_YRecover)\n",
    "\n",
    "# Classificador SVM\n",
    "# ajustar o conjunto de dados de treinamento no classificador SVM\n",
    "SVM = svm.SVC(C=1.0, kernel='linear', degree=3, gamma='auto')\n",
    "SVM.fit(Train_X_Tfidf,Train_Y)\n",
    "# prever os rótulos no conjunto de dados de validação\n",
    "predictions_SVM = SVM.predict(Test_X_B )\n",
    "predictions = SVM.predict(Test_X_B )\n",
    "predictions_recovered = Encoder.inverse_transform(predictions)\n",
    "df_b['predict'] = predictions_recovered \n",
    "\n",
    "print (df_b['predict'].value_counts())"
   ]
  },
  {
   "cell_type": "code",
   "execution_count": 108,
   "id": "ee30b3f2",
   "metadata": {},
   "outputs": [],
   "source": [
    "# Overall sentiment breakdown\n",
    "\n",
    "bolsonaro_positive = len(df.loc[df_b['predict']=='positivo'])\n",
    "bolsonaro_neutral = len(df.loc[df_b['predict']=='neutro'])\n",
    "bolsonaro_negative = len(df.loc[df_b['predict']=='negativo'])\n"
   ]
  },
  {
   "cell_type": "code",
   "execution_count": 134,
   "id": "4c9360ab",
   "metadata": {
    "scrolled": true
   },
   "outputs": [
    {
     "data": {
      "image/png": "[encoded data removed]",
      "text/plain": [
       "<Figure size 576x360 with 1 Axes>"
      ]
     },
     "metadata": {
      "needs_background": "light"
     },
     "output_type": "display_data"
    }
   ],
   "source": [
    "# Graphing the number of  tweets by sentiment\n",
    "data_t = {'Positivo':bolsonaro_positive,'Neutro':bolsonaro_neutral,'Negativo':bolsonaro_negative}\n",
    "sentiment_t = data_t.keys()\n",
    "num_tweets_t = data_t.values() \n",
    "\n",
    "plt.figure(figsize = (8, 5)) \n",
    "\n",
    "plt.bar(sentiment_t, num_tweets_t, color ='#48A0C9', width = 0.5, edgecolor='black',) \n",
    "\n",
    "plt.xlabel(\"Sentimento\", fontweight ='bold') \n",
    "plt.ylabel(\"Numero de Tweets\", fontweight ='bold') \n",
    "plt.title(\"Tweets por Sentimento\", fontweight ='bold') \n",
    "plt.show() "
   ]
  },
  {
   "cell_type": "code",
   "execution_count": 110,
   "id": "5f3a0cc4",
   "metadata": {},
   "outputs": [],
   "source": [
    "# Function to return a string of all words in all tweets\n",
    "\n",
    "def get_all_tweets(df,by_sentiment=False,sentiment=\"positivo\"):\n",
    "    \n",
    "    # Combine all words in tweets into a string\n",
    "    if by_sentiment:\n",
    "        if sentiment == \"positivo\":\n",
    "            words = ' '.join((df.loc[df['predict']=='positivo'])['Tweet_Text'].apply(lambda x: ' '.join(x)))\n",
    "        elif sentiment == \"neutro\":\n",
    "            words = ' '.join((df.loc[df['predict']=='neutro'])['Tweet_Text'].apply(lambda x: ' '.join(x)))\n",
    "        else:\n",
    "            words = ' '.join((df.loc[df['predict']=='negativo'])['Tweet_Text'].apply(lambda x: ' '.join(x)))\n",
    "    else:\n",
    "        words = ' '.join(df['Tweet_Text'].apply(lambda x: ' '.join(x)))\n",
    "        \n",
    "    return words"
   ]
  },
  {
   "cell_type": "code",
   "execution_count": 111,
   "id": "8b6a8f61",
   "metadata": {},
   "outputs": [],
   "source": [
    "# Create word strings\n",
    "words = get_all_tweets(df_b)\n",
    "words_pos = get_all_tweets(df_b,True,\"positivo\")\n",
    "words_neu = get_all_tweets(df_b,True,\"neutro\")\n",
    "words_neg= get_all_tweets(df_b,True,\"negativo\")\n",
    "\n"
   ]
  },
  {
   "cell_type": "code",
   "execution_count": 112,
   "id": "4f71a7ea",
   "metadata": {},
   "outputs": [],
   "source": [
    "#funcao retorna tokens palavras\n",
    "def stringToList(string):\n",
    "    listRes = list(string.split(\" \"))\n",
    "    return listRes"
   ]
  },
  {
   "cell_type": "code",
   "execution_count": 113,
   "id": "4626fbae",
   "metadata": {},
   "outputs": [],
   "source": [
    "tokens = stringToList(words)\n",
    "tokens_pos = stringToList(words_pos)\n",
    "tokens_neu = stringToList(words_neu)\n",
    "tokens_neg = stringToList(words_neg)    "
   ]
  },
  {
   "cell_type": "code",
   "execution_count": 114,
   "id": "b05f6800",
   "metadata": {},
   "outputs": [],
   "source": [
    "# Function to plot most frquent words\n",
    "def plot_word_freq(tokens,sentiment,name,color):\n",
    "    fdist = FreqDist(tokens)\n",
    "    fdist_df = pd.DataFrame(fdist.most_common(10), columns = [\"Palavra\",\"Frequência\"])\n",
    "    fig = px.bar(fdist_df, x=\"Palavra\", y=\"Frequência\",\n",
    "                 title=\"<b>Palavras mais frequentes em </b>\" + \"<b>Tweets </b>\" + \" \" + sentiment + \" \" + name )\n",
    "    fig.update_traces(marker=dict(color=color),selector=dict(type=\"bar\"),\n",
    "                      marker_line_color='black', marker_line_width=1.5, opacity=0.6)\n",
    "    fig.show()\n"
   ]
  },
  {
   "cell_type": "code",
   "execution_count": 132,
   "id": "b4c3212a",
   "metadata": {},
   "outputs": [
    {
     "data": {
      "application/vnd.plotly.v1+json": {
       "config": {
        "plotlyServerURL": "https://plot.ly"
       },
       "data": [
        {
         "alignmentgroup": "True",
         "hovertemplate": "Palavra=%{x}<br>Frequência=%{y}<extra></extra>",
         "legendgroup": "",
         "marker": {
          "color": "red",
          "line": {
           "color": "black",
           "width": 1.5
          },
          "pattern": {
           "shape": ""
          }
         },
         "name": "",
         "offsetgroup": "",
         "opacity": 0.6,
         "orientation": "v",
         "showlegend": false,
         "textposition": "auto",
         "type": "bar",
         "x": [
          "bolsonaro",
          "ter",
          "ir",
          "lula",
          "presidente",
          "brasil",
          "fazer",
          "pra",
          "todo",
          "falar"
         ],
         "xaxis": "x",
         "y": [
          1109430,
          194812,
          175390,
          156471,
          126946,
          103678,
          98770,
          91116,
          74728,
          64234
         ],
         "yaxis": "y"
        }
       ],
       "layout": {
        "barmode": "relative",
        "legend": {
         "tracegroupgap": 0
        },
        "template": {
         "data": {
          "bar": [
           {
            "error_x": {
             "color": "#2a3f5f"
            },
            "error_y": {
             "color": "#2a3f5f"
            },
            "marker": {
             "line": {
              "color": "#E5ECF6",
              "width": 0.5
             },
             "pattern": {
              "fillmode": "overlay",
              "size": 10,
              "solidity": 0.2
             }
            },
            "type": "bar"
           }
          ],
          "barpolar": [
           {
            "marker": {
             "line": {
              "color": "#E5ECF6",
              "width": 0.5
             },
             "pattern": {
              "fillmode": "overlay",
              "size": 10,
              "solidity": 0.2
             }
            },
            "type": "barpolar"
           }
          ],
          "carpet": [
           {
            "aaxis": {
             "endlinecolor": "#2a3f5f",
             "gridcolor": "white",
             "linecolor": "white",
             "minorgridcolor": "white",
             "startlinecolor": "#2a3f5f"
            },
            "baxis": {
             "endlinecolor": "#2a3f5f",
             "gridcolor": "white",
             "linecolor": "white",
             "minorgridcolor": "white",
             "startlinecolor": "#2a3f5f"
            },
            "type": "carpet"
           }
          ],
          "choropleth": [
           {
            "colorbar": {
             "outlinewidth": 0,
             "ticks": ""
            },
            "type": "choropleth"
           }
          ],
          "contour": [
           {
            "colorbar": {
             "outlinewidth": 0,
             "ticks": ""
            },
            "colorscale": [
             [
              0,
              "#0d0887"
             ],
             [
              0.1111111111111111,
              "#46039f"
             ],
             [
              0.2222222222222222,
              "#7201a8"
             ],
             [
              0.3333333333333333,
              "#9c179e"
             ],
             [
              0.4444444444444444,
              "#bd3786"
             ],
             [
              0.5555555555555556,
              "#d8576b"
             ],
             [
              0.6666666666666666,
              "#ed7953"
             ],
             [
              0.7777777777777778,
              "#fb9f3a"
             ],
             [
              0.8888888888888888,
              "#fdca26"
             ],
             [
              1,
              "#f0f921"
             ]
            ],
            "type": "contour"
           }
          ],
          "contourcarpet": [
           {
            "colorbar": {
             "outlinewidth": 0,
             "ticks": ""
            },
            "type": "contourcarpet"
           }
          ],
          "heatmap": [
           {
            "colorbar": {
             "outlinewidth": 0,
             "ticks": ""
            },
            "colorscale": [
             [
              0,
              "#0d0887"
             ],
             [
              0.1111111111111111,
              "#46039f"
             ],
             [
              0.2222222222222222,
              "#7201a8"
             ],
             [
              0.3333333333333333,
              "#9c179e"
             ],
             [
              0.4444444444444444,
              "#bd3786"
             ],
             [
              0.5555555555555556,
              "#d8576b"
             ],
             [
              0.6666666666666666,
              "#ed7953"
             ],
             [
              0.7777777777777778,
              "#fb9f3a"
             ],
             [
              0.8888888888888888,
              "#fdca26"
             ],
             [
              1,
              "#f0f921"
             ]
            ],
            "type": "heatmap"
           }
          ],
          "heatmapgl": [
           {
            "colorbar": {
             "outlinewidth": 0,
             "ticks": ""
            },
            "colorscale": [
             [
              0,
              "#0d0887"
             ],
             [
              0.1111111111111111,
              "#46039f"
             ],
             [
              0.2222222222222222,
              "#7201a8"
             ],
             [
              0.3333333333333333,
              "#9c179e"
             ],
             [
              0.4444444444444444,
              "#bd3786"
             ],
             [
              0.5555555555555556,
              "#d8576b"
             ],
             [
              0.6666666666666666,
              "#ed7953"
             ],
             [
              0.7777777777777778,
              "#fb9f3a"
             ],
             [
              0.8888888888888888,
              "#fdca26"
             ],
             [
              1,
              "#f0f921"
             ]
            ],
            "type": "heatmapgl"
           }
          ],
          "histogram": [
           {
            "marker": {
             "pattern": {
              "fillmode": "overlay",
              "size": 10,
              "solidity": 0.2
             }
            },
            "type": "histogram"
           }
          ],
          "histogram2d": [
           {
            "colorbar": {
             "outlinewidth": 0,
             "ticks": ""
            },
            "colorscale": [
             [
              0,
              "#0d0887"
             ],
             [
              0.1111111111111111,
              "#46039f"
             ],
             [
              0.2222222222222222,
              "#7201a8"
             ],
             [
              0.3333333333333333,
              "#9c179e"
             ],
             [
              0.4444444444444444,
              "#bd3786"
             ],
             [
              0.5555555555555556,
              "#d8576b"
             ],
             [
              0.6666666666666666,
              "#ed7953"
             ],
             [
              0.7777777777777778,
              "#fb9f3a"
             ],
             [
              0.8888888888888888,
              "#fdca26"
             ],
             [
              1,
              "#f0f921"
             ]
            ],
            "type": "histogram2d"
           }
          ],
          "histogram2dcontour": [
           {
            "colorbar": {
             "outlinewidth": 0,
             "ticks": ""
            },
            "colorscale": [
             [
              0,
              "#0d0887"
             ],
             [
              0.1111111111111111,
              "#46039f"
             ],
             [
              0.2222222222222222,
              "#7201a8"
             ],
             [
              0.3333333333333333,
              "#9c179e"
             ],
             [
              0.4444444444444444,
              "#bd3786"
             ],
             [
              0.5555555555555556,
              "#d8576b"
             ],
             [
              0.6666666666666666,
              "#ed7953"
             ],
             [
              0.7777777777777778,
              "#fb9f3a"
             ],
             [
              0.8888888888888888,
              "#fdca26"
             ],
             [
              1,
              "#f0f921"
             ]
            ],
            "type": "histogram2dcontour"
           }
          ],
          "mesh3d": [
           {
            "colorbar": {
             "outlinewidth": 0,
             "ticks": ""
            },
            "type": "mesh3d"
           }
          ],
          "parcoords": [
           {
            "line": {
             "colorbar": {
              "outlinewidth": 0,
              "ticks": ""
             }
            },
            "type": "parcoords"
           }
          ],
          "pie": [
           {
            "automargin": true,
            "type": "pie"
           }
          ],
          "scatter": [
           {
            "fillpattern": {
             "fillmode": "overlay",
             "size": 10,
             "solidity": 0.2
            },
            "type": "scatter"
           }
          ],
          "scatter3d": [
           {
            "line": {
             "colorbar": {
              "outlinewidth": 0,
              "ticks": ""
             }
            },
            "marker": {
             "colorbar": {
              "outlinewidth": 0,
              "ticks": ""
             }
            },
            "type": "scatter3d"
           }
          ],
          "scattercarpet": [
           {
            "marker": {
             "colorbar": {
              "outlinewidth": 0,
              "ticks": ""
             }
            },
            "type": "scattercarpet"
           }
          ],
          "scattergeo": [
           {
            "marker": {
             "colorbar": {
              "outlinewidth": 0,
              "ticks": ""
             }
            },
            "type": "scattergeo"
           }
          ],
          "scattergl": [
           {
            "marker": {
             "colorbar": {
              "outlinewidth": 0,
              "ticks": ""
             }
            },
            "type": "scattergl"
           }
          ],
          "scattermapbox": [
           {
            "marker": {
             "colorbar": {
              "outlinewidth": 0,
              "ticks": ""
             }
            },
            "type": "scattermapbox"
           }
          ],
          "scatterpolar": [
           {
            "marker": {
             "colorbar": {
              "outlinewidth": 0,
              "ticks": ""
             }
            },
            "type": "scatterpolar"
           }
          ],
          "scatterpolargl": [
           {
            "marker": {
             "colorbar": {
              "outlinewidth": 0,
              "ticks": ""
             }
            },
            "type": "scatterpolargl"
           }
          ],
          "scatterternary": [
           {
            "marker": {
             "colorbar": {
              "outlinewidth": 0,
              "ticks": ""
             }
            },
            "type": "scatterternary"
           }
          ],
          "surface": [
           {
            "colorbar": {
             "outlinewidth": 0,
             "ticks": ""
            },
            "colorscale": [
             [
              0,
              "#0d0887"
             ],
             [
              0.1111111111111111,
              "#46039f"
             ],
             [
              0.2222222222222222,
              "#7201a8"
             ],
             [
              0.3333333333333333,
              "#9c179e"
             ],
             [
              0.4444444444444444,
              "#bd3786"
             ],
             [
              0.5555555555555556,
              "#d8576b"
             ],
             [
              0.6666666666666666,
              "#ed7953"
             ],
             [
              0.7777777777777778,
              "#fb9f3a"
             ],
             [
              0.8888888888888888,
              "#fdca26"
             ],
             [
              1,
              "#f0f921"
             ]
            ],
            "type": "surface"
           }
          ],
          "table": [
           {
            "cells": {
             "fill": {
              "color": "#EBF0F8"
             },
             "line": {
              "color": "white"
             }
            },
            "header": {
             "fill": {
              "color": "#C8D4E3"
             },
             "line": {
              "color": "white"
             }
            },
            "type": "table"
           }
          ]
         },
         "layout": {
          "annotationdefaults": {
           "arrowcolor": "#2a3f5f",
           "arrowhead": 0,
           "arrowwidth": 1
          },
          "autotypenumbers": "strict",
          "coloraxis": {
           "colorbar": {
            "outlinewidth": 0,
            "ticks": ""
           }
          },
          "colorscale": {
           "diverging": [
            [
             0,
             "#8e0152"
            ],
            [
             0.1,
             "#c51b7d"
            ],
            [
             0.2,
             "#de77ae"
            ],
            [
             0.3,
             "#f1b6da"
            ],
            [
             0.4,
             "#fde0ef"
            ],
            [
             0.5,
             "#f7f7f7"
            ],
            [
             0.6,
             "#e6f5d0"
            ],
            [
             0.7,
             "#b8e186"
            ],
            [
             0.8,
             "#7fbc41"
            ],
            [
             0.9,
             "#4d9221"
            ],
            [
             1,
             "#276419"
            ]
           ],
           "sequential": [
            [
             0,
             "#0d0887"
            ],
            [
             0.1111111111111111,
             "#46039f"
            ],
            [
             0.2222222222222222,
             "#7201a8"
            ],
            [
             0.3333333333333333,
             "#9c179e"
            ],
            [
             0.4444444444444444,
             "#bd3786"
            ],
            [
             0.5555555555555556,
             "#d8576b"
            ],
            [
             0.6666666666666666,
             "#ed7953"
            ],
            [
             0.7777777777777778,
             "#fb9f3a"
            ],
            [
             0.8888888888888888,
             "#fdca26"
            ],
            [
             1,
             "#f0f921"
            ]
           ],
           "sequentialminus": [
            [
             0,
             "#0d0887"
            ],
            [
             0.1111111111111111,
             "#46039f"
            ],
            [
             0.2222222222222222,
             "#7201a8"
            ],
            [
             0.3333333333333333,
             "#9c179e"
            ],
            [
             0.4444444444444444,
             "#bd3786"
            ],
            [
             0.5555555555555556,
             "#d8576b"
            ],
            [
             0.6666666666666666,
             "#ed7953"
            ],
            [
             0.7777777777777778,
             "#fb9f3a"
            ],
            [
             0.8888888888888888,
             "#fdca26"
            ],
            [
             1,
             "#f0f921"
            ]
           ]
          },
          "colorway": [
           "#636efa",
           "#EF553B",
           "#00cc96",
           "#ab63fa",
           "#FFA15A",
           "#19d3f3",
           "#FF6692",
           "#B6E880",
           "#FF97FF",
           "#FECB52"
          ],
          "font": {
           "color": "#2a3f5f"
          },
          "geo": {
           "bgcolor": "white",
           "lakecolor": "white",
           "landcolor": "#E5ECF6",
           "showlakes": true,
           "showland": true,
           "subunitcolor": "white"
          },
          "hoverlabel": {
           "align": "left"
          },
          "hovermode": "closest",
          "mapbox": {
           "style": "light"
          },
          "paper_bgcolor": "white",
          "plot_bgcolor": "#E5ECF6",
          "polar": {
           "angularaxis": {
            "gridcolor": "white",
            "linecolor": "white",
            "ticks": ""
           },
           "bgcolor": "#E5ECF6",
           "radialaxis": {
            "gridcolor": "white",
            "linecolor": "white",
            "ticks": ""
           }
          },
          "scene": {
           "xaxis": {
            "backgroundcolor": "#E5ECF6",
            "gridcolor": "white",
            "gridwidth": 2,
            "linecolor": "white",
            "showbackground": true,
            "ticks": "",
            "zerolinecolor": "white"
           },
           "yaxis": {
            "backgroundcolor": "#E5ECF6",
            "gridcolor": "white",
            "gridwidth": 2,
            "linecolor": "white",
            "showbackground": true,
            "ticks": "",
            "zerolinecolor": "white"
           },
           "zaxis": {
            "backgroundcolor": "#E5ECF6",
            "gridcolor": "white",
            "gridwidth": 2,
            "linecolor": "white",
            "showbackground": true,
            "ticks": "",
            "zerolinecolor": "white"
           }
          },
          "shapedefaults": {
           "line": {
            "color": "#2a3f5f"
           }
          },
          "ternary": {
           "aaxis": {
            "gridcolor": "white",
            "linecolor": "white",
            "ticks": ""
           },
           "baxis": {
            "gridcolor": "white",
            "linecolor": "white",
            "ticks": ""
           },
           "bgcolor": "#E5ECF6",
           "caxis": {
            "gridcolor": "white",
            "linecolor": "white",
            "ticks": ""
           }
          },
          "title": {
           "x": 0.05
          },
          "xaxis": {
           "automargin": true,
           "gridcolor": "white",
           "linecolor": "white",
           "ticks": "",
           "title": {
            "standoff": 15
           },
           "zerolinecolor": "white",
           "zerolinewidth": 2
          },
          "yaxis": {
           "automargin": true,
           "gridcolor": "white",
           "linecolor": "white",
           "ticks": "",
           "title": {
            "standoff": 15
           },
           "zerolinecolor": "white",
           "zerolinewidth": 2
          }
         }
        },
        "title": {
         "text": "<b>Palavras mais frequentes em </b><b>Tweets </b> <b>Total</b> <b>Bolsonaro</b>"
        },
        "xaxis": {
         "anchor": "y",
         "domain": [
          0,
          1
         ],
         "title": {
          "text": "Palavra"
         }
        },
        "yaxis": {
         "anchor": "x",
         "domain": [
          0,
          1
         ],
         "title": {
          "text": "Frequência"
         }
        }
       }
      },
      "text/html": [
       "<div>                            <div id=\"96eafeb0-0477-4e4b-b988-9bb088dbb5ed\" class=\"plotly-graph-div\" style=\"height:525px; width:100%;\"></div>            <script type=\"text/javascript\">                require([\"plotly\"], function(Plotly) {                    window.PLOTLYENV=window.PLOTLYENV || {};                                    if (document.getElementById(\"96eafeb0-0477-4e4b-b988-9bb088dbb5ed\")) {                    Plotly.newPlot(                        \"96eafeb0-0477-4e4b-b988-9bb088dbb5ed\",                        [{\"alignmentgroup\":\"True\",\"hovertemplate\":\"Palavra=%{x}<br>Frequ\\u00eancia=%{y}<extra></extra>\",\"legendgroup\":\"\",\"marker\":{\"color\":\"red\",\"pattern\":{\"shape\":\"\"},\"line\":{\"color\":\"black\",\"width\":1.5}},\"name\":\"\",\"offsetgroup\":\"\",\"orientation\":\"v\",\"showlegend\":false,\"textposition\":\"auto\",\"x\":[\"bolsonaro\",\"ter\",\"ir\",\"lula\",\"presidente\",\"brasil\",\"fazer\",\"pra\",\"todo\",\"falar\"],\"xaxis\":\"x\",\"y\":[1109430,194812,175390,156471,126946,103678,98770,91116,74728,64234],\"yaxis\":\"y\",\"type\":\"bar\",\"opacity\":0.6}],                        {\"template\":{\"data\":{\"histogram2dcontour\":[{\"type\":\"histogram2dcontour\",\"colorbar\":{\"outlinewidth\":0,\"ticks\":\"\"},\"colorscale\":[[0.0,\"#0d0887\"],[0.1111111111111111,\"#46039f\"],[0.2222222222222222,\"#7201a8\"],[0.3333333333333333,\"#9c179e\"],[0.4444444444444444,\"#bd3786\"],[0.5555555555555556,\"#d8576b\"],[0.6666666666666666,\"#ed7953\"],[0.7777777777777778,\"#fb9f3a\"],[0.8888888888888888,\"#fdca26\"],[1.0,\"#f0f921\"]]}],\"choropleth\":[{\"type\":\"choropleth\",\"colorbar\":{\"outlinewidth\":0,\"ticks\":\"\"}}],\"histogram2d\":[{\"type\":\"histogram2d\",\"colorbar\":{\"outlinewidth\":0,\"ticks\":\"\"},\"colorscale\":[[0.0,\"#0d0887\"],[0.1111111111111111,\"#46039f\"],[0.2222222222222222,\"#7201a8\"],[0.3333333333333333,\"#9c179e\"],[0.4444444444444444,\"#bd3786\"],[0.5555555555555556,\"#d8576b\"],[0.6666666666666666,\"#ed7953\"],[0.7777777777777778,\"#fb9f3a\"],[0.8888888888888888,\"#fdca26\"],[1.0,\"#f0f921\"]]}],\"heatmap\":[{\"type\":\"heatmap\",\"colorbar\":{\"outlinewidth\":0,\"ticks\":\"\"},\"colorscale\":[[0.0,\"#0d0887\"],[0.1111111111111111,\"#46039f\"],[0.2222222222222222,\"#7201a8\"],[0.3333333333333333,\"#9c179e\"],[0.4444444444444444,\"#bd3786\"],[0.5555555555555556,\"#d8576b\"],[0.6666666666666666,\"#ed7953\"],[0.7777777777777778,\"#fb9f3a\"],[0.8888888888888888,\"#fdca26\"],[1.0,\"#f0f921\"]]}],\"heatmapgl\":[{\"type\":\"heatmapgl\",\"colorbar\":{\"outlinewidth\":0,\"ticks\":\"\"},\"colorscale\":[[0.0,\"#0d0887\"],[0.1111111111111111,\"#46039f\"],[0.2222222222222222,\"#7201a8\"],[0.3333333333333333,\"#9c179e\"],[0.4444444444444444,\"#bd3786\"],[0.5555555555555556,\"#d8576b\"],[0.6666666666666666,\"#ed7953\"],[0.7777777777777778,\"#fb9f3a\"],[0.8888888888888888,\"#fdca26\"],[1.0,\"#f0f921\"]]}],\"contourcarpet\":[{\"type\":\"contourcarpet\",\"colorbar\":{\"outlinewidth\":0,\"ticks\":\"\"}}],\"contour\":[{\"type\":\"contour\",\"colorbar\":{\"outlinewidth\":0,\"ticks\":\"\"},\"colorscale\":[[0.0,\"#0d0887\"],[0.1111111111111111,\"#46039f\"],[0.2222222222222222,\"#7201a8\"],[0.3333333333333333,\"#9c179e\"],[0.4444444444444444,\"#bd3786\"],[0.5555555555555556,\"#d8576b\"],[0.6666666666666666,\"#ed7953\"],[0.7777777777777778,\"#fb9f3a\"],[0.8888888888888888,\"#fdca26\"],[1.0,\"#f0f921\"]]}],\"surface\":[{\"type\":\"surface\",\"colorbar\":{\"outlinewidth\":0,\"ticks\":\"\"},\"colorscale\":[[0.0,\"#0d0887\"],[0.1111111111111111,\"#46039f\"],[0.2222222222222222,\"#7201a8\"],[0.3333333333333333,\"#9c179e\"],[0.4444444444444444,\"#bd3786\"],[0.5555555555555556,\"#d8576b\"],[0.6666666666666666,\"#ed7953\"],[0.7777777777777778,\"#fb9f3a\"],[0.8888888888888888,\"#fdca26\"],[1.0,\"#f0f921\"]]}],\"mesh3d\":[{\"type\":\"mesh3d\",\"colorbar\":{\"outlinewidth\":0,\"ticks\":\"\"}}],\"scatter\":[{\"fillpattern\":{\"fillmode\":\"overlay\",\"size\":10,\"solidity\":0.2},\"type\":\"scatter\"}],\"parcoords\":[{\"type\":\"parcoords\",\"line\":{\"colorbar\":{\"outlinewidth\":0,\"ticks\":\"\"}}}],\"scatterpolargl\":[{\"type\":\"scatterpolargl\",\"marker\":{\"colorbar\":{\"outlinewidth\":0,\"ticks\":\"\"}}}],\"bar\":[{\"error_x\":{\"color\":\"#2a3f5f\"},\"error_y\":{\"color\":\"#2a3f5f\"},\"marker\":{\"line\":{\"color\":\"#E5ECF6\",\"width\":0.5},\"pattern\":{\"fillmode\":\"overlay\",\"size\":10,\"solidity\":0.2}},\"type\":\"bar\"}],\"scattergeo\":[{\"type\":\"scattergeo\",\"marker\":{\"colorbar\":{\"outlinewidth\":0,\"ticks\":\"\"}}}],\"scatterpolar\":[{\"type\":\"scatterpolar\",\"marker\":{\"colorbar\":{\"outlinewidth\":0,\"ticks\":\"\"}}}],\"histogram\":[{\"marker\":{\"pattern\":{\"fillmode\":\"overlay\",\"size\":10,\"solidity\":0.2}},\"type\":\"histogram\"}],\"scattergl\":[{\"type\":\"scattergl\",\"marker\":{\"colorbar\":{\"outlinewidth\":0,\"ticks\":\"\"}}}],\"scatter3d\":[{\"type\":\"scatter3d\",\"line\":{\"colorbar\":{\"outlinewidth\":0,\"ticks\":\"\"}},\"marker\":{\"colorbar\":{\"outlinewidth\":0,\"ticks\":\"\"}}}],\"scattermapbox\":[{\"type\":\"scattermapbox\",\"marker\":{\"colorbar\":{\"outlinewidth\":0,\"ticks\":\"\"}}}],\"scatterternary\":[{\"type\":\"scatterternary\",\"marker\":{\"colorbar\":{\"outlinewidth\":0,\"ticks\":\"\"}}}],\"scattercarpet\":[{\"type\":\"scattercarpet\",\"marker\":{\"colorbar\":{\"outlinewidth\":0,\"ticks\":\"\"}}}],\"carpet\":[{\"aaxis\":{\"endlinecolor\":\"#2a3f5f\",\"gridcolor\":\"white\",\"linecolor\":\"white\",\"minorgridcolor\":\"white\",\"startlinecolor\":\"#2a3f5f\"},\"baxis\":{\"endlinecolor\":\"#2a3f5f\",\"gridcolor\":\"white\",\"linecolor\":\"white\",\"minorgridcolor\":\"white\",\"startlinecolor\":\"#2a3f5f\"},\"type\":\"carpet\"}],\"table\":[{\"cells\":{\"fill\":{\"color\":\"#EBF0F8\"},\"line\":{\"color\":\"white\"}},\"header\":{\"fill\":{\"color\":\"#C8D4E3\"},\"line\":{\"color\":\"white\"}},\"type\":\"table\"}],\"barpolar\":[{\"marker\":{\"line\":{\"color\":\"#E5ECF6\",\"width\":0.5},\"pattern\":{\"fillmode\":\"overlay\",\"size\":10,\"solidity\":0.2}},\"type\":\"barpolar\"}],\"pie\":[{\"automargin\":true,\"type\":\"pie\"}]},\"layout\":{\"autotypenumbers\":\"strict\",\"colorway\":[\"#636efa\",\"#EF553B\",\"#00cc96\",\"#ab63fa\",\"#FFA15A\",\"#19d3f3\",\"#FF6692\",\"#B6E880\",\"#FF97FF\",\"#FECB52\"],\"font\":{\"color\":\"#2a3f5f\"},\"hovermode\":\"closest\",\"hoverlabel\":{\"align\":\"left\"},\"paper_bgcolor\":\"white\",\"plot_bgcolor\":\"#E5ECF6\",\"polar\":{\"bgcolor\":\"#E5ECF6\",\"angularaxis\":{\"gridcolor\":\"white\",\"linecolor\":\"white\",\"ticks\":\"\"},\"radialaxis\":{\"gridcolor\":\"white\",\"linecolor\":\"white\",\"ticks\":\"\"}},\"ternary\":{\"bgcolor\":\"#E5ECF6\",\"aaxis\":{\"gridcolor\":\"white\",\"linecolor\":\"white\",\"ticks\":\"\"},\"baxis\":{\"gridcolor\":\"white\",\"linecolor\":\"white\",\"ticks\":\"\"},\"caxis\":{\"gridcolor\":\"white\",\"linecolor\":\"white\",\"ticks\":\"\"}},\"coloraxis\":{\"colorbar\":{\"outlinewidth\":0,\"ticks\":\"\"}},\"colorscale\":{\"sequential\":[[0.0,\"#0d0887\"],[0.1111111111111111,\"#46039f\"],[0.2222222222222222,\"#7201a8\"],[0.3333333333333333,\"#9c179e\"],[0.4444444444444444,\"#bd3786\"],[0.5555555555555556,\"#d8576b\"],[0.6666666666666666,\"#ed7953\"],[0.7777777777777778,\"#fb9f3a\"],[0.8888888888888888,\"#fdca26\"],[1.0,\"#f0f921\"]],\"sequentialminus\":[[0.0,\"#0d0887\"],[0.1111111111111111,\"#46039f\"],[0.2222222222222222,\"#7201a8\"],[0.3333333333333333,\"#9c179e\"],[0.4444444444444444,\"#bd3786\"],[0.5555555555555556,\"#d8576b\"],[0.6666666666666666,\"#ed7953\"],[0.7777777777777778,\"#fb9f3a\"],[0.8888888888888888,\"#fdca26\"],[1.0,\"#f0f921\"]],\"diverging\":[[0,\"#8e0152\"],[0.1,\"#c51b7d\"],[0.2,\"#de77ae\"],[0.3,\"#f1b6da\"],[0.4,\"#fde0ef\"],[0.5,\"#f7f7f7\"],[0.6,\"#e6f5d0\"],[0.7,\"#b8e186\"],[0.8,\"#7fbc41\"],[0.9,\"#4d9221\"],[1,\"#276419\"]]},\"xaxis\":{\"gridcolor\":\"white\",\"linecolor\":\"white\",\"ticks\":\"\",\"title\":{\"standoff\":15},\"zerolinecolor\":\"white\",\"automargin\":true,\"zerolinewidth\":2},\"yaxis\":{\"gridcolor\":\"white\",\"linecolor\":\"white\",\"ticks\":\"\",\"title\":{\"standoff\":15},\"zerolinecolor\":\"white\",\"automargin\":true,\"zerolinewidth\":2},\"scene\":{\"xaxis\":{\"backgroundcolor\":\"#E5ECF6\",\"gridcolor\":\"white\",\"linecolor\":\"white\",\"showbackground\":true,\"ticks\":\"\",\"zerolinecolor\":\"white\",\"gridwidth\":2},\"yaxis\":{\"backgroundcolor\":\"#E5ECF6\",\"gridcolor\":\"white\",\"linecolor\":\"white\",\"showbackground\":true,\"ticks\":\"\",\"zerolinecolor\":\"white\",\"gridwidth\":2},\"zaxis\":{\"backgroundcolor\":\"#E5ECF6\",\"gridcolor\":\"white\",\"linecolor\":\"white\",\"showbackground\":true,\"ticks\":\"\",\"zerolinecolor\":\"white\",\"gridwidth\":2}},\"shapedefaults\":{\"line\":{\"color\":\"#2a3f5f\"}},\"annotationdefaults\":{\"arrowcolor\":\"#2a3f5f\",\"arrowhead\":0,\"arrowwidth\":1},\"geo\":{\"bgcolor\":\"white\",\"landcolor\":\"#E5ECF6\",\"subunitcolor\":\"white\",\"showland\":true,\"showlakes\":true,\"lakecolor\":\"white\"},\"title\":{\"x\":0.05},\"mapbox\":{\"style\":\"light\"}}},\"xaxis\":{\"anchor\":\"y\",\"domain\":[0.0,1.0],\"title\":{\"text\":\"Palavra\"}},\"yaxis\":{\"anchor\":\"x\",\"domain\":[0.0,1.0],\"title\":{\"text\":\"Frequ\\u00eancia\"}},\"legend\":{\"tracegroupgap\":0},\"title\":{\"text\":\"<b>Palavras mais frequentes em </b><b>Tweets </b> <b>Total</b> <b>Bolsonaro</b>\"},\"barmode\":\"relative\"},                        {\"responsive\": true}                    ).then(function(){\n",
       "                            \n",
       "var gd = document.getElementById('96eafeb0-0477-4e4b-b988-9bb088dbb5ed');\n",
       "var x = new MutationObserver(function (mutations, observer) {{\n",
       "        var display = window.getComputedStyle(gd).display;\n",
       "        if (!display || display === 'none') {{\n",
       "            console.log([gd, 'removed!']);\n",
       "            Plotly.purge(gd);\n",
       "            observer.disconnect();\n",
       "        }}\n",
       "}});\n",
       "\n",
       "// Listen for the removal of the full notebook cells\n",
       "var notebookContainer = gd.closest('#notebook-container');\n",
       "if (notebookContainer) {{\n",
       "    x.observe(notebookContainer, {childList: true});\n",
       "}}\n",
       "\n",
       "// Listen for the clearing of the current output cell\n",
       "var outputEl = gd.closest('.output');\n",
       "if (outputEl) {{\n",
       "    x.observe(outputEl, {childList: true});\n",
       "}}\n",
       "\n",
       "                        })                };                });            </script>        </div>"
      ]
     },
     "metadata": {},
     "output_type": "display_data"
    }
   ],
   "source": [
    "plot_word_freq(tokens,\"<b>Total</b>\",\"<b>Bolsonaro</b>\",\"red\")"
   ]
  },
  {
   "cell_type": "code",
   "execution_count": 117,
   "id": "2073f286",
   "metadata": {},
   "outputs": [
    {
     "data": {
      "application/vnd.plotly.v1+json": {
       "config": {
        "plotlyServerURL": "https://plot.ly"
       },
       "data": [
        {
         "alignmentgroup": "True",
         "hovertemplate": "Palavra=%{x}<br>Frequência=%{y}<extra></extra>",
         "legendgroup": "",
         "marker": {
          "color": "red",
          "line": {
           "color": "black",
           "width": 1.5
          },
          "pattern": {
           "shape": ""
          }
         },
         "name": "",
         "offsetgroup": "",
         "opacity": 0.6,
         "orientation": "v",
         "showlegend": false,
         "textposition": "auto",
         "type": "bar",
         "x": [
          "bolsonaro",
          "lula",
          "presidente",
          "ter",
          "ir",
          "brasil",
          "fazer",
          "pra",
          "falar",
          "votar"
         ],
         "xaxis": "x",
         "y": [
          813896,
          123649,
          118908,
          114403,
          112925,
          87576,
          78892,
          57287,
          56721,
          52187
         ],
         "yaxis": "y"
        }
       ],
       "layout": {
        "barmode": "relative",
        "legend": {
         "tracegroupgap": 0
        },
        "template": {
         "data": {
          "bar": [
           {
            "error_x": {
             "color": "#2a3f5f"
            },
            "error_y": {
             "color": "#2a3f5f"
            },
            "marker": {
             "line": {
              "color": "#E5ECF6",
              "width": 0.5
             },
             "pattern": {
              "fillmode": "overlay",
              "size": 10,
              "solidity": 0.2
             }
            },
            "type": "bar"
           }
          ],
          "barpolar": [
           {
            "marker": {
             "line": {
              "color": "#E5ECF6",
              "width": 0.5
             },
             "pattern": {
              "fillmode": "overlay",
              "size": 10,
              "solidity": 0.2
             }
            },
            "type": "barpolar"
           }
          ],
          "carpet": [
           {
            "aaxis": {
             "endlinecolor": "#2a3f5f",
             "gridcolor": "white",
             "linecolor": "white",
             "minorgridcolor": "white",
             "startlinecolor": "#2a3f5f"
            },
            "baxis": {
             "endlinecolor": "#2a3f5f",
             "gridcolor": "white",
             "linecolor": "white",
             "minorgridcolor": "white",
             "startlinecolor": "#2a3f5f"
            },
            "type": "carpet"
           }
          ],
          "choropleth": [
           {
            "colorbar": {
             "outlinewidth": 0,
             "ticks": ""
            },
            "type": "choropleth"
           }
          ],
          "contour": [
           {
            "colorbar": {
             "outlinewidth": 0,
             "ticks": ""
            },
            "colorscale": [
             [
              0,
              "#0d0887"
             ],
             [
              0.1111111111111111,
              "#46039f"
             ],
             [
              0.2222222222222222,
              "#7201a8"
             ],
             [
              0.3333333333333333,
              "#9c179e"
             ],
             [
              0.4444444444444444,
              "#bd3786"
             ],
             [
              0.5555555555555556,
              "#d8576b"
             ],
             [
              0.6666666666666666,
              "#ed7953"
             ],
             [
              0.7777777777777778,
              "#fb9f3a"
             ],
             [
              0.8888888888888888,
              "#fdca26"
             ],
             [
              1,
              "#f0f921"
             ]
            ],
            "type": "contour"
           }
          ],
          "contourcarpet": [
           {
            "colorbar": {
             "outlinewidth": 0,
             "ticks": ""
            },
            "type": "contourcarpet"
           }
          ],
          "heatmap": [
           {
            "colorbar": {
             "outlinewidth": 0,
             "ticks": ""
            },
            "colorscale": [
             [
              0,
              "#0d0887"
             ],
             [
              0.1111111111111111,
              "#46039f"
             ],
             [
              0.2222222222222222,
              "#7201a8"
             ],
             [
              0.3333333333333333,
              "#9c179e"
             ],
             [
              0.4444444444444444,
              "#bd3786"
             ],
             [
              0.5555555555555556,
              "#d8576b"
             ],
             [
              0.6666666666666666,
              "#ed7953"
             ],
             [
              0.7777777777777778,
              "#fb9f3a"
             ],
             [
              0.8888888888888888,
              "#fdca26"
             ],
             [
              1,
              "#f0f921"
             ]
            ],
            "type": "heatmap"
           }
          ],
          "heatmapgl": [
           {
            "colorbar": {
             "outlinewidth": 0,
             "ticks": ""
            },
            "colorscale": [
             [
              0,
              "#0d0887"
             ],
             [
              0.1111111111111111,
              "#46039f"
             ],
             [
              0.2222222222222222,
              "#7201a8"
             ],
             [
              0.3333333333333333,
              "#9c179e"
             ],
             [
              0.4444444444444444,
              "#bd3786"
             ],
             [
              0.5555555555555556,
              "#d8576b"
             ],
             [
              0.6666666666666666,
              "#ed7953"
             ],
             [
              0.7777777777777778,
              "#fb9f3a"
             ],
             [
              0.8888888888888888,
              "#fdca26"
             ],
             [
              1,
              "#f0f921"
             ]
            ],
            "type": "heatmapgl"
           }
          ],
          "histogram": [
           {
            "marker": {
             "pattern": {
              "fillmode": "overlay",
              "size": 10,
              "solidity": 0.2
             }
            },
            "type": "histogram"
           }
          ],
          "histogram2d": [
           {
            "colorbar": {
             "outlinewidth": 0,
             "ticks": ""
            },
            "colorscale": [
             [
              0,
              "#0d0887"
             ],
             [
              0.1111111111111111,
              "#46039f"
             ],
             [
              0.2222222222222222,
              "#7201a8"
             ],
             [
              0.3333333333333333,
              "#9c179e"
             ],
             [
              0.4444444444444444,
              "#bd3786"
             ],
             [
              0.5555555555555556,
              "#d8576b"
             ],
             [
              0.6666666666666666,
              "#ed7953"
             ],
             [
              0.7777777777777778,
              "#fb9f3a"
             ],
             [
              0.8888888888888888,
              "#fdca26"
             ],
             [
              1,
              "#f0f921"
             ]
            ],
            "type": "histogram2d"
           }
          ],
          "histogram2dcontour": [
           {
            "colorbar": {
             "outlinewidth": 0,
             "ticks": ""
            },
            "colorscale": [
             [
              0,
              "#0d0887"
             ],
             [
              0.1111111111111111,
              "#46039f"
             ],
             [
              0.2222222222222222,
              "#7201a8"
             ],
             [
              0.3333333333333333,
              "#9c179e"
             ],
             [
              0.4444444444444444,
              "#bd3786"
             ],
             [
              0.5555555555555556,
              "#d8576b"
             ],
             [
              0.6666666666666666,
              "#ed7953"
             ],
             [
              0.7777777777777778,
              "#fb9f3a"
             ],
             [
              0.8888888888888888,
              "#fdca26"
             ],
             [
              1,
              "#f0f921"
             ]
            ],
            "type": "histogram2dcontour"
           }
          ],
          "mesh3d": [
           {
            "colorbar": {
             "outlinewidth": 0,
             "ticks": ""
            },
            "type": "mesh3d"
           }
          ],
          "parcoords": [
           {
            "line": {
             "colorbar": {
              "outlinewidth": 0,
              "ticks": ""
             }
            },
            "type": "parcoords"
           }
          ],
          "pie": [
           {
            "automargin": true,
            "type": "pie"
           }
          ],
          "scatter": [
           {
            "fillpattern": {
             "fillmode": "overlay",
             "size": 10,
             "solidity": 0.2
            },
            "type": "scatter"
           }
          ],
          "scatter3d": [
           {
            "line": {
             "colorbar": {
              "outlinewidth": 0,
              "ticks": ""
             }
            },
            "marker": {
             "colorbar": {
              "outlinewidth": 0,
              "ticks": ""
             }
            },
            "type": "scatter3d"
           }
          ],
          "scattercarpet": [
           {
            "marker": {
             "colorbar": {
              "outlinewidth": 0,
              "ticks": ""
             }
            },
            "type": "scattercarpet"
           }
          ],
          "scattergeo": [
           {
            "marker": {
             "colorbar": {
              "outlinewidth": 0,
              "ticks": ""
             }
            },
            "type": "scattergeo"
           }
          ],
          "scattergl": [
           {
            "marker": {
             "colorbar": {
              "outlinewidth": 0,
              "ticks": ""
             }
            },
            "type": "scattergl"
           }
          ],
          "scattermapbox": [
           {
            "marker": {
             "colorbar": {
              "outlinewidth": 0,
              "ticks": ""
             }
            },
            "type": "scattermapbox"
           }
          ],
          "scatterpolar": [
           {
            "marker": {
             "colorbar": {
              "outlinewidth": 0,
              "ticks": ""
             }
            },
            "type": "scatterpolar"
           }
          ],
          "scatterpolargl": [
           {
            "marker": {
             "colorbar": {
              "outlinewidth": 0,
              "ticks": ""
             }
            },
            "type": "scatterpolargl"
           }
          ],
          "scatterternary": [
           {
            "marker": {
             "colorbar": {
              "outlinewidth": 0,
              "ticks": ""
             }
            },
            "type": "scatterternary"
           }
          ],
          "surface": [
           {
            "colorbar": {
             "outlinewidth": 0,
             "ticks": ""
            },
            "colorscale": [
             [
              0,
              "#0d0887"
             ],
             [
              0.1111111111111111,
              "#46039f"
             ],
             [
              0.2222222222222222,
              "#7201a8"
             ],
             [
              0.3333333333333333,
              "#9c179e"
             ],
             [
              0.4444444444444444,
              "#bd3786"
             ],
             [
              0.5555555555555556,
              "#d8576b"
             ],
             [
              0.6666666666666666,
              "#ed7953"
             ],
             [
              0.7777777777777778,
              "#fb9f3a"
             ],
             [
              0.8888888888888888,
              "#fdca26"
             ],
             [
              1,
              "#f0f921"
             ]
            ],
            "type": "surface"
           }
          ],
          "table": [
           {
            "cells": {
             "fill": {
              "color": "#EBF0F8"
             },
             "line": {
              "color": "white"
             }
            },
            "header": {
             "fill": {
              "color": "#C8D4E3"
             },
             "line": {
              "color": "white"
             }
            },
            "type": "table"
           }
          ]
         },
         "layout": {
          "annotationdefaults": {
           "arrowcolor": "#2a3f5f",
           "arrowhead": 0,
           "arrowwidth": 1
          },
          "autotypenumbers": "strict",
          "coloraxis": {
           "colorbar": {
            "outlinewidth": 0,
            "ticks": ""
           }
          },
          "colorscale": {
           "diverging": [
            [
             0,
             "#8e0152"
            ],
            [
             0.1,
             "#c51b7d"
            ],
            [
             0.2,
             "#de77ae"
            ],
            [
             0.3,
             "#f1b6da"
            ],
            [
             0.4,
             "#fde0ef"
            ],
            [
             0.5,
             "#f7f7f7"
            ],
            [
             0.6,
             "#e6f5d0"
            ],
            [
             0.7,
             "#b8e186"
            ],
            [
             0.8,
             "#7fbc41"
            ],
            [
             0.9,
             "#4d9221"
            ],
            [
             1,
             "#276419"
            ]
           ],
           "sequential": [
            [
             0,
             "#0d0887"
            ],
            [
             0.1111111111111111,
             "#46039f"
            ],
            [
             0.2222222222222222,
             "#7201a8"
            ],
            [
             0.3333333333333333,
             "#9c179e"
            ],
            [
             0.4444444444444444,
             "#bd3786"
            ],
            [
             0.5555555555555556,
             "#d8576b"
            ],
            [
             0.6666666666666666,
             "#ed7953"
            ],
            [
             0.7777777777777778,
             "#fb9f3a"
            ],
            [
             0.8888888888888888,
             "#fdca26"
            ],
            [
             1,
             "#f0f921"
            ]
           ],
           "sequentialminus": [
            [
             0,
             "#0d0887"
            ],
            [
             0.1111111111111111,
             "#46039f"
            ],
            [
             0.2222222222222222,
             "#7201a8"
            ],
            [
             0.3333333333333333,
             "#9c179e"
            ],
            [
             0.4444444444444444,
             "#bd3786"
            ],
            [
             0.5555555555555556,
             "#d8576b"
            ],
            [
             0.6666666666666666,
             "#ed7953"
            ],
            [
             0.7777777777777778,
             "#fb9f3a"
            ],
            [
             0.8888888888888888,
             "#fdca26"
            ],
            [
             1,
             "#f0f921"
            ]
           ]
          },
          "colorway": [
           "#636efa",
           "#EF553B",
           "#00cc96",
           "#ab63fa",
           "#FFA15A",
           "#19d3f3",
           "#FF6692",
           "#B6E880",
           "#FF97FF",
           "#FECB52"
          ],
          "font": {
           "color": "#2a3f5f"
          },
          "geo": {
           "bgcolor": "white",
           "lakecolor": "white",
           "landcolor": "#E5ECF6",
           "showlakes": true,
           "showland": true,
           "subunitcolor": "white"
          },
          "hoverlabel": {
           "align": "left"
          },
          "hovermode": "closest",
          "mapbox": {
           "style": "light"
          },
          "paper_bgcolor": "white",
          "plot_bgcolor": "#E5ECF6",
          "polar": {
           "angularaxis": {
            "gridcolor": "white",
            "linecolor": "white",
            "ticks": ""
           },
           "bgcolor": "#E5ECF6",
           "radialaxis": {
            "gridcolor": "white",
            "linecolor": "white",
            "ticks": ""
           }
          },
          "scene": {
           "xaxis": {
            "backgroundcolor": "#E5ECF6",
            "gridcolor": "white",
            "gridwidth": 2,
            "linecolor": "white",
            "showbackground": true,
            "ticks": "",
            "zerolinecolor": "white"
           },
           "yaxis": {
            "backgroundcolor": "#E5ECF6",
            "gridcolor": "white",
            "gridwidth": 2,
            "linecolor": "white",
            "showbackground": true,
            "ticks": "",
            "zerolinecolor": "white"
           },
           "zaxis": {
            "backgroundcolor": "#E5ECF6",
            "gridcolor": "white",
            "gridwidth": 2,
            "linecolor": "white",
            "showbackground": true,
            "ticks": "",
            "zerolinecolor": "white"
           }
          },
          "shapedefaults": {
           "line": {
            "color": "#2a3f5f"
           }
          },
          "ternary": {
           "aaxis": {
            "gridcolor": "white",
            "linecolor": "white",
            "ticks": ""
           },
           "baxis": {
            "gridcolor": "white",
            "linecolor": "white",
            "ticks": ""
           },
           "bgcolor": "#E5ECF6",
           "caxis": {
            "gridcolor": "white",
            "linecolor": "white",
            "ticks": ""
           }
          },
          "title": {
           "x": 0.05
          },
          "xaxis": {
           "automargin": true,
           "gridcolor": "white",
           "linecolor": "white",
           "ticks": "",
           "title": {
            "standoff": 15
           },
           "zerolinecolor": "white",
           "zerolinewidth": 2
          },
          "yaxis": {
           "automargin": true,
           "gridcolor": "white",
           "linecolor": "white",
           "ticks": "",
           "title": {
            "standoff": 15
           },
           "zerolinecolor": "white",
           "zerolinewidth": 2
          }
         }
        },
        "title": {
         "text": "<b>Palavras mais frequentes em </b><b>Tweets </b> <b>Positivos</b> <b>Bolsonaro</b>"
        },
        "xaxis": {
         "anchor": "y",
         "domain": [
          0,
          1
         ],
         "title": {
          "text": "Palavra"
         }
        },
        "yaxis": {
         "anchor": "x",
         "domain": [
          0,
          1
         ],
         "title": {
          "text": "Frequência"
         }
        }
       }
      },
      "text/html": [
       "<div>                            <div id=\"b94e5419-d7ef-4dd7-82fd-a89caa9c6e0d\" class=\"plotly-graph-div\" style=\"height:525px; width:100%;\"></div>            <script type=\"text/javascript\">                require([\"plotly\"], function(Plotly) {                    window.PLOTLYENV=window.PLOTLYENV || {};                                    if (document.getElementById(\"b94e5419-d7ef-4dd7-82fd-a89caa9c6e0d\")) {                    Plotly.newPlot(                        \"b94e5419-d7ef-4dd7-82fd-a89caa9c6e0d\",                        [{\"alignmentgroup\":\"True\",\"hovertemplate\":\"Palavra=%{x}<br>Frequ\\u00eancia=%{y}<extra></extra>\",\"legendgroup\":\"\",\"marker\":{\"color\":\"red\",\"pattern\":{\"shape\":\"\"},\"line\":{\"color\":\"black\",\"width\":1.5}},\"name\":\"\",\"offsetgroup\":\"\",\"orientation\":\"v\",\"showlegend\":false,\"textposition\":\"auto\",\"x\":[\"bolsonaro\",\"lula\",\"presidente\",\"ter\",\"ir\",\"brasil\",\"fazer\",\"pra\",\"falar\",\"votar\"],\"xaxis\":\"x\",\"y\":[813896,123649,118908,114403,112925,87576,78892,57287,56721,52187],\"yaxis\":\"y\",\"type\":\"bar\",\"opacity\":0.6}],                        {\"template\":{\"data\":{\"histogram2dcontour\":[{\"type\":\"histogram2dcontour\",\"colorbar\":{\"outlinewidth\":0,\"ticks\":\"\"},\"colorscale\":[[0.0,\"#0d0887\"],[0.1111111111111111,\"#46039f\"],[0.2222222222222222,\"#7201a8\"],[0.3333333333333333,\"#9c179e\"],[0.4444444444444444,\"#bd3786\"],[0.5555555555555556,\"#d8576b\"],[0.6666666666666666,\"#ed7953\"],[0.7777777777777778,\"#fb9f3a\"],[0.8888888888888888,\"#fdca26\"],[1.0,\"#f0f921\"]]}],\"choropleth\":[{\"type\":\"choropleth\",\"colorbar\":{\"outlinewidth\":0,\"ticks\":\"\"}}],\"histogram2d\":[{\"type\":\"histogram2d\",\"colorbar\":{\"outlinewidth\":0,\"ticks\":\"\"},\"colorscale\":[[0.0,\"#0d0887\"],[0.1111111111111111,\"#46039f\"],[0.2222222222222222,\"#7201a8\"],[0.3333333333333333,\"#9c179e\"],[0.4444444444444444,\"#bd3786\"],[0.5555555555555556,\"#d8576b\"],[0.6666666666666666,\"#ed7953\"],[0.7777777777777778,\"#fb9f3a\"],[0.8888888888888888,\"#fdca26\"],[1.0,\"#f0f921\"]]}],\"heatmap\":[{\"type\":\"heatmap\",\"colorbar\":{\"outlinewidth\":0,\"ticks\":\"\"},\"colorscale\":[[0.0,\"#0d0887\"],[0.1111111111111111,\"#46039f\"],[0.2222222222222222,\"#7201a8\"],[0.3333333333333333,\"#9c179e\"],[0.4444444444444444,\"#bd3786\"],[0.5555555555555556,\"#d8576b\"],[0.6666666666666666,\"#ed7953\"],[0.7777777777777778,\"#fb9f3a\"],[0.8888888888888888,\"#fdca26\"],[1.0,\"#f0f921\"]]}],\"heatmapgl\":[{\"type\":\"heatmapgl\",\"colorbar\":{\"outlinewidth\":0,\"ticks\":\"\"},\"colorscale\":[[0.0,\"#0d0887\"],[0.1111111111111111,\"#46039f\"],[0.2222222222222222,\"#7201a8\"],[0.3333333333333333,\"#9c179e\"],[0.4444444444444444,\"#bd3786\"],[0.5555555555555556,\"#d8576b\"],[0.6666666666666666,\"#ed7953\"],[0.7777777777777778,\"#fb9f3a\"],[0.8888888888888888,\"#fdca26\"],[1.0,\"#f0f921\"]]}],\"contourcarpet\":[{\"type\":\"contourcarpet\",\"colorbar\":{\"outlinewidth\":0,\"ticks\":\"\"}}],\"contour\":[{\"type\":\"contour\",\"colorbar\":{\"outlinewidth\":0,\"ticks\":\"\"},\"colorscale\":[[0.0,\"#0d0887\"],[0.1111111111111111,\"#46039f\"],[0.2222222222222222,\"#7201a8\"],[0.3333333333333333,\"#9c179e\"],[0.4444444444444444,\"#bd3786\"],[0.5555555555555556,\"#d8576b\"],[0.6666666666666666,\"#ed7953\"],[0.7777777777777778,\"#fb9f3a\"],[0.8888888888888888,\"#fdca26\"],[1.0,\"#f0f921\"]]}],\"surface\":[{\"type\":\"surface\",\"colorbar\":{\"outlinewidth\":0,\"ticks\":\"\"},\"colorscale\":[[0.0,\"#0d0887\"],[0.1111111111111111,\"#46039f\"],[0.2222222222222222,\"#7201a8\"],[0.3333333333333333,\"#9c179e\"],[0.4444444444444444,\"#bd3786\"],[0.5555555555555556,\"#d8576b\"],[0.6666666666666666,\"#ed7953\"],[0.7777777777777778,\"#fb9f3a\"],[0.8888888888888888,\"#fdca26\"],[1.0,\"#f0f921\"]]}],\"mesh3d\":[{\"type\":\"mesh3d\",\"colorbar\":{\"outlinewidth\":0,\"ticks\":\"\"}}],\"scatter\":[{\"fillpattern\":{\"fillmode\":\"overlay\",\"size\":10,\"solidity\":0.2},\"type\":\"scatter\"}],\"parcoords\":[{\"type\":\"parcoords\",\"line\":{\"colorbar\":{\"outlinewidth\":0,\"ticks\":\"\"}}}],\"scatterpolargl\":[{\"type\":\"scatterpolargl\",\"marker\":{\"colorbar\":{\"outlinewidth\":0,\"ticks\":\"\"}}}],\"bar\":[{\"error_x\":{\"color\":\"#2a3f5f\"},\"error_y\":{\"color\":\"#2a3f5f\"},\"marker\":{\"line\":{\"color\":\"#E5ECF6\",\"width\":0.5},\"pattern\":{\"fillmode\":\"overlay\",\"size\":10,\"solidity\":0.2}},\"type\":\"bar\"}],\"scattergeo\":[{\"type\":\"scattergeo\",\"marker\":{\"colorbar\":{\"outlinewidth\":0,\"ticks\":\"\"}}}],\"scatterpolar\":[{\"type\":\"scatterpolar\",\"marker\":{\"colorbar\":{\"outlinewidth\":0,\"ticks\":\"\"}}}],\"histogram\":[{\"marker\":{\"pattern\":{\"fillmode\":\"overlay\",\"size\":10,\"solidity\":0.2}},\"type\":\"histogram\"}],\"scattergl\":[{\"type\":\"scattergl\",\"marker\":{\"colorbar\":{\"outlinewidth\":0,\"ticks\":\"\"}}}],\"scatter3d\":[{\"type\":\"scatter3d\",\"line\":{\"colorbar\":{\"outlinewidth\":0,\"ticks\":\"\"}},\"marker\":{\"colorbar\":{\"outlinewidth\":0,\"ticks\":\"\"}}}],\"scattermapbox\":[{\"type\":\"scattermapbox\",\"marker\":{\"colorbar\":{\"outlinewidth\":0,\"ticks\":\"\"}}}],\"scatterternary\":[{\"type\":\"scatterternary\",\"marker\":{\"colorbar\":{\"outlinewidth\":0,\"ticks\":\"\"}}}],\"scattercarpet\":[{\"type\":\"scattercarpet\",\"marker\":{\"colorbar\":{\"outlinewidth\":0,\"ticks\":\"\"}}}],\"carpet\":[{\"aaxis\":{\"endlinecolor\":\"#2a3f5f\",\"gridcolor\":\"white\",\"linecolor\":\"white\",\"minorgridcolor\":\"white\",\"startlinecolor\":\"#2a3f5f\"},\"baxis\":{\"endlinecolor\":\"#2a3f5f\",\"gridcolor\":\"white\",\"linecolor\":\"white\",\"minorgridcolor\":\"white\",\"startlinecolor\":\"#2a3f5f\"},\"type\":\"carpet\"}],\"table\":[{\"cells\":{\"fill\":{\"color\":\"#EBF0F8\"},\"line\":{\"color\":\"white\"}},\"header\":{\"fill\":{\"color\":\"#C8D4E3\"},\"line\":{\"color\":\"white\"}},\"type\":\"table\"}],\"barpolar\":[{\"marker\":{\"line\":{\"color\":\"#E5ECF6\",\"width\":0.5},\"pattern\":{\"fillmode\":\"overlay\",\"size\":10,\"solidity\":0.2}},\"type\":\"barpolar\"}],\"pie\":[{\"automargin\":true,\"type\":\"pie\"}]},\"layout\":{\"autotypenumbers\":\"strict\",\"colorway\":[\"#636efa\",\"#EF553B\",\"#00cc96\",\"#ab63fa\",\"#FFA15A\",\"#19d3f3\",\"#FF6692\",\"#B6E880\",\"#FF97FF\",\"#FECB52\"],\"font\":{\"color\":\"#2a3f5f\"},\"hovermode\":\"closest\",\"hoverlabel\":{\"align\":\"left\"},\"paper_bgcolor\":\"white\",\"plot_bgcolor\":\"#E5ECF6\",\"polar\":{\"bgcolor\":\"#E5ECF6\",\"angularaxis\":{\"gridcolor\":\"white\",\"linecolor\":\"white\",\"ticks\":\"\"},\"radialaxis\":{\"gridcolor\":\"white\",\"linecolor\":\"white\",\"ticks\":\"\"}},\"ternary\":{\"bgcolor\":\"#E5ECF6\",\"aaxis\":{\"gridcolor\":\"white\",\"linecolor\":\"white\",\"ticks\":\"\"},\"baxis\":{\"gridcolor\":\"white\",\"linecolor\":\"white\",\"ticks\":\"\"},\"caxis\":{\"gridcolor\":\"white\",\"linecolor\":\"white\",\"ticks\":\"\"}},\"coloraxis\":{\"colorbar\":{\"outlinewidth\":0,\"ticks\":\"\"}},\"colorscale\":{\"sequential\":[[0.0,\"#0d0887\"],[0.1111111111111111,\"#46039f\"],[0.2222222222222222,\"#7201a8\"],[0.3333333333333333,\"#9c179e\"],[0.4444444444444444,\"#bd3786\"],[0.5555555555555556,\"#d8576b\"],[0.6666666666666666,\"#ed7953\"],[0.7777777777777778,\"#fb9f3a\"],[0.8888888888888888,\"#fdca26\"],[1.0,\"#f0f921\"]],\"sequentialminus\":[[0.0,\"#0d0887\"],[0.1111111111111111,\"#46039f\"],[0.2222222222222222,\"#7201a8\"],[0.3333333333333333,\"#9c179e\"],[0.4444444444444444,\"#bd3786\"],[0.5555555555555556,\"#d8576b\"],[0.6666666666666666,\"#ed7953\"],[0.7777777777777778,\"#fb9f3a\"],[0.8888888888888888,\"#fdca26\"],[1.0,\"#f0f921\"]],\"diverging\":[[0,\"#8e0152\"],[0.1,\"#c51b7d\"],[0.2,\"#de77ae\"],[0.3,\"#f1b6da\"],[0.4,\"#fde0ef\"],[0.5,\"#f7f7f7\"],[0.6,\"#e6f5d0\"],[0.7,\"#b8e186\"],[0.8,\"#7fbc41\"],[0.9,\"#4d9221\"],[1,\"#276419\"]]},\"xaxis\":{\"gridcolor\":\"white\",\"linecolor\":\"white\",\"ticks\":\"\",\"title\":{\"standoff\":15},\"zerolinecolor\":\"white\",\"automargin\":true,\"zerolinewidth\":2},\"yaxis\":{\"gridcolor\":\"white\",\"linecolor\":\"white\",\"ticks\":\"\",\"title\":{\"standoff\":15},\"zerolinecolor\":\"white\",\"automargin\":true,\"zerolinewidth\":2},\"scene\":{\"xaxis\":{\"backgroundcolor\":\"#E5ECF6\",\"gridcolor\":\"white\",\"linecolor\":\"white\",\"showbackground\":true,\"ticks\":\"\",\"zerolinecolor\":\"white\",\"gridwidth\":2},\"yaxis\":{\"backgroundcolor\":\"#E5ECF6\",\"gridcolor\":\"white\",\"linecolor\":\"white\",\"showbackground\":true,\"ticks\":\"\",\"zerolinecolor\":\"white\",\"gridwidth\":2},\"zaxis\":{\"backgroundcolor\":\"#E5ECF6\",\"gridcolor\":\"white\",\"linecolor\":\"white\",\"showbackground\":true,\"ticks\":\"\",\"zerolinecolor\":\"white\",\"gridwidth\":2}},\"shapedefaults\":{\"line\":{\"color\":\"#2a3f5f\"}},\"annotationdefaults\":{\"arrowcolor\":\"#2a3f5f\",\"arrowhead\":0,\"arrowwidth\":1},\"geo\":{\"bgcolor\":\"white\",\"landcolor\":\"#E5ECF6\",\"subunitcolor\":\"white\",\"showland\":true,\"showlakes\":true,\"lakecolor\":\"white\"},\"title\":{\"x\":0.05},\"mapbox\":{\"style\":\"light\"}}},\"xaxis\":{\"anchor\":\"y\",\"domain\":[0.0,1.0],\"title\":{\"text\":\"Palavra\"}},\"yaxis\":{\"anchor\":\"x\",\"domain\":[0.0,1.0],\"title\":{\"text\":\"Frequ\\u00eancia\"}},\"legend\":{\"tracegroupgap\":0},\"title\":{\"text\":\"<b>Palavras mais frequentes em </b><b>Tweets </b> <b>Positivos</b> <b>Bolsonaro</b>\"},\"barmode\":\"relative\"},                        {\"responsive\": true}                    ).then(function(){\n",
       "                            \n",
       "var gd = document.getElementById('b94e5419-d7ef-4dd7-82fd-a89caa9c6e0d');\n",
       "var x = new MutationObserver(function (mutations, observer) {{\n",
       "        var display = window.getComputedStyle(gd).display;\n",
       "        if (!display || display === 'none') {{\n",
       "            console.log([gd, 'removed!']);\n",
       "            Plotly.purge(gd);\n",
       "            observer.disconnect();\n",
       "        }}\n",
       "}});\n",
       "\n",
       "// Listen for the removal of the full notebook cells\n",
       "var notebookContainer = gd.closest('#notebook-container');\n",
       "if (notebookContainer) {{\n",
       "    x.observe(notebookContainer, {childList: true});\n",
       "}}\n",
       "\n",
       "// Listen for the clearing of the current output cell\n",
       "var outputEl = gd.closest('.output');\n",
       "if (outputEl) {{\n",
       "    x.observe(outputEl, {childList: true});\n",
       "}}\n",
       "\n",
       "                        })                };                });            </script>        </div>"
      ]
     },
     "metadata": {},
     "output_type": "display_data"
    }
   ],
   "source": [
    "plot_word_freq(tokens_pos,\"<b>Positivos</b>\",\"<b>Bolsonaro</b>\",\"red\")"
   ]
  },
  {
   "cell_type": "code",
   "execution_count": 118,
   "id": "abb96763",
   "metadata": {},
   "outputs": [
    {
     "data": {
      "application/vnd.plotly.v1+json": {
       "config": {
        "plotlyServerURL": "https://plot.ly"
       },
       "data": [
        {
         "alignmentgroup": "True",
         "hovertemplate": "Palavra=%{x}<br>Frequência=%{y}<extra></extra>",
         "legendgroup": "",
         "marker": {
          "color": "red",
          "line": {
           "color": "black",
           "width": 1.5
          },
          "pattern": {
           "shape": ""
          }
         },
         "name": "",
         "offsetgroup": "",
         "opacity": 0.6,
         "orientation": "v",
         "showlegend": false,
         "textposition": "auto",
         "type": "bar",
         "x": [
          "bolsonaro",
          "ir",
          "querer",
          "todo",
          "pra",
          "cadeia",
          "ter",
          "governo",
          "vc",
          "dia"
         ],
         "xaxis": "x",
         "y": [
          206841,
          53589,
          34990,
          31792,
          30087,
          21143,
          20673,
          19946,
          18851,
          16389
         ],
         "yaxis": "y"
        }
       ],
       "layout": {
        "barmode": "relative",
        "legend": {
         "tracegroupgap": 0
        },
        "template": {
         "data": {
          "bar": [
           {
            "error_x": {
             "color": "#2a3f5f"
            },
            "error_y": {
             "color": "#2a3f5f"
            },
            "marker": {
             "line": {
              "color": "#E5ECF6",
              "width": 0.5
             },
             "pattern": {
              "fillmode": "overlay",
              "size": 10,
              "solidity": 0.2
             }
            },
            "type": "bar"
           }
          ],
          "barpolar": [
           {
            "marker": {
             "line": {
              "color": "#E5ECF6",
              "width": 0.5
             },
             "pattern": {
              "fillmode": "overlay",
              "size": 10,
              "solidity": 0.2
             }
            },
            "type": "barpolar"
           }
          ],
          "carpet": [
           {
            "aaxis": {
             "endlinecolor": "#2a3f5f",
             "gridcolor": "white",
             "linecolor": "white",
             "minorgridcolor": "white",
             "startlinecolor": "#2a3f5f"
            },
            "baxis": {
             "endlinecolor": "#2a3f5f",
             "gridcolor": "white",
             "linecolor": "white",
             "minorgridcolor": "white",
             "startlinecolor": "#2a3f5f"
            },
            "type": "carpet"
           }
          ],
          "choropleth": [
           {
            "colorbar": {
             "outlinewidth": 0,
             "ticks": ""
            },
            "type": "choropleth"
           }
          ],
          "contour": [
           {
            "colorbar": {
             "outlinewidth": 0,
             "ticks": ""
            },
            "colorscale": [
             [
              0,
              "#0d0887"
             ],
             [
              0.1111111111111111,
              "#46039f"
             ],
             [
              0.2222222222222222,
              "#7201a8"
             ],
             [
              0.3333333333333333,
              "#9c179e"
             ],
             [
              0.4444444444444444,
              "#bd3786"
             ],
             [
              0.5555555555555556,
              "#d8576b"
             ],
             [
              0.6666666666666666,
              "#ed7953"
             ],
             [
              0.7777777777777778,
              "#fb9f3a"
             ],
             [
              0.8888888888888888,
              "#fdca26"
             ],
             [
              1,
              "#f0f921"
             ]
            ],
            "type": "contour"
           }
          ],
          "contourcarpet": [
           {
            "colorbar": {
             "outlinewidth": 0,
             "ticks": ""
            },
            "type": "contourcarpet"
           }
          ],
          "heatmap": [
           {
            "colorbar": {
             "outlinewidth": 0,
             "ticks": ""
            },
            "colorscale": [
             [
              0,
              "#0d0887"
             ],
             [
              0.1111111111111111,
              "#46039f"
             ],
             [
              0.2222222222222222,
              "#7201a8"
             ],
             [
              0.3333333333333333,
              "#9c179e"
             ],
             [
              0.4444444444444444,
              "#bd3786"
             ],
             [
              0.5555555555555556,
              "#d8576b"
             ],
             [
              0.6666666666666666,
              "#ed7953"
             ],
             [
              0.7777777777777778,
              "#fb9f3a"
             ],
             [
              0.8888888888888888,
              "#fdca26"
             ],
             [
              1,
              "#f0f921"
             ]
            ],
            "type": "heatmap"
           }
          ],
          "heatmapgl": [
           {
            "colorbar": {
             "outlinewidth": 0,
             "ticks": ""
            },
            "colorscale": [
             [
              0,
              "#0d0887"
             ],
             [
              0.1111111111111111,
              "#46039f"
             ],
             [
              0.2222222222222222,
              "#7201a8"
             ],
             [
              0.3333333333333333,
              "#9c179e"
             ],
             [
              0.4444444444444444,
              "#bd3786"
             ],
             [
              0.5555555555555556,
              "#d8576b"
             ],
             [
              0.6666666666666666,
              "#ed7953"
             ],
             [
              0.7777777777777778,
              "#fb9f3a"
             ],
             [
              0.8888888888888888,
              "#fdca26"
             ],
             [
              1,
              "#f0f921"
             ]
            ],
            "type": "heatmapgl"
           }
          ],
          "histogram": [
           {
            "marker": {
             "pattern": {
              "fillmode": "overlay",
              "size": 10,
              "solidity": 0.2
             }
            },
            "type": "histogram"
           }
          ],
          "histogram2d": [
           {
            "colorbar": {
             "outlinewidth": 0,
             "ticks": ""
            },
            "colorscale": [
             [
              0,
              "#0d0887"
             ],
             [
              0.1111111111111111,
              "#46039f"
             ],
             [
              0.2222222222222222,
              "#7201a8"
             ],
             [
              0.3333333333333333,
              "#9c179e"
             ],
             [
              0.4444444444444444,
              "#bd3786"
             ],
             [
              0.5555555555555556,
              "#d8576b"
             ],
             [
              0.6666666666666666,
              "#ed7953"
             ],
             [
              0.7777777777777778,
              "#fb9f3a"
             ],
             [
              0.8888888888888888,
              "#fdca26"
             ],
             [
              1,
              "#f0f921"
             ]
            ],
            "type": "histogram2d"
           }
          ],
          "histogram2dcontour": [
           {
            "colorbar": {
             "outlinewidth": 0,
             "ticks": ""
            },
            "colorscale": [
             [
              0,
              "#0d0887"
             ],
             [
              0.1111111111111111,
              "#46039f"
             ],
             [
              0.2222222222222222,
              "#7201a8"
             ],
             [
              0.3333333333333333,
              "#9c179e"
             ],
             [
              0.4444444444444444,
              "#bd3786"
             ],
             [
              0.5555555555555556,
              "#d8576b"
             ],
             [
              0.6666666666666666,
              "#ed7953"
             ],
             [
              0.7777777777777778,
              "#fb9f3a"
             ],
             [
              0.8888888888888888,
              "#fdca26"
             ],
             [
              1,
              "#f0f921"
             ]
            ],
            "type": "histogram2dcontour"
           }
          ],
          "mesh3d": [
           {
            "colorbar": {
             "outlinewidth": 0,
             "ticks": ""
            },
            "type": "mesh3d"
           }
          ],
          "parcoords": [
           {
            "line": {
             "colorbar": {
              "outlinewidth": 0,
              "ticks": ""
             }
            },
            "type": "parcoords"
           }
          ],
          "pie": [
           {
            "automargin": true,
            "type": "pie"
           }
          ],
          "scatter": [
           {
            "fillpattern": {
             "fillmode": "overlay",
             "size": 10,
             "solidity": 0.2
            },
            "type": "scatter"
           }
          ],
          "scatter3d": [
           {
            "line": {
             "colorbar": {
              "outlinewidth": 0,
              "ticks": ""
             }
            },
            "marker": {
             "colorbar": {
              "outlinewidth": 0,
              "ticks": ""
             }
            },
            "type": "scatter3d"
           }
          ],
          "scattercarpet": [
           {
            "marker": {
             "colorbar": {
              "outlinewidth": 0,
              "ticks": ""
             }
            },
            "type": "scattercarpet"
           }
          ],
          "scattergeo": [
           {
            "marker": {
             "colorbar": {
              "outlinewidth": 0,
              "ticks": ""
             }
            },
            "type": "scattergeo"
           }
          ],
          "scattergl": [
           {
            "marker": {
             "colorbar": {
              "outlinewidth": 0,
              "ticks": ""
             }
            },
            "type": "scattergl"
           }
          ],
          "scattermapbox": [
           {
            "marker": {
             "colorbar": {
              "outlinewidth": 0,
              "ticks": ""
             }
            },
            "type": "scattermapbox"
           }
          ],
          "scatterpolar": [
           {
            "marker": {
             "colorbar": {
              "outlinewidth": 0,
              "ticks": ""
             }
            },
            "type": "scatterpolar"
           }
          ],
          "scatterpolargl": [
           {
            "marker": {
             "colorbar": {
              "outlinewidth": 0,
              "ticks": ""
             }
            },
            "type": "scatterpolargl"
           }
          ],
          "scatterternary": [
           {
            "marker": {
             "colorbar": {
              "outlinewidth": 0,
              "ticks": ""
             }
            },
            "type": "scatterternary"
           }
          ],
          "surface": [
           {
            "colorbar": {
             "outlinewidth": 0,
             "ticks": ""
            },
            "colorscale": [
             [
              0,
              "#0d0887"
             ],
             [
              0.1111111111111111,
              "#46039f"
             ],
             [
              0.2222222222222222,
              "#7201a8"
             ],
             [
              0.3333333333333333,
              "#9c179e"
             ],
             [
              0.4444444444444444,
              "#bd3786"
             ],
             [
              0.5555555555555556,
              "#d8576b"
             ],
             [
              0.6666666666666666,
              "#ed7953"
             ],
             [
              0.7777777777777778,
              "#fb9f3a"
             ],
             [
              0.8888888888888888,
              "#fdca26"
             ],
             [
              1,
              "#f0f921"
             ]
            ],
            "type": "surface"
           }
          ],
          "table": [
           {
            "cells": {
             "fill": {
              "color": "#EBF0F8"
             },
             "line": {
              "color": "white"
             }
            },
            "header": {
             "fill": {
              "color": "#C8D4E3"
             },
             "line": {
              "color": "white"
             }
            },
            "type": "table"
           }
          ]
         },
         "layout": {
          "annotationdefaults": {
           "arrowcolor": "#2a3f5f",
           "arrowhead": 0,
           "arrowwidth": 1
          },
          "autotypenumbers": "strict",
          "coloraxis": {
           "colorbar": {
            "outlinewidth": 0,
            "ticks": ""
           }
          },
          "colorscale": {
           "diverging": [
            [
             0,
             "#8e0152"
            ],
            [
             0.1,
             "#c51b7d"
            ],
            [
             0.2,
             "#de77ae"
            ],
            [
             0.3,
             "#f1b6da"
            ],
            [
             0.4,
             "#fde0ef"
            ],
            [
             0.5,
             "#f7f7f7"
            ],
            [
             0.6,
             "#e6f5d0"
            ],
            [
             0.7,
             "#b8e186"
            ],
            [
             0.8,
             "#7fbc41"
            ],
            [
             0.9,
             "#4d9221"
            ],
            [
             1,
             "#276419"
            ]
           ],
           "sequential": [
            [
             0,
             "#0d0887"
            ],
            [
             0.1111111111111111,
             "#46039f"
            ],
            [
             0.2222222222222222,
             "#7201a8"
            ],
            [
             0.3333333333333333,
             "#9c179e"
            ],
            [
             0.4444444444444444,
             "#bd3786"
            ],
            [
             0.5555555555555556,
             "#d8576b"
            ],
            [
             0.6666666666666666,
             "#ed7953"
            ],
            [
             0.7777777777777778,
             "#fb9f3a"
            ],
            [
             0.8888888888888888,
             "#fdca26"
            ],
            [
             1,
             "#f0f921"
            ]
           ],
           "sequentialminus": [
            [
             0,
             "#0d0887"
            ],
            [
             0.1111111111111111,
             "#46039f"
            ],
            [
             0.2222222222222222,
             "#7201a8"
            ],
            [
             0.3333333333333333,
             "#9c179e"
            ],
            [
             0.4444444444444444,
             "#bd3786"
            ],
            [
             0.5555555555555556,
             "#d8576b"
            ],
            [
             0.6666666666666666,
             "#ed7953"
            ],
            [
             0.7777777777777778,
             "#fb9f3a"
            ],
            [
             0.8888888888888888,
             "#fdca26"
            ],
            [
             1,
             "#f0f921"
            ]
           ]
          },
          "colorway": [
           "#636efa",
           "#EF553B",
           "#00cc96",
           "#ab63fa",
           "#FFA15A",
           "#19d3f3",
           "#FF6692",
           "#B6E880",
           "#FF97FF",
           "#FECB52"
          ],
          "font": {
           "color": "#2a3f5f"
          },
          "geo": {
           "bgcolor": "white",
           "lakecolor": "white",
           "landcolor": "#E5ECF6",
           "showlakes": true,
           "showland": true,
           "subunitcolor": "white"
          },
          "hoverlabel": {
           "align": "left"
          },
          "hovermode": "closest",
          "mapbox": {
           "style": "light"
          },
          "paper_bgcolor": "white",
          "plot_bgcolor": "#E5ECF6",
          "polar": {
           "angularaxis": {
            "gridcolor": "white",
            "linecolor": "white",
            "ticks": ""
           },
           "bgcolor": "#E5ECF6",
           "radialaxis": {
            "gridcolor": "white",
            "linecolor": "white",
            "ticks": ""
           }
          },
          "scene": {
           "xaxis": {
            "backgroundcolor": "#E5ECF6",
            "gridcolor": "white",
            "gridwidth": 2,
            "linecolor": "white",
            "showbackground": true,
            "ticks": "",
            "zerolinecolor": "white"
           },
           "yaxis": {
            "backgroundcolor": "#E5ECF6",
            "gridcolor": "white",
            "gridwidth": 2,
            "linecolor": "white",
            "showbackground": true,
            "ticks": "",
            "zerolinecolor": "white"
           },
           "zaxis": {
            "backgroundcolor": "#E5ECF6",
            "gridcolor": "white",
            "gridwidth": 2,
            "linecolor": "white",
            "showbackground": true,
            "ticks": "",
            "zerolinecolor": "white"
           }
          },
          "shapedefaults": {
           "line": {
            "color": "#2a3f5f"
           }
          },
          "ternary": {
           "aaxis": {
            "gridcolor": "white",
            "linecolor": "white",
            "ticks": ""
           },
           "baxis": {
            "gridcolor": "white",
            "linecolor": "white",
            "ticks": ""
           },
           "bgcolor": "#E5ECF6",
           "caxis": {
            "gridcolor": "white",
            "linecolor": "white",
            "ticks": ""
           }
          },
          "title": {
           "x": 0.05
          },
          "xaxis": {
           "automargin": true,
           "gridcolor": "white",
           "linecolor": "white",
           "ticks": "",
           "title": {
            "standoff": 15
           },
           "zerolinecolor": "white",
           "zerolinewidth": 2
          },
          "yaxis": {
           "automargin": true,
           "gridcolor": "white",
           "linecolor": "white",
           "ticks": "",
           "title": {
            "standoff": 15
           },
           "zerolinecolor": "white",
           "zerolinewidth": 2
          }
         }
        },
        "title": {
         "text": "<b>Palavras mais frequentes em </b><b>Tweets </b> <b>Negativos</b> <b>Bolsonaro</b>"
        },
        "xaxis": {
         "anchor": "y",
         "domain": [
          0,
          1
         ],
         "title": {
          "text": "Palavra"
         }
        },
        "yaxis": {
         "anchor": "x",
         "domain": [
          0,
          1
         ],
         "title": {
          "text": "Frequência"
         }
        }
       }
      },
      "text/html": [
       "<div>                            <div id=\"bad4ab98-e230-4362-a067-0235bf0cefec\" class=\"plotly-graph-div\" style=\"height:525px; width:100%;\"></div>            <script type=\"text/javascript\">                require([\"plotly\"], function(Plotly) {                    window.PLOTLYENV=window.PLOTLYENV || {};                                    if (document.getElementById(\"bad4ab98-e230-4362-a067-0235bf0cefec\")) {                    Plotly.newPlot(                        \"bad4ab98-e230-4362-a067-0235bf0cefec\",                        [{\"alignmentgroup\":\"True\",\"hovertemplate\":\"Palavra=%{x}<br>Frequ\\u00eancia=%{y}<extra></extra>\",\"legendgroup\":\"\",\"marker\":{\"color\":\"red\",\"pattern\":{\"shape\":\"\"},\"line\":{\"color\":\"black\",\"width\":1.5}},\"name\":\"\",\"offsetgroup\":\"\",\"orientation\":\"v\",\"showlegend\":false,\"textposition\":\"auto\",\"x\":[\"bolsonaro\",\"ir\",\"querer\",\"todo\",\"pra\",\"cadeia\",\"ter\",\"governo\",\"vc\",\"dia\"],\"xaxis\":\"x\",\"y\":[206841,53589,34990,31792,30087,21143,20673,19946,18851,16389],\"yaxis\":\"y\",\"type\":\"bar\",\"opacity\":0.6}],                        {\"template\":{\"data\":{\"histogram2dcontour\":[{\"type\":\"histogram2dcontour\",\"colorbar\":{\"outlinewidth\":0,\"ticks\":\"\"},\"colorscale\":[[0.0,\"#0d0887\"],[0.1111111111111111,\"#46039f\"],[0.2222222222222222,\"#7201a8\"],[0.3333333333333333,\"#9c179e\"],[0.4444444444444444,\"#bd3786\"],[0.5555555555555556,\"#d8576b\"],[0.6666666666666666,\"#ed7953\"],[0.7777777777777778,\"#fb9f3a\"],[0.8888888888888888,\"#fdca26\"],[1.0,\"#f0f921\"]]}],\"choropleth\":[{\"type\":\"choropleth\",\"colorbar\":{\"outlinewidth\":0,\"ticks\":\"\"}}],\"histogram2d\":[{\"type\":\"histogram2d\",\"colorbar\":{\"outlinewidth\":0,\"ticks\":\"\"},\"colorscale\":[[0.0,\"#0d0887\"],[0.1111111111111111,\"#46039f\"],[0.2222222222222222,\"#7201a8\"],[0.3333333333333333,\"#9c179e\"],[0.4444444444444444,\"#bd3786\"],[0.5555555555555556,\"#d8576b\"],[0.6666666666666666,\"#ed7953\"],[0.7777777777777778,\"#fb9f3a\"],[0.8888888888888888,\"#fdca26\"],[1.0,\"#f0f921\"]]}],\"heatmap\":[{\"type\":\"heatmap\",\"colorbar\":{\"outlinewidth\":0,\"ticks\":\"\"},\"colorscale\":[[0.0,\"#0d0887\"],[0.1111111111111111,\"#46039f\"],[0.2222222222222222,\"#7201a8\"],[0.3333333333333333,\"#9c179e\"],[0.4444444444444444,\"#bd3786\"],[0.5555555555555556,\"#d8576b\"],[0.6666666666666666,\"#ed7953\"],[0.7777777777777778,\"#fb9f3a\"],[0.8888888888888888,\"#fdca26\"],[1.0,\"#f0f921\"]]}],\"heatmapgl\":[{\"type\":\"heatmapgl\",\"colorbar\":{\"outlinewidth\":0,\"ticks\":\"\"},\"colorscale\":[[0.0,\"#0d0887\"],[0.1111111111111111,\"#46039f\"],[0.2222222222222222,\"#7201a8\"],[0.3333333333333333,\"#9c179e\"],[0.4444444444444444,\"#bd3786\"],[0.5555555555555556,\"#d8576b\"],[0.6666666666666666,\"#ed7953\"],[0.7777777777777778,\"#fb9f3a\"],[0.8888888888888888,\"#fdca26\"],[1.0,\"#f0f921\"]]}],\"contourcarpet\":[{\"type\":\"contourcarpet\",\"colorbar\":{\"outlinewidth\":0,\"ticks\":\"\"}}],\"contour\":[{\"type\":\"contour\",\"colorbar\":{\"outlinewidth\":0,\"ticks\":\"\"},\"colorscale\":[[0.0,\"#0d0887\"],[0.1111111111111111,\"#46039f\"],[0.2222222222222222,\"#7201a8\"],[0.3333333333333333,\"#9c179e\"],[0.4444444444444444,\"#bd3786\"],[0.5555555555555556,\"#d8576b\"],[0.6666666666666666,\"#ed7953\"],[0.7777777777777778,\"#fb9f3a\"],[0.8888888888888888,\"#fdca26\"],[1.0,\"#f0f921\"]]}],\"surface\":[{\"type\":\"surface\",\"colorbar\":{\"outlinewidth\":0,\"ticks\":\"\"},\"colorscale\":[[0.0,\"#0d0887\"],[0.1111111111111111,\"#46039f\"],[0.2222222222222222,\"#7201a8\"],[0.3333333333333333,\"#9c179e\"],[0.4444444444444444,\"#bd3786\"],[0.5555555555555556,\"#d8576b\"],[0.6666666666666666,\"#ed7953\"],[0.7777777777777778,\"#fb9f3a\"],[0.8888888888888888,\"#fdca26\"],[1.0,\"#f0f921\"]]}],\"mesh3d\":[{\"type\":\"mesh3d\",\"colorbar\":{\"outlinewidth\":0,\"ticks\":\"\"}}],\"scatter\":[{\"fillpattern\":{\"fillmode\":\"overlay\",\"size\":10,\"solidity\":0.2},\"type\":\"scatter\"}],\"parcoords\":[{\"type\":\"parcoords\",\"line\":{\"colorbar\":{\"outlinewidth\":0,\"ticks\":\"\"}}}],\"scatterpolargl\":[{\"type\":\"scatterpolargl\",\"marker\":{\"colorbar\":{\"outlinewidth\":0,\"ticks\":\"\"}}}],\"bar\":[{\"error_x\":{\"color\":\"#2a3f5f\"},\"error_y\":{\"color\":\"#2a3f5f\"},\"marker\":{\"line\":{\"color\":\"#E5ECF6\",\"width\":0.5},\"pattern\":{\"fillmode\":\"overlay\",\"size\":10,\"solidity\":0.2}},\"type\":\"bar\"}],\"scattergeo\":[{\"type\":\"scattergeo\",\"marker\":{\"colorbar\":{\"outlinewidth\":0,\"ticks\":\"\"}}}],\"scatterpolar\":[{\"type\":\"scatterpolar\",\"marker\":{\"colorbar\":{\"outlinewidth\":0,\"ticks\":\"\"}}}],\"histogram\":[{\"marker\":{\"pattern\":{\"fillmode\":\"overlay\",\"size\":10,\"solidity\":0.2}},\"type\":\"histogram\"}],\"scattergl\":[{\"type\":\"scattergl\",\"marker\":{\"colorbar\":{\"outlinewidth\":0,\"ticks\":\"\"}}}],\"scatter3d\":[{\"type\":\"scatter3d\",\"line\":{\"colorbar\":{\"outlinewidth\":0,\"ticks\":\"\"}},\"marker\":{\"colorbar\":{\"outlinewidth\":0,\"ticks\":\"\"}}}],\"scattermapbox\":[{\"type\":\"scattermapbox\",\"marker\":{\"colorbar\":{\"outlinewidth\":0,\"ticks\":\"\"}}}],\"scatterternary\":[{\"type\":\"scatterternary\",\"marker\":{\"colorbar\":{\"outlinewidth\":0,\"ticks\":\"\"}}}],\"scattercarpet\":[{\"type\":\"scattercarpet\",\"marker\":{\"colorbar\":{\"outlinewidth\":0,\"ticks\":\"\"}}}],\"carpet\":[{\"aaxis\":{\"endlinecolor\":\"#2a3f5f\",\"gridcolor\":\"white\",\"linecolor\":\"white\",\"minorgridcolor\":\"white\",\"startlinecolor\":\"#2a3f5f\"},\"baxis\":{\"endlinecolor\":\"#2a3f5f\",\"gridcolor\":\"white\",\"linecolor\":\"white\",\"minorgridcolor\":\"white\",\"startlinecolor\":\"#2a3f5f\"},\"type\":\"carpet\"}],\"table\":[{\"cells\":{\"fill\":{\"color\":\"#EBF0F8\"},\"line\":{\"color\":\"white\"}},\"header\":{\"fill\":{\"color\":\"#C8D4E3\"},\"line\":{\"color\":\"white\"}},\"type\":\"table\"}],\"barpolar\":[{\"marker\":{\"line\":{\"color\":\"#E5ECF6\",\"width\":0.5},\"pattern\":{\"fillmode\":\"overlay\",\"size\":10,\"solidity\":0.2}},\"type\":\"barpolar\"}],\"pie\":[{\"automargin\":true,\"type\":\"pie\"}]},\"layout\":{\"autotypenumbers\":\"strict\",\"colorway\":[\"#636efa\",\"#EF553B\",\"#00cc96\",\"#ab63fa\",\"#FFA15A\",\"#19d3f3\",\"#FF6692\",\"#B6E880\",\"#FF97FF\",\"#FECB52\"],\"font\":{\"color\":\"#2a3f5f\"},\"hovermode\":\"closest\",\"hoverlabel\":{\"align\":\"left\"},\"paper_bgcolor\":\"white\",\"plot_bgcolor\":\"#E5ECF6\",\"polar\":{\"bgcolor\":\"#E5ECF6\",\"angularaxis\":{\"gridcolor\":\"white\",\"linecolor\":\"white\",\"ticks\":\"\"},\"radialaxis\":{\"gridcolor\":\"white\",\"linecolor\":\"white\",\"ticks\":\"\"}},\"ternary\":{\"bgcolor\":\"#E5ECF6\",\"aaxis\":{\"gridcolor\":\"white\",\"linecolor\":\"white\",\"ticks\":\"\"},\"baxis\":{\"gridcolor\":\"white\",\"linecolor\":\"white\",\"ticks\":\"\"},\"caxis\":{\"gridcolor\":\"white\",\"linecolor\":\"white\",\"ticks\":\"\"}},\"coloraxis\":{\"colorbar\":{\"outlinewidth\":0,\"ticks\":\"\"}},\"colorscale\":{\"sequential\":[[0.0,\"#0d0887\"],[0.1111111111111111,\"#46039f\"],[0.2222222222222222,\"#7201a8\"],[0.3333333333333333,\"#9c179e\"],[0.4444444444444444,\"#bd3786\"],[0.5555555555555556,\"#d8576b\"],[0.6666666666666666,\"#ed7953\"],[0.7777777777777778,\"#fb9f3a\"],[0.8888888888888888,\"#fdca26\"],[1.0,\"#f0f921\"]],\"sequentialminus\":[[0.0,\"#0d0887\"],[0.1111111111111111,\"#46039f\"],[0.2222222222222222,\"#7201a8\"],[0.3333333333333333,\"#9c179e\"],[0.4444444444444444,\"#bd3786\"],[0.5555555555555556,\"#d8576b\"],[0.6666666666666666,\"#ed7953\"],[0.7777777777777778,\"#fb9f3a\"],[0.8888888888888888,\"#fdca26\"],[1.0,\"#f0f921\"]],\"diverging\":[[0,\"#8e0152\"],[0.1,\"#c51b7d\"],[0.2,\"#de77ae\"],[0.3,\"#f1b6da\"],[0.4,\"#fde0ef\"],[0.5,\"#f7f7f7\"],[0.6,\"#e6f5d0\"],[0.7,\"#b8e186\"],[0.8,\"#7fbc41\"],[0.9,\"#4d9221\"],[1,\"#276419\"]]},\"xaxis\":{\"gridcolor\":\"white\",\"linecolor\":\"white\",\"ticks\":\"\",\"title\":{\"standoff\":15},\"zerolinecolor\":\"white\",\"automargin\":true,\"zerolinewidth\":2},\"yaxis\":{\"gridcolor\":\"white\",\"linecolor\":\"white\",\"ticks\":\"\",\"title\":{\"standoff\":15},\"zerolinecolor\":\"white\",\"automargin\":true,\"zerolinewidth\":2},\"scene\":{\"xaxis\":{\"backgroundcolor\":\"#E5ECF6\",\"gridcolor\":\"white\",\"linecolor\":\"white\",\"showbackground\":true,\"ticks\":\"\",\"zerolinecolor\":\"white\",\"gridwidth\":2},\"yaxis\":{\"backgroundcolor\":\"#E5ECF6\",\"gridcolor\":\"white\",\"linecolor\":\"white\",\"showbackground\":true,\"ticks\":\"\",\"zerolinecolor\":\"white\",\"gridwidth\":2},\"zaxis\":{\"backgroundcolor\":\"#E5ECF6\",\"gridcolor\":\"white\",\"linecolor\":\"white\",\"showbackground\":true,\"ticks\":\"\",\"zerolinecolor\":\"white\",\"gridwidth\":2}},\"shapedefaults\":{\"line\":{\"color\":\"#2a3f5f\"}},\"annotationdefaults\":{\"arrowcolor\":\"#2a3f5f\",\"arrowhead\":0,\"arrowwidth\":1},\"geo\":{\"bgcolor\":\"white\",\"landcolor\":\"#E5ECF6\",\"subunitcolor\":\"white\",\"showland\":true,\"showlakes\":true,\"lakecolor\":\"white\"},\"title\":{\"x\":0.05},\"mapbox\":{\"style\":\"light\"}}},\"xaxis\":{\"anchor\":\"y\",\"domain\":[0.0,1.0],\"title\":{\"text\":\"Palavra\"}},\"yaxis\":{\"anchor\":\"x\",\"domain\":[0.0,1.0],\"title\":{\"text\":\"Frequ\\u00eancia\"}},\"legend\":{\"tracegroupgap\":0},\"title\":{\"text\":\"<b>Palavras mais frequentes em </b><b>Tweets </b> <b>Negativos</b> <b>Bolsonaro</b>\"},\"barmode\":\"relative\"},                        {\"responsive\": true}                    ).then(function(){\n",
       "                            \n",
       "var gd = document.getElementById('bad4ab98-e230-4362-a067-0235bf0cefec');\n",
       "var x = new MutationObserver(function (mutations, observer) {{\n",
       "        var display = window.getComputedStyle(gd).display;\n",
       "        if (!display || display === 'none') {{\n",
       "            console.log([gd, 'removed!']);\n",
       "            Plotly.purge(gd);\n",
       "            observer.disconnect();\n",
       "        }}\n",
       "}});\n",
       "\n",
       "// Listen for the removal of the full notebook cells\n",
       "var notebookContainer = gd.closest('#notebook-container');\n",
       "if (notebookContainer) {{\n",
       "    x.observe(notebookContainer, {childList: true});\n",
       "}}\n",
       "\n",
       "// Listen for the clearing of the current output cell\n",
       "var outputEl = gd.closest('.output');\n",
       "if (outputEl) {{\n",
       "    x.observe(outputEl, {childList: true});\n",
       "}}\n",
       "\n",
       "                        })                };                });            </script>        </div>"
      ]
     },
     "metadata": {},
     "output_type": "display_data"
    }
   ],
   "source": [
    "plot_word_freq(tokens_neg,\"<b>Negativos</b>\",\"<b>Bolsonaro</b>\",\"red\")"
   ]
  },
  {
   "cell_type": "code",
   "execution_count": 119,
   "id": "6a3739cc",
   "metadata": {},
   "outputs": [
    {
     "data": {
      "application/vnd.plotly.v1+json": {
       "config": {
        "plotlyServerURL": "https://plot.ly"
       },
       "data": [
        {
         "alignmentgroup": "True",
         "hovertemplate": "Palavra=%{x}<br>Frequência=%{y}<extra></extra>",
         "legendgroup": "",
         "marker": {
          "color": "red",
          "line": {
           "color": "black",
           "width": 1.5
          },
          "pattern": {
           "shape": ""
          }
         },
         "name": "",
         "offsetgroup": "",
         "opacity": 0.6,
         "orientation": "v",
         "showlegend": false,
         "textposition": "auto",
         "type": "bar",
         "x": [
          "bolsonaro",
          "ter",
          "dizer",
          "lula",
          "vc",
          "saber",
          "poder",
          "ir",
          "brasil",
          "q"
         ],
         "xaxis": "x",
         "y": [
          88693,
          59736,
          28259,
          17464,
          13324,
          12404,
          9882,
          8876,
          8578,
          7630
         ],
         "yaxis": "y"
        }
       ],
       "layout": {
        "barmode": "relative",
        "legend": {
         "tracegroupgap": 0
        },
        "template": {
         "data": {
          "bar": [
           {
            "error_x": {
             "color": "#2a3f5f"
            },
            "error_y": {
             "color": "#2a3f5f"
            },
            "marker": {
             "line": {
              "color": "#E5ECF6",
              "width": 0.5
             },
             "pattern": {
              "fillmode": "overlay",
              "size": 10,
              "solidity": 0.2
             }
            },
            "type": "bar"
           }
          ],
          "barpolar": [
           {
            "marker": {
             "line": {
              "color": "#E5ECF6",
              "width": 0.5
             },
             "pattern": {
              "fillmode": "overlay",
              "size": 10,
              "solidity": 0.2
             }
            },
            "type": "barpolar"
           }
          ],
          "carpet": [
           {
            "aaxis": {
             "endlinecolor": "#2a3f5f",
             "gridcolor": "white",
             "linecolor": "white",
             "minorgridcolor": "white",
             "startlinecolor": "#2a3f5f"
            },
            "baxis": {
             "endlinecolor": "#2a3f5f",
             "gridcolor": "white",
             "linecolor": "white",
             "minorgridcolor": "white",
             "startlinecolor": "#2a3f5f"
            },
            "type": "carpet"
           }
          ],
          "choropleth": [
           {
            "colorbar": {
             "outlinewidth": 0,
             "ticks": ""
            },
            "type": "choropleth"
           }
          ],
          "contour": [
           {
            "colorbar": {
             "outlinewidth": 0,
             "ticks": ""
            },
            "colorscale": [
             [
              0,
              "#0d0887"
             ],
             [
              0.1111111111111111,
              "#46039f"
             ],
             [
              0.2222222222222222,
              "#7201a8"
             ],
             [
              0.3333333333333333,
              "#9c179e"
             ],
             [
              0.4444444444444444,
              "#bd3786"
             ],
             [
              0.5555555555555556,
              "#d8576b"
             ],
             [
              0.6666666666666666,
              "#ed7953"
             ],
             [
              0.7777777777777778,
              "#fb9f3a"
             ],
             [
              0.8888888888888888,
              "#fdca26"
             ],
             [
              1,
              "#f0f921"
             ]
            ],
            "type": "contour"
           }
          ],
          "contourcarpet": [
           {
            "colorbar": {
             "outlinewidth": 0,
             "ticks": ""
            },
            "type": "contourcarpet"
           }
          ],
          "heatmap": [
           {
            "colorbar": {
             "outlinewidth": 0,
             "ticks": ""
            },
            "colorscale": [
             [
              0,
              "#0d0887"
             ],
             [
              0.1111111111111111,
              "#46039f"
             ],
             [
              0.2222222222222222,
              "#7201a8"
             ],
             [
              0.3333333333333333,
              "#9c179e"
             ],
             [
              0.4444444444444444,
              "#bd3786"
             ],
             [
              0.5555555555555556,
              "#d8576b"
             ],
             [
              0.6666666666666666,
              "#ed7953"
             ],
             [
              0.7777777777777778,
              "#fb9f3a"
             ],
             [
              0.8888888888888888,
              "#fdca26"
             ],
             [
              1,
              "#f0f921"
             ]
            ],
            "type": "heatmap"
           }
          ],
          "heatmapgl": [
           {
            "colorbar": {
             "outlinewidth": 0,
             "ticks": ""
            },
            "colorscale": [
             [
              0,
              "#0d0887"
             ],
             [
              0.1111111111111111,
              "#46039f"
             ],
             [
              0.2222222222222222,
              "#7201a8"
             ],
             [
              0.3333333333333333,
              "#9c179e"
             ],
             [
              0.4444444444444444,
              "#bd3786"
             ],
             [
              0.5555555555555556,
              "#d8576b"
             ],
             [
              0.6666666666666666,
              "#ed7953"
             ],
             [
              0.7777777777777778,
              "#fb9f3a"
             ],
             [
              0.8888888888888888,
              "#fdca26"
             ],
             [
              1,
              "#f0f921"
             ]
            ],
            "type": "heatmapgl"
           }
          ],
          "histogram": [
           {
            "marker": {
             "pattern": {
              "fillmode": "overlay",
              "size": 10,
              "solidity": 0.2
             }
            },
            "type": "histogram"
           }
          ],
          "histogram2d": [
           {
            "colorbar": {
             "outlinewidth": 0,
             "ticks": ""
            },
            "colorscale": [
             [
              0,
              "#0d0887"
             ],
             [
              0.1111111111111111,
              "#46039f"
             ],
             [
              0.2222222222222222,
              "#7201a8"
             ],
             [
              0.3333333333333333,
              "#9c179e"
             ],
             [
              0.4444444444444444,
              "#bd3786"
             ],
             [
              0.5555555555555556,
              "#d8576b"
             ],
             [
              0.6666666666666666,
              "#ed7953"
             ],
             [
              0.7777777777777778,
              "#fb9f3a"
             ],
             [
              0.8888888888888888,
              "#fdca26"
             ],
             [
              1,
              "#f0f921"
             ]
            ],
            "type": "histogram2d"
           }
          ],
          "histogram2dcontour": [
           {
            "colorbar": {
             "outlinewidth": 0,
             "ticks": ""
            },
            "colorscale": [
             [
              0,
              "#0d0887"
             ],
             [
              0.1111111111111111,
              "#46039f"
             ],
             [
              0.2222222222222222,
              "#7201a8"
             ],
             [
              0.3333333333333333,
              "#9c179e"
             ],
             [
              0.4444444444444444,
              "#bd3786"
             ],
             [
              0.5555555555555556,
              "#d8576b"
             ],
             [
              0.6666666666666666,
              "#ed7953"
             ],
             [
              0.7777777777777778,
              "#fb9f3a"
             ],
             [
              0.8888888888888888,
              "#fdca26"
             ],
             [
              1,
              "#f0f921"
             ]
            ],
            "type": "histogram2dcontour"
           }
          ],
          "mesh3d": [
           {
            "colorbar": {
             "outlinewidth": 0,
             "ticks": ""
            },
            "type": "mesh3d"
           }
          ],
          "parcoords": [
           {
            "line": {
             "colorbar": {
              "outlinewidth": 0,
              "ticks": ""
             }
            },
            "type": "parcoords"
           }
          ],
          "pie": [
           {
            "automargin": true,
            "type": "pie"
           }
          ],
          "scatter": [
           {
            "fillpattern": {
             "fillmode": "overlay",
             "size": 10,
             "solidity": 0.2
            },
            "type": "scatter"
           }
          ],
          "scatter3d": [
           {
            "line": {
             "colorbar": {
              "outlinewidth": 0,
              "ticks": ""
             }
            },
            "marker": {
             "colorbar": {
              "outlinewidth": 0,
              "ticks": ""
             }
            },
            "type": "scatter3d"
           }
          ],
          "scattercarpet": [
           {
            "marker": {
             "colorbar": {
              "outlinewidth": 0,
              "ticks": ""
             }
            },
            "type": "scattercarpet"
           }
          ],
          "scattergeo": [
           {
            "marker": {
             "colorbar": {
              "outlinewidth": 0,
              "ticks": ""
             }
            },
            "type": "scattergeo"
           }
          ],
          "scattergl": [
           {
            "marker": {
             "colorbar": {
              "outlinewidth": 0,
              "ticks": ""
             }
            },
            "type": "scattergl"
           }
          ],
          "scattermapbox": [
           {
            "marker": {
             "colorbar": {
              "outlinewidth": 0,
              "ticks": ""
             }
            },
            "type": "scattermapbox"
           }
          ],
          "scatterpolar": [
           {
            "marker": {
             "colorbar": {
              "outlinewidth": 0,
              "ticks": ""
             }
            },
            "type": "scatterpolar"
           }
          ],
          "scatterpolargl": [
           {
            "marker": {
             "colorbar": {
              "outlinewidth": 0,
              "ticks": ""
             }
            },
            "type": "scatterpolargl"
           }
          ],
          "scatterternary": [
           {
            "marker": {
             "colorbar": {
              "outlinewidth": 0,
              "ticks": ""
             }
            },
            "type": "scatterternary"
           }
          ],
          "surface": [
           {
            "colorbar": {
             "outlinewidth": 0,
             "ticks": ""
            },
            "colorscale": [
             [
              0,
              "#0d0887"
             ],
             [
              0.1111111111111111,
              "#46039f"
             ],
             [
              0.2222222222222222,
              "#7201a8"
             ],
             [
              0.3333333333333333,
              "#9c179e"
             ],
             [
              0.4444444444444444,
              "#bd3786"
             ],
             [
              0.5555555555555556,
              "#d8576b"
             ],
             [
              0.6666666666666666,
              "#ed7953"
             ],
             [
              0.7777777777777778,
              "#fb9f3a"
             ],
             [
              0.8888888888888888,
              "#fdca26"
             ],
             [
              1,
              "#f0f921"
             ]
            ],
            "type": "surface"
           }
          ],
          "table": [
           {
            "cells": {
             "fill": {
              "color": "#EBF0F8"
             },
             "line": {
              "color": "white"
             }
            },
            "header": {
             "fill": {
              "color": "#C8D4E3"
             },
             "line": {
              "color": "white"
             }
            },
            "type": "table"
           }
          ]
         },
         "layout": {
          "annotationdefaults": {
           "arrowcolor": "#2a3f5f",
           "arrowhead": 0,
           "arrowwidth": 1
          },
          "autotypenumbers": "strict",
          "coloraxis": {
           "colorbar": {
            "outlinewidth": 0,
            "ticks": ""
           }
          },
          "colorscale": {
           "diverging": [
            [
             0,
             "#8e0152"
            ],
            [
             0.1,
             "#c51b7d"
            ],
            [
             0.2,
             "#de77ae"
            ],
            [
             0.3,
             "#f1b6da"
            ],
            [
             0.4,
             "#fde0ef"
            ],
            [
             0.5,
             "#f7f7f7"
            ],
            [
             0.6,
             "#e6f5d0"
            ],
            [
             0.7,
             "#b8e186"
            ],
            [
             0.8,
             "#7fbc41"
            ],
            [
             0.9,
             "#4d9221"
            ],
            [
             1,
             "#276419"
            ]
           ],
           "sequential": [
            [
             0,
             "#0d0887"
            ],
            [
             0.1111111111111111,
             "#46039f"
            ],
            [
             0.2222222222222222,
             "#7201a8"
            ],
            [
             0.3333333333333333,
             "#9c179e"
            ],
            [
             0.4444444444444444,
             "#bd3786"
            ],
            [
             0.5555555555555556,
             "#d8576b"
            ],
            [
             0.6666666666666666,
             "#ed7953"
            ],
            [
             0.7777777777777778,
             "#fb9f3a"
            ],
            [
             0.8888888888888888,
             "#fdca26"
            ],
            [
             1,
             "#f0f921"
            ]
           ],
           "sequentialminus": [
            [
             0,
             "#0d0887"
            ],
            [
             0.1111111111111111,
             "#46039f"
            ],
            [
             0.2222222222222222,
             "#7201a8"
            ],
            [
             0.3333333333333333,
             "#9c179e"
            ],
            [
             0.4444444444444444,
             "#bd3786"
            ],
            [
             0.5555555555555556,
             "#d8576b"
            ],
            [
             0.6666666666666666,
             "#ed7953"
            ],
            [
             0.7777777777777778,
             "#fb9f3a"
            ],
            [
             0.8888888888888888,
             "#fdca26"
            ],
            [
             1,
             "#f0f921"
            ]
           ]
          },
          "colorway": [
           "#636efa",
           "#EF553B",
           "#00cc96",
           "#ab63fa",
           "#FFA15A",
           "#19d3f3",
           "#FF6692",
           "#B6E880",
           "#FF97FF",
           "#FECB52"
          ],
          "font": {
           "color": "#2a3f5f"
          },
          "geo": {
           "bgcolor": "white",
           "lakecolor": "white",
           "landcolor": "#E5ECF6",
           "showlakes": true,
           "showland": true,
           "subunitcolor": "white"
          },
          "hoverlabel": {
           "align": "left"
          },
          "hovermode": "closest",
          "mapbox": {
           "style": "light"
          },
          "paper_bgcolor": "white",
          "plot_bgcolor": "#E5ECF6",
          "polar": {
           "angularaxis": {
            "gridcolor": "white",
            "linecolor": "white",
            "ticks": ""
           },
           "bgcolor": "#E5ECF6",
           "radialaxis": {
            "gridcolor": "white",
            "linecolor": "white",
            "ticks": ""
           }
          },
          "scene": {
           "xaxis": {
            "backgroundcolor": "#E5ECF6",
            "gridcolor": "white",
            "gridwidth": 2,
            "linecolor": "white",
            "showbackground": true,
            "ticks": "",
            "zerolinecolor": "white"
           },
           "yaxis": {
            "backgroundcolor": "#E5ECF6",
            "gridcolor": "white",
            "gridwidth": 2,
            "linecolor": "white",
            "showbackground": true,
            "ticks": "",
            "zerolinecolor": "white"
           },
           "zaxis": {
            "backgroundcolor": "#E5ECF6",
            "gridcolor": "white",
            "gridwidth": 2,
            "linecolor": "white",
            "showbackground": true,
            "ticks": "",
            "zerolinecolor": "white"
           }
          },
          "shapedefaults": {
           "line": {
            "color": "#2a3f5f"
           }
          },
          "ternary": {
           "aaxis": {
            "gridcolor": "white",
            "linecolor": "white",
            "ticks": ""
           },
           "baxis": {
            "gridcolor": "white",
            "linecolor": "white",
            "ticks": ""
           },
           "bgcolor": "#E5ECF6",
           "caxis": {
            "gridcolor": "white",
            "linecolor": "white",
            "ticks": ""
           }
          },
          "title": {
           "x": 0.05
          },
          "xaxis": {
           "automargin": true,
           "gridcolor": "white",
           "linecolor": "white",
           "ticks": "",
           "title": {
            "standoff": 15
           },
           "zerolinecolor": "white",
           "zerolinewidth": 2
          },
          "yaxis": {
           "automargin": true,
           "gridcolor": "white",
           "linecolor": "white",
           "ticks": "",
           "title": {
            "standoff": 15
           },
           "zerolinecolor": "white",
           "zerolinewidth": 2
          }
         }
        },
        "title": {
         "text": "<b>Palavras mais frequentes em </b><b>Tweets </b> <b>Neutros</b> <b>Bolsonaro</b>"
        },
        "xaxis": {
         "anchor": "y",
         "domain": [
          0,
          1
         ],
         "title": {
          "text": "Palavra"
         }
        },
        "yaxis": {
         "anchor": "x",
         "domain": [
          0,
          1
         ],
         "title": {
          "text": "Frequência"
         }
        }
       }
      },
      "text/html": [
       "<div>                            <div id=\"99aff895-c88c-4086-a791-5f014e432602\" class=\"plotly-graph-div\" style=\"height:525px; width:100%;\"></div>            <script type=\"text/javascript\">                require([\"plotly\"], function(Plotly) {                    window.PLOTLYENV=window.PLOTLYENV || {};                                    if (document.getElementById(\"99aff895-c88c-4086-a791-5f014e432602\")) {                    Plotly.newPlot(                        \"99aff895-c88c-4086-a791-5f014e432602\",                        [{\"alignmentgroup\":\"True\",\"hovertemplate\":\"Palavra=%{x}<br>Frequ\\u00eancia=%{y}<extra></extra>\",\"legendgroup\":\"\",\"marker\":{\"color\":\"red\",\"pattern\":{\"shape\":\"\"},\"line\":{\"color\":\"black\",\"width\":1.5}},\"name\":\"\",\"offsetgroup\":\"\",\"orientation\":\"v\",\"showlegend\":false,\"textposition\":\"auto\",\"x\":[\"bolsonaro\",\"ter\",\"dizer\",\"lula\",\"vc\",\"saber\",\"poder\",\"ir\",\"brasil\",\"q\"],\"xaxis\":\"x\",\"y\":[88693,59736,28259,17464,13324,12404,9882,8876,8578,7630],\"yaxis\":\"y\",\"type\":\"bar\",\"opacity\":0.6}],                        {\"template\":{\"data\":{\"histogram2dcontour\":[{\"type\":\"histogram2dcontour\",\"colorbar\":{\"outlinewidth\":0,\"ticks\":\"\"},\"colorscale\":[[0.0,\"#0d0887\"],[0.1111111111111111,\"#46039f\"],[0.2222222222222222,\"#7201a8\"],[0.3333333333333333,\"#9c179e\"],[0.4444444444444444,\"#bd3786\"],[0.5555555555555556,\"#d8576b\"],[0.6666666666666666,\"#ed7953\"],[0.7777777777777778,\"#fb9f3a\"],[0.8888888888888888,\"#fdca26\"],[1.0,\"#f0f921\"]]}],\"choropleth\":[{\"type\":\"choropleth\",\"colorbar\":{\"outlinewidth\":0,\"ticks\":\"\"}}],\"histogram2d\":[{\"type\":\"histogram2d\",\"colorbar\":{\"outlinewidth\":0,\"ticks\":\"\"},\"colorscale\":[[0.0,\"#0d0887\"],[0.1111111111111111,\"#46039f\"],[0.2222222222222222,\"#7201a8\"],[0.3333333333333333,\"#9c179e\"],[0.4444444444444444,\"#bd3786\"],[0.5555555555555556,\"#d8576b\"],[0.6666666666666666,\"#ed7953\"],[0.7777777777777778,\"#fb9f3a\"],[0.8888888888888888,\"#fdca26\"],[1.0,\"#f0f921\"]]}],\"heatmap\":[{\"type\":\"heatmap\",\"colorbar\":{\"outlinewidth\":0,\"ticks\":\"\"},\"colorscale\":[[0.0,\"#0d0887\"],[0.1111111111111111,\"#46039f\"],[0.2222222222222222,\"#7201a8\"],[0.3333333333333333,\"#9c179e\"],[0.4444444444444444,\"#bd3786\"],[0.5555555555555556,\"#d8576b\"],[0.6666666666666666,\"#ed7953\"],[0.7777777777777778,\"#fb9f3a\"],[0.8888888888888888,\"#fdca26\"],[1.0,\"#f0f921\"]]}],\"heatmapgl\":[{\"type\":\"heatmapgl\",\"colorbar\":{\"outlinewidth\":0,\"ticks\":\"\"},\"colorscale\":[[0.0,\"#0d0887\"],[0.1111111111111111,\"#46039f\"],[0.2222222222222222,\"#7201a8\"],[0.3333333333333333,\"#9c179e\"],[0.4444444444444444,\"#bd3786\"],[0.5555555555555556,\"#d8576b\"],[0.6666666666666666,\"#ed7953\"],[0.7777777777777778,\"#fb9f3a\"],[0.8888888888888888,\"#fdca26\"],[1.0,\"#f0f921\"]]}],\"contourcarpet\":[{\"type\":\"contourcarpet\",\"colorbar\":{\"outlinewidth\":0,\"ticks\":\"\"}}],\"contour\":[{\"type\":\"contour\",\"colorbar\":{\"outlinewidth\":0,\"ticks\":\"\"},\"colorscale\":[[0.0,\"#0d0887\"],[0.1111111111111111,\"#46039f\"],[0.2222222222222222,\"#7201a8\"],[0.3333333333333333,\"#9c179e\"],[0.4444444444444444,\"#bd3786\"],[0.5555555555555556,\"#d8576b\"],[0.6666666666666666,\"#ed7953\"],[0.7777777777777778,\"#fb9f3a\"],[0.8888888888888888,\"#fdca26\"],[1.0,\"#f0f921\"]]}],\"surface\":[{\"type\":\"surface\",\"colorbar\":{\"outlinewidth\":0,\"ticks\":\"\"},\"colorscale\":[[0.0,\"#0d0887\"],[0.1111111111111111,\"#46039f\"],[0.2222222222222222,\"#7201a8\"],[0.3333333333333333,\"#9c179e\"],[0.4444444444444444,\"#bd3786\"],[0.5555555555555556,\"#d8576b\"],[0.6666666666666666,\"#ed7953\"],[0.7777777777777778,\"#fb9f3a\"],[0.8888888888888888,\"#fdca26\"],[1.0,\"#f0f921\"]]}],\"mesh3d\":[{\"type\":\"mesh3d\",\"colorbar\":{\"outlinewidth\":0,\"ticks\":\"\"}}],\"scatter\":[{\"fillpattern\":{\"fillmode\":\"overlay\",\"size\":10,\"solidity\":0.2},\"type\":\"scatter\"}],\"parcoords\":[{\"type\":\"parcoords\",\"line\":{\"colorbar\":{\"outlinewidth\":0,\"ticks\":\"\"}}}],\"scatterpolargl\":[{\"type\":\"scatterpolargl\",\"marker\":{\"colorbar\":{\"outlinewidth\":0,\"ticks\":\"\"}}}],\"bar\":[{\"error_x\":{\"color\":\"#2a3f5f\"},\"error_y\":{\"color\":\"#2a3f5f\"},\"marker\":{\"line\":{\"color\":\"#E5ECF6\",\"width\":0.5},\"pattern\":{\"fillmode\":\"overlay\",\"size\":10,\"solidity\":0.2}},\"type\":\"bar\"}],\"scattergeo\":[{\"type\":\"scattergeo\",\"marker\":{\"colorbar\":{\"outlinewidth\":0,\"ticks\":\"\"}}}],\"scatterpolar\":[{\"type\":\"scatterpolar\",\"marker\":{\"colorbar\":{\"outlinewidth\":0,\"ticks\":\"\"}}}],\"histogram\":[{\"marker\":{\"pattern\":{\"fillmode\":\"overlay\",\"size\":10,\"solidity\":0.2}},\"type\":\"histogram\"}],\"scattergl\":[{\"type\":\"scattergl\",\"marker\":{\"colorbar\":{\"outlinewidth\":0,\"ticks\":\"\"}}}],\"scatter3d\":[{\"type\":\"scatter3d\",\"line\":{\"colorbar\":{\"outlinewidth\":0,\"ticks\":\"\"}},\"marker\":{\"colorbar\":{\"outlinewidth\":0,\"ticks\":\"\"}}}],\"scattermapbox\":[{\"type\":\"scattermapbox\",\"marker\":{\"colorbar\":{\"outlinewidth\":0,\"ticks\":\"\"}}}],\"scatterternary\":[{\"type\":\"scatterternary\",\"marker\":{\"colorbar\":{\"outlinewidth\":0,\"ticks\":\"\"}}}],\"scattercarpet\":[{\"type\":\"scattercarpet\",\"marker\":{\"colorbar\":{\"outlinewidth\":0,\"ticks\":\"\"}}}],\"carpet\":[{\"aaxis\":{\"endlinecolor\":\"#2a3f5f\",\"gridcolor\":\"white\",\"linecolor\":\"white\",\"minorgridcolor\":\"white\",\"startlinecolor\":\"#2a3f5f\"},\"baxis\":{\"endlinecolor\":\"#2a3f5f\",\"gridcolor\":\"white\",\"linecolor\":\"white\",\"minorgridcolor\":\"white\",\"startlinecolor\":\"#2a3f5f\"},\"type\":\"carpet\"}],\"table\":[{\"cells\":{\"fill\":{\"color\":\"#EBF0F8\"},\"line\":{\"color\":\"white\"}},\"header\":{\"fill\":{\"color\":\"#C8D4E3\"},\"line\":{\"color\":\"white\"}},\"type\":\"table\"}],\"barpolar\":[{\"marker\":{\"line\":{\"color\":\"#E5ECF6\",\"width\":0.5},\"pattern\":{\"fillmode\":\"overlay\",\"size\":10,\"solidity\":0.2}},\"type\":\"barpolar\"}],\"pie\":[{\"automargin\":true,\"type\":\"pie\"}]},\"layout\":{\"autotypenumbers\":\"strict\",\"colorway\":[\"#636efa\",\"#EF553B\",\"#00cc96\",\"#ab63fa\",\"#FFA15A\",\"#19d3f3\",\"#FF6692\",\"#B6E880\",\"#FF97FF\",\"#FECB52\"],\"font\":{\"color\":\"#2a3f5f\"},\"hovermode\":\"closest\",\"hoverlabel\":{\"align\":\"left\"},\"paper_bgcolor\":\"white\",\"plot_bgcolor\":\"#E5ECF6\",\"polar\":{\"bgcolor\":\"#E5ECF6\",\"angularaxis\":{\"gridcolor\":\"white\",\"linecolor\":\"white\",\"ticks\":\"\"},\"radialaxis\":{\"gridcolor\":\"white\",\"linecolor\":\"white\",\"ticks\":\"\"}},\"ternary\":{\"bgcolor\":\"#E5ECF6\",\"aaxis\":{\"gridcolor\":\"white\",\"linecolor\":\"white\",\"ticks\":\"\"},\"baxis\":{\"gridcolor\":\"white\",\"linecolor\":\"white\",\"ticks\":\"\"},\"caxis\":{\"gridcolor\":\"white\",\"linecolor\":\"white\",\"ticks\":\"\"}},\"coloraxis\":{\"colorbar\":{\"outlinewidth\":0,\"ticks\":\"\"}},\"colorscale\":{\"sequential\":[[0.0,\"#0d0887\"],[0.1111111111111111,\"#46039f\"],[0.2222222222222222,\"#7201a8\"],[0.3333333333333333,\"#9c179e\"],[0.4444444444444444,\"#bd3786\"],[0.5555555555555556,\"#d8576b\"],[0.6666666666666666,\"#ed7953\"],[0.7777777777777778,\"#fb9f3a\"],[0.8888888888888888,\"#fdca26\"],[1.0,\"#f0f921\"]],\"sequentialminus\":[[0.0,\"#0d0887\"],[0.1111111111111111,\"#46039f\"],[0.2222222222222222,\"#7201a8\"],[0.3333333333333333,\"#9c179e\"],[0.4444444444444444,\"#bd3786\"],[0.5555555555555556,\"#d8576b\"],[0.6666666666666666,\"#ed7953\"],[0.7777777777777778,\"#fb9f3a\"],[0.8888888888888888,\"#fdca26\"],[1.0,\"#f0f921\"]],\"diverging\":[[0,\"#8e0152\"],[0.1,\"#c51b7d\"],[0.2,\"#de77ae\"],[0.3,\"#f1b6da\"],[0.4,\"#fde0ef\"],[0.5,\"#f7f7f7\"],[0.6,\"#e6f5d0\"],[0.7,\"#b8e186\"],[0.8,\"#7fbc41\"],[0.9,\"#4d9221\"],[1,\"#276419\"]]},\"xaxis\":{\"gridcolor\":\"white\",\"linecolor\":\"white\",\"ticks\":\"\",\"title\":{\"standoff\":15},\"zerolinecolor\":\"white\",\"automargin\":true,\"zerolinewidth\":2},\"yaxis\":{\"gridcolor\":\"white\",\"linecolor\":\"white\",\"ticks\":\"\",\"title\":{\"standoff\":15},\"zerolinecolor\":\"white\",\"automargin\":true,\"zerolinewidth\":2},\"scene\":{\"xaxis\":{\"backgroundcolor\":\"#E5ECF6\",\"gridcolor\":\"white\",\"linecolor\":\"white\",\"showbackground\":true,\"ticks\":\"\",\"zerolinecolor\":\"white\",\"gridwidth\":2},\"yaxis\":{\"backgroundcolor\":\"#E5ECF6\",\"gridcolor\":\"white\",\"linecolor\":\"white\",\"showbackground\":true,\"ticks\":\"\",\"zerolinecolor\":\"white\",\"gridwidth\":2},\"zaxis\":{\"backgroundcolor\":\"#E5ECF6\",\"gridcolor\":\"white\",\"linecolor\":\"white\",\"showbackground\":true,\"ticks\":\"\",\"zerolinecolor\":\"white\",\"gridwidth\":2}},\"shapedefaults\":{\"line\":{\"color\":\"#2a3f5f\"}},\"annotationdefaults\":{\"arrowcolor\":\"#2a3f5f\",\"arrowhead\":0,\"arrowwidth\":1},\"geo\":{\"bgcolor\":\"white\",\"landcolor\":\"#E5ECF6\",\"subunitcolor\":\"white\",\"showland\":true,\"showlakes\":true,\"lakecolor\":\"white\"},\"title\":{\"x\":0.05},\"mapbox\":{\"style\":\"light\"}}},\"xaxis\":{\"anchor\":\"y\",\"domain\":[0.0,1.0],\"title\":{\"text\":\"Palavra\"}},\"yaxis\":{\"anchor\":\"x\",\"domain\":[0.0,1.0],\"title\":{\"text\":\"Frequ\\u00eancia\"}},\"legend\":{\"tracegroupgap\":0},\"title\":{\"text\":\"<b>Palavras mais frequentes em </b><b>Tweets </b> <b>Neutros</b> <b>Bolsonaro</b>\"},\"barmode\":\"relative\"},                        {\"responsive\": true}                    ).then(function(){\n",
       "                            \n",
       "var gd = document.getElementById('99aff895-c88c-4086-a791-5f014e432602');\n",
       "var x = new MutationObserver(function (mutations, observer) {{\n",
       "        var display = window.getComputedStyle(gd).display;\n",
       "        if (!display || display === 'none') {{\n",
       "            console.log([gd, 'removed!']);\n",
       "            Plotly.purge(gd);\n",
       "            observer.disconnect();\n",
       "        }}\n",
       "}});\n",
       "\n",
       "// Listen for the removal of the full notebook cells\n",
       "var notebookContainer = gd.closest('#notebook-container');\n",
       "if (notebookContainer) {{\n",
       "    x.observe(notebookContainer, {childList: true});\n",
       "}}\n",
       "\n",
       "// Listen for the clearing of the current output cell\n",
       "var outputEl = gd.closest('.output');\n",
       "if (outputEl) {{\n",
       "    x.observe(outputEl, {childList: true});\n",
       "}}\n",
       "\n",
       "                        })                };                });            </script>        </div>"
      ]
     },
     "metadata": {},
     "output_type": "display_data"
    }
   ],
   "source": [
    "plot_word_freq(tokens_neu,\"<b>Neutros</b>\",\"<b>Bolsonaro</b>\",\"red\")"
   ]
  },
  {
   "cell_type": "code",
   "execution_count": 148,
   "id": "fbcb5cf6",
   "metadata": {},
   "outputs": [],
   "source": [
    "# Function to generate word cloud\n",
    "def create_wordcloud(words):\n",
    "    \n",
    "    # create wordcloud\n",
    "    wordcloud = WordCloud(max_font_size=256, max_words=100, \n",
    "                          background_color=\"white\",\n",
    "                          collocations=False, \n",
    "                          width=2000, height=1000).generate(words)\n",
    "\n",
    "    # display the generated image\n",
    "    plt.figure(1,figsize=(13, 13))\n",
    "    plt.imshow(wordcloud, interpolation='bilinear')\n",
    "    plt.axis(\"off\")\n",
    "    plt.show()"
   ]
  },
  {
   "cell_type": "code",
   "execution_count": 149,
   "id": "09259035",
   "metadata": {
    "scrolled": false
   },
   "outputs": [
    {
     "data": {
      "image/png": "[encoded data removed]",
      "text/plain": [
       "<Figure size 936x936 with 1 Axes>"
      ]
     },
     "metadata": {
      "needs_background": "light"
     },
     "output_type": "display_data"
    }
   ],
   "source": [
    "create_wordcloud(words)"
   ]
  },
  {
   "cell_type": "code",
   "execution_count": 122,
   "id": "80c7a87e",
   "metadata": {},
   "outputs": [],
   "source": [
    "#values= df_b.groupby(['User_city', 'predict'])['predict'].count()"
   ]
  },
  {
   "cell_type": "code",
   "execution_count": 123,
   "id": "fbfea431",
   "metadata": {},
   "outputs": [],
   "source": [
    "#Separar valores data\n",
    "\n",
    "def encode_dates(df, column):\n",
    "    df = df.copy()\n",
    "    df[column] = pd.to_datetime(df[column], format='%Y-%m-%d')\n",
    "    df[column + '_year'] = df[column].apply(lambda x: x.year)\n",
    "    df[column + '_month'] = df[column].apply(lambda x: x.month)\n",
    "    df[column + '_day'] = df[column].apply(lambda x: x.day)\n",
    "     df[column + '_day'] = df[column].apply(lambda x: x.)\n",
    "    df = df.drop(column, axis=1)\n",
    "    return df\n"
   ]
  },
  {
   "cell_type": "code",
   "execution_count": 124,
   "id": "da8abffb",
   "metadata": {},
   "outputs": [],
   "source": [
    "df_b= encode_dates(df_b, column='Date_Created')"
   ]
  },
  {
   "cell_type": "code",
   "execution_count": 125,
   "id": "05837a12",
   "metadata": {},
   "outputs": [],
   "source": [
    "df_b['User_state']= df_b['User_Location'].str.split(',',n=1, expand=True)[1]"
   ]
  },
  {
   "cell_type": "code",
   "execution_count": 126,
   "id": "3210d447",
   "metadata": {},
   "outputs": [],
   "source": [
    "df_b['User_city']= df_b['User_Location'].str.split(',',n=1, expand=True)[0]"
   ]
  },
  {
   "cell_type": "code",
   "execution_count": 128,
   "id": "5cc6365a",
   "metadata": {},
   "outputs": [
    {
     "data": {
      "text/html": [
       "<div>\n",
       "<style scoped>\n",
       "    .dataframe tbody tr th:only-of-type {\n",
       "        vertical-align: middle;\n",
       "    }\n",
       "\n",
       "    .dataframe tbody tr th {\n",
       "        vertical-align: top;\n",
       "    }\n",
       "\n",
       "    .dataframe thead th {\n",
       "        text-align: right;\n",
       "    }\n",
       "</style>\n",
       "<table border=\"1\" class=\"dataframe\">\n",
       "  <thead>\n",
       "    <tr style=\"text-align: right;\">\n",
       "      <th></th>\n",
       "      <th>Tweet_ID</th>\n",
       "      <th>Tweet_Text</th>\n",
       "      <th>Created_at</th>\n",
       "      <th>Tweet_Geo</th>\n",
       "      <th>User_Name</th>\n",
       "      <th>User_Location</th>\n",
       "      <th>Time_Created</th>\n",
       "      <th>Text_Final</th>\n",
       "      <th>predict</th>\n",
       "      <th>Date_Created_year</th>\n",
       "      <th>Date_Created_month</th>\n",
       "      <th>Date_Created_day</th>\n",
       "      <th>User_state</th>\n",
       "      <th>User_city</th>\n",
       "    </tr>\n",
       "  </thead>\n",
       "  <tbody>\n",
       "    <tr>\n",
       "      <th>0</th>\n",
       "      <td>1558402223272517632</td>\n",
       "      <td>[lula, bolsonaro, coisa, corrupto, incompetent...</td>\n",
       "      <td>2022-08-13 07:36:58-03:00</td>\n",
       "      <td>NaN</td>\n",
       "      <td>Arthur J. F. Braga</td>\n",
       "      <td>NaN</td>\n",
       "      <td>07:36:58</td>\n",
       "      <td>['lula', 'bolsonaro', 'coisa', 'corrupto', 'in...</td>\n",
       "      <td>positivo</td>\n",
       "      <td>2022</td>\n",
       "      <td>8</td>\n",
       "      <td>13</td>\n",
       "      <td>NaN</td>\n",
       "      <td>NaN</td>\n",
       "    </tr>\n",
       "    <tr>\n",
       "      <th>1</th>\n",
       "      <td>1558402221531959296</td>\n",
       "      <td>[bolsonaro, manifestar, sobre, fake, news, ter...</td>\n",
       "      <td>2022-08-13 07:36:57-03:00</td>\n",
       "      <td>NaN</td>\n",
       "      <td>Jacinto Sorato (Zorat)</td>\n",
       "      <td>Santa Fé do Sul, Brasil</td>\n",
       "      <td>07:36:57</td>\n",
       "      <td>['bolsonaro', 'manifestar', 'sobre', 'fake', '...</td>\n",
       "      <td>positivo</td>\n",
       "      <td>2022</td>\n",
       "      <td>8</td>\n",
       "      <td>13</td>\n",
       "      <td>Brasil</td>\n",
       "      <td>Santa Fé do Sul</td>\n",
       "    </tr>\n",
       "    <tr>\n",
       "      <th>2</th>\n",
       "      <td>1558402219875115008</td>\n",
       "      <td>[jornalista, dar, notícia, dizer, bolsonaro, r...</td>\n",
       "      <td>2022-08-13 07:36:57-03:00</td>\n",
       "      <td>NaN</td>\n",
       "      <td>Cristina Oliveira</td>\n",
       "      <td>Florianópolis</td>\n",
       "      <td>07:36:57</td>\n",
       "      <td>['jornalista', 'dar', 'notícia', 'dizer', 'bol...</td>\n",
       "      <td>neutro</td>\n",
       "      <td>2022</td>\n",
       "      <td>8</td>\n",
       "      <td>13</td>\n",
       "      <td>None</td>\n",
       "      <td>Florianópolis</td>\n",
       "    </tr>\n",
       "    <tr>\n",
       "      <th>3</th>\n",
       "      <td>1558402198731689991</td>\n",
       "      <td>[acreditar, fake, news, bolsonaro, esposa, alm...</td>\n",
       "      <td>2022-08-13 07:36:52-03:00</td>\n",
       "      <td>NaN</td>\n",
       "      <td>camila</td>\n",
       "      <td>NaN</td>\n",
       "      <td>07:36:52</td>\n",
       "      <td>['acreditar', 'fake', 'news', 'bolsonaro', 'es...</td>\n",
       "      <td>positivo</td>\n",
       "      <td>2022</td>\n",
       "      <td>8</td>\n",
       "      <td>13</td>\n",
       "      <td>NaN</td>\n",
       "      <td>NaN</td>\n",
       "    </tr>\n",
       "    <tr>\n",
       "      <th>4</th>\n",
       "      <td>1558402180436172800</td>\n",
       "      <td>[bom, bolsonaro, lula, porquê]</td>\n",
       "      <td>2022-08-13 07:36:48-03:00</td>\n",
       "      <td>NaN</td>\n",
       "      <td>Akemi</td>\n",
       "      <td>NaN</td>\n",
       "      <td>07:36:48</td>\n",
       "      <td>['bom', 'bolsonaro', 'lula', 'porquê']</td>\n",
       "      <td>positivo</td>\n",
       "      <td>2022</td>\n",
       "      <td>8</td>\n",
       "      <td>13</td>\n",
       "      <td>NaN</td>\n",
       "      <td>NaN</td>\n",
       "    </tr>\n",
       "  </tbody>\n",
       "</table>\n",
       "</div>"
      ],
      "text/plain": [
       "              Tweet_ID                                         Tweet_Text  \\\n",
       "0  1558402223272517632  [lula, bolsonaro, coisa, corrupto, incompetent...   \n",
       "1  1558402221531959296  [bolsonaro, manifestar, sobre, fake, news, ter...   \n",
       "2  1558402219875115008  [jornalista, dar, notícia, dizer, bolsonaro, r...   \n",
       "3  1558402198731689991  [acreditar, fake, news, bolsonaro, esposa, alm...   \n",
       "4  1558402180436172800                     [bom, bolsonaro, lula, porquê]   \n",
       "\n",
       "                 Created_at Tweet_Geo               User_Name  \\\n",
       "0 2022-08-13 07:36:58-03:00       NaN      Arthur J. F. Braga   \n",
       "1 2022-08-13 07:36:57-03:00       NaN  Jacinto Sorato (Zorat)   \n",
       "2 2022-08-13 07:36:57-03:00       NaN       Cristina Oliveira   \n",
       "3 2022-08-13 07:36:52-03:00       NaN                  camila   \n",
       "4 2022-08-13 07:36:48-03:00       NaN                   Akemi   \n",
       "\n",
       "             User_Location Time_Created  \\\n",
       "0                      NaN     07:36:58   \n",
       "1  Santa Fé do Sul, Brasil     07:36:57   \n",
       "2            Florianópolis     07:36:57   \n",
       "3                      NaN     07:36:52   \n",
       "4                      NaN     07:36:48   \n",
       "\n",
       "                                          Text_Final   predict  \\\n",
       "0  ['lula', 'bolsonaro', 'coisa', 'corrupto', 'in...  positivo   \n",
       "1  ['bolsonaro', 'manifestar', 'sobre', 'fake', '...  positivo   \n",
       "2  ['jornalista', 'dar', 'notícia', 'dizer', 'bol...    neutro   \n",
       "3  ['acreditar', 'fake', 'news', 'bolsonaro', 'es...  positivo   \n",
       "4             ['bom', 'bolsonaro', 'lula', 'porquê']  positivo   \n",
       "\n",
       "   Date_Created_year  Date_Created_month  Date_Created_day User_state  \\\n",
       "0               2022                   8                13        NaN   \n",
       "1               2022                   8                13     Brasil   \n",
       "2               2022                   8                13       None   \n",
       "3               2022                   8                13        NaN   \n",
       "4               2022                   8                13        NaN   \n",
       "\n",
       "         User_city  \n",
       "0              NaN  \n",
       "1  Santa Fé do Sul  \n",
       "2    Florianópolis  \n",
       "3              NaN  \n",
       "4              NaN  "
      ]
     },
     "execution_count": 128,
     "metadata": {},
     "output_type": "execute_result"
    }
   ],
   "source": [
    "df_b.head()"
   ]
  },
  {
   "cell_type": "code",
   "execution_count": 129,
   "id": "fda388be",
   "metadata": {},
   "outputs": [],
   "source": [
    "Tweets_d= df_b.groupby(['Created_at', 'predict']).count().reset_index()"
   ]
  },
  {
   "cell_type": "code",
   "execution_count": 130,
   "id": "ea32f776",
   "metadata": {},
   "outputs": [
    {
     "data": {
      "image/png": "[encoded data removed]",
      "text/plain": [
       "<Figure size 432x288 with 1 Axes>"
      ]
     },
     "metadata": {
      "needs_background": "light"
     },
     "output_type": "display_data"
    }
   ],
   "source": [
    "plot1= sns.lineplot(x = \"Created_at\", y = 'Tweet_ID', hue='predict', data = Tweets_d)\n",
    "plot1.set(xlabel='Dia', ylabel='Número de Tweets')\n",
    "plot1. set_title('Tweets Diários')\n",
    "plt.show()\n"
   ]
  },
  {
   "cell_type": "code",
   "execution_count": 97,
   "id": "eb380979",
   "metadata": {},
   "outputs": [],
   "source": [
    "Tweets_l= df_b.groupby(['User_state', 'predict']).count().reset_index()"
   ]
  },
  {
   "cell_type": "code",
   "execution_count": null,
   "id": "f2c2aa41",
   "metadata": {},
   "outputs": [],
   "source": []
  }
 ],
 "metadata": {
  "kernelspec": {
   "display_name": "Python 3",
   "language": "python",
   "name": "python3"
  },
  "language_info": {
   "codemirror_mode": {
    "name": "ipython",
    "version": 3
   },
   "file_extension": ".py",
   "mimetype": "text/x-python",
   "name": "python",
   "nbconvert_exporter": "python",
   "pygments_lexer": "ipython3",
   "version": "3.8.8"
  }
 },
 "nbformat": 4,
 "nbformat_minor": 5
}
